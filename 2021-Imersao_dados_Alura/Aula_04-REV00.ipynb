{
 "cells": [
  {
   "cell_type": "markdown",
   "metadata": {
    "id": "V_J41hklF-mr"
   },
   "source": [
    "# Aula 01"
   ]
  },
  {
   "cell_type": "code",
   "execution_count": 1,
   "metadata": {
    "colab": {
     "base_uri": "https://localhost:8080/"
    },
    "id": "n4nsCvloshsm",
    "outputId": "014662a8-adf1-4278-a23d-0c1b66ff4c9f"
   },
   "outputs": [
    {
     "data": {
      "text/html": [
       "<div>\n",
       "<style scoped>\n",
       "    .dataframe tbody tr th:only-of-type {\n",
       "        vertical-align: middle;\n",
       "    }\n",
       "\n",
       "    .dataframe tbody tr th {\n",
       "        vertical-align: top;\n",
       "    }\n",
       "\n",
       "    .dataframe thead th {\n",
       "        text-align: right;\n",
       "    }\n",
       "</style>\n",
       "<table border=\"1\" class=\"dataframe\">\n",
       "  <thead>\n",
       "    <tr style=\"text-align: right;\">\n",
       "      <th></th>\n",
       "      <th>id</th>\n",
       "      <th>tratamento</th>\n",
       "      <th>tempo</th>\n",
       "      <th>dose</th>\n",
       "      <th>droga</th>\n",
       "      <th>g-0</th>\n",
       "      <th>g-1</th>\n",
       "      <th>g-2</th>\n",
       "      <th>g-3</th>\n",
       "      <th>g-4</th>\n",
       "      <th>...</th>\n",
       "      <th>c-90</th>\n",
       "      <th>c-91</th>\n",
       "      <th>c-92</th>\n",
       "      <th>c-93</th>\n",
       "      <th>c-94</th>\n",
       "      <th>c-95</th>\n",
       "      <th>c-96</th>\n",
       "      <th>c-97</th>\n",
       "      <th>c-98</th>\n",
       "      <th>c-99</th>\n",
       "    </tr>\n",
       "  </thead>\n",
       "  <tbody>\n",
       "    <tr>\n",
       "      <th>0</th>\n",
       "      <td>id_000644bb2</td>\n",
       "      <td>com_droga</td>\n",
       "      <td>24</td>\n",
       "      <td>D1</td>\n",
       "      <td>b68db1d53</td>\n",
       "      <td>1.0620</td>\n",
       "      <td>0.5577</td>\n",
       "      <td>-0.2479</td>\n",
       "      <td>-0.6208</td>\n",
       "      <td>-0.1944</td>\n",
       "      <td>...</td>\n",
       "      <td>0.2862</td>\n",
       "      <td>0.2584</td>\n",
       "      <td>0.8076</td>\n",
       "      <td>0.5523</td>\n",
       "      <td>-0.1912</td>\n",
       "      <td>0.6584</td>\n",
       "      <td>-0.3981</td>\n",
       "      <td>0.2139</td>\n",
       "      <td>0.3801</td>\n",
       "      <td>0.4176</td>\n",
       "    </tr>\n",
       "    <tr>\n",
       "      <th>1</th>\n",
       "      <td>id_000779bfc</td>\n",
       "      <td>com_droga</td>\n",
       "      <td>72</td>\n",
       "      <td>D1</td>\n",
       "      <td>df89a8e5a</td>\n",
       "      <td>0.0743</td>\n",
       "      <td>0.4087</td>\n",
       "      <td>0.2991</td>\n",
       "      <td>0.0604</td>\n",
       "      <td>1.0190</td>\n",
       "      <td>...</td>\n",
       "      <td>-0.4265</td>\n",
       "      <td>0.7543</td>\n",
       "      <td>0.4708</td>\n",
       "      <td>0.0230</td>\n",
       "      <td>0.2957</td>\n",
       "      <td>0.4899</td>\n",
       "      <td>0.1522</td>\n",
       "      <td>0.1241</td>\n",
       "      <td>0.6077</td>\n",
       "      <td>0.7371</td>\n",
       "    </tr>\n",
       "    <tr>\n",
       "      <th>2</th>\n",
       "      <td>id_000a6266a</td>\n",
       "      <td>com_droga</td>\n",
       "      <td>48</td>\n",
       "      <td>D1</td>\n",
       "      <td>18bb41b2c</td>\n",
       "      <td>0.6280</td>\n",
       "      <td>0.5817</td>\n",
       "      <td>1.5540</td>\n",
       "      <td>-0.0764</td>\n",
       "      <td>-0.0323</td>\n",
       "      <td>...</td>\n",
       "      <td>-0.7250</td>\n",
       "      <td>-0.6297</td>\n",
       "      <td>0.6103</td>\n",
       "      <td>0.0223</td>\n",
       "      <td>-1.3240</td>\n",
       "      <td>-0.3174</td>\n",
       "      <td>-0.6417</td>\n",
       "      <td>-0.2187</td>\n",
       "      <td>-1.4080</td>\n",
       "      <td>0.6931</td>\n",
       "    </tr>\n",
       "    <tr>\n",
       "      <th>3</th>\n",
       "      <td>id_0015fd391</td>\n",
       "      <td>com_droga</td>\n",
       "      <td>48</td>\n",
       "      <td>D1</td>\n",
       "      <td>8c7f86626</td>\n",
       "      <td>-0.5138</td>\n",
       "      <td>-0.2491</td>\n",
       "      <td>-0.2656</td>\n",
       "      <td>0.5288</td>\n",
       "      <td>4.0620</td>\n",
       "      <td>...</td>\n",
       "      <td>-2.0990</td>\n",
       "      <td>-0.6441</td>\n",
       "      <td>-5.6300</td>\n",
       "      <td>-1.3780</td>\n",
       "      <td>-0.8632</td>\n",
       "      <td>-1.2880</td>\n",
       "      <td>-1.6210</td>\n",
       "      <td>-0.8784</td>\n",
       "      <td>-0.3876</td>\n",
       "      <td>-0.8154</td>\n",
       "    </tr>\n",
       "    <tr>\n",
       "      <th>4</th>\n",
       "      <td>id_001626bd3</td>\n",
       "      <td>com_droga</td>\n",
       "      <td>72</td>\n",
       "      <td>D2</td>\n",
       "      <td>7cbed3131</td>\n",
       "      <td>-0.3254</td>\n",
       "      <td>-0.4009</td>\n",
       "      <td>0.9700</td>\n",
       "      <td>0.6919</td>\n",
       "      <td>1.4180</td>\n",
       "      <td>...</td>\n",
       "      <td>0.0042</td>\n",
       "      <td>0.0048</td>\n",
       "      <td>0.6670</td>\n",
       "      <td>1.0690</td>\n",
       "      <td>0.5523</td>\n",
       "      <td>-0.3031</td>\n",
       "      <td>0.1094</td>\n",
       "      <td>0.2885</td>\n",
       "      <td>-0.3786</td>\n",
       "      <td>0.7125</td>\n",
       "    </tr>\n",
       "    <tr>\n",
       "      <th>...</th>\n",
       "      <td>...</td>\n",
       "      <td>...</td>\n",
       "      <td>...</td>\n",
       "      <td>...</td>\n",
       "      <td>...</td>\n",
       "      <td>...</td>\n",
       "      <td>...</td>\n",
       "      <td>...</td>\n",
       "      <td>...</td>\n",
       "      <td>...</td>\n",
       "      <td>...</td>\n",
       "      <td>...</td>\n",
       "      <td>...</td>\n",
       "      <td>...</td>\n",
       "      <td>...</td>\n",
       "      <td>...</td>\n",
       "      <td>...</td>\n",
       "      <td>...</td>\n",
       "      <td>...</td>\n",
       "      <td>...</td>\n",
       "      <td>...</td>\n",
       "    </tr>\n",
       "    <tr>\n",
       "      <th>23809</th>\n",
       "      <td>id_fffb1ceed</td>\n",
       "      <td>com_droga</td>\n",
       "      <td>24</td>\n",
       "      <td>D2</td>\n",
       "      <td>df1d0a5a1</td>\n",
       "      <td>0.1394</td>\n",
       "      <td>-0.0636</td>\n",
       "      <td>-0.1112</td>\n",
       "      <td>-0.5080</td>\n",
       "      <td>-0.4713</td>\n",
       "      <td>...</td>\n",
       "      <td>0.1969</td>\n",
       "      <td>0.0262</td>\n",
       "      <td>-0.8121</td>\n",
       "      <td>0.3434</td>\n",
       "      <td>0.5372</td>\n",
       "      <td>-0.3246</td>\n",
       "      <td>0.0631</td>\n",
       "      <td>0.9171</td>\n",
       "      <td>0.5258</td>\n",
       "      <td>0.4680</td>\n",
       "    </tr>\n",
       "    <tr>\n",
       "      <th>23810</th>\n",
       "      <td>id_fffb70c0c</td>\n",
       "      <td>com_droga</td>\n",
       "      <td>24</td>\n",
       "      <td>D2</td>\n",
       "      <td>ecf3b6b74</td>\n",
       "      <td>-1.3260</td>\n",
       "      <td>0.3478</td>\n",
       "      <td>-0.3743</td>\n",
       "      <td>0.9905</td>\n",
       "      <td>-0.7178</td>\n",
       "      <td>...</td>\n",
       "      <td>0.4286</td>\n",
       "      <td>0.4426</td>\n",
       "      <td>0.0423</td>\n",
       "      <td>-0.3195</td>\n",
       "      <td>-0.8086</td>\n",
       "      <td>-0.9798</td>\n",
       "      <td>-0.2084</td>\n",
       "      <td>-0.1224</td>\n",
       "      <td>-0.2715</td>\n",
       "      <td>0.3689</td>\n",
       "    </tr>\n",
       "    <tr>\n",
       "      <th>23811</th>\n",
       "      <td>id_fffc1c3f4</td>\n",
       "      <td>com_controle</td>\n",
       "      <td>48</td>\n",
       "      <td>D2</td>\n",
       "      <td>cacb2b860</td>\n",
       "      <td>0.3942</td>\n",
       "      <td>0.3756</td>\n",
       "      <td>0.3109</td>\n",
       "      <td>-0.7389</td>\n",
       "      <td>0.5505</td>\n",
       "      <td>...</td>\n",
       "      <td>0.5409</td>\n",
       "      <td>0.3755</td>\n",
       "      <td>0.7343</td>\n",
       "      <td>0.2807</td>\n",
       "      <td>0.4116</td>\n",
       "      <td>0.6422</td>\n",
       "      <td>0.2256</td>\n",
       "      <td>0.7592</td>\n",
       "      <td>0.6656</td>\n",
       "      <td>0.3808</td>\n",
       "    </tr>\n",
       "    <tr>\n",
       "      <th>23812</th>\n",
       "      <td>id_fffcb9e7c</td>\n",
       "      <td>com_droga</td>\n",
       "      <td>24</td>\n",
       "      <td>D1</td>\n",
       "      <td>8b87a7a83</td>\n",
       "      <td>0.6660</td>\n",
       "      <td>0.2324</td>\n",
       "      <td>0.4392</td>\n",
       "      <td>0.2044</td>\n",
       "      <td>0.8531</td>\n",
       "      <td>...</td>\n",
       "      <td>-0.1105</td>\n",
       "      <td>0.4258</td>\n",
       "      <td>-0.2012</td>\n",
       "      <td>0.1506</td>\n",
       "      <td>1.5230</td>\n",
       "      <td>0.7101</td>\n",
       "      <td>0.1732</td>\n",
       "      <td>0.7015</td>\n",
       "      <td>-0.6290</td>\n",
       "      <td>0.0740</td>\n",
       "    </tr>\n",
       "    <tr>\n",
       "      <th>23813</th>\n",
       "      <td>id_ffffdd77b</td>\n",
       "      <td>com_droga</td>\n",
       "      <td>72</td>\n",
       "      <td>D1</td>\n",
       "      <td>972f41291</td>\n",
       "      <td>-0.8598</td>\n",
       "      <td>1.0240</td>\n",
       "      <td>-0.1361</td>\n",
       "      <td>0.7952</td>\n",
       "      <td>-0.3611</td>\n",
       "      <td>...</td>\n",
       "      <td>-3.3890</td>\n",
       "      <td>-1.7450</td>\n",
       "      <td>-6.6300</td>\n",
       "      <td>-4.0950</td>\n",
       "      <td>-7.3860</td>\n",
       "      <td>-1.4160</td>\n",
       "      <td>-3.5770</td>\n",
       "      <td>-0.4775</td>\n",
       "      <td>-2.1500</td>\n",
       "      <td>-4.2520</td>\n",
       "    </tr>\n",
       "  </tbody>\n",
       "</table>\n",
       "<p>23814 rows × 877 columns</p>\n",
       "</div>"
      ],
      "text/plain": [
       "                 id    tratamento  tempo dose      droga     g-0     g-1  \\\n",
       "0      id_000644bb2     com_droga     24   D1  b68db1d53  1.0620  0.5577   \n",
       "1      id_000779bfc     com_droga     72   D1  df89a8e5a  0.0743  0.4087   \n",
       "2      id_000a6266a     com_droga     48   D1  18bb41b2c  0.6280  0.5817   \n",
       "3      id_0015fd391     com_droga     48   D1  8c7f86626 -0.5138 -0.2491   \n",
       "4      id_001626bd3     com_droga     72   D2  7cbed3131 -0.3254 -0.4009   \n",
       "...             ...           ...    ...  ...        ...     ...     ...   \n",
       "23809  id_fffb1ceed     com_droga     24   D2  df1d0a5a1  0.1394 -0.0636   \n",
       "23810  id_fffb70c0c     com_droga     24   D2  ecf3b6b74 -1.3260  0.3478   \n",
       "23811  id_fffc1c3f4  com_controle     48   D2  cacb2b860  0.3942  0.3756   \n",
       "23812  id_fffcb9e7c     com_droga     24   D1  8b87a7a83  0.6660  0.2324   \n",
       "23813  id_ffffdd77b     com_droga     72   D1  972f41291 -0.8598  1.0240   \n",
       "\n",
       "          g-2     g-3     g-4  ...    c-90    c-91    c-92    c-93    c-94  \\\n",
       "0     -0.2479 -0.6208 -0.1944  ...  0.2862  0.2584  0.8076  0.5523 -0.1912   \n",
       "1      0.2991  0.0604  1.0190  ... -0.4265  0.7543  0.4708  0.0230  0.2957   \n",
       "2      1.5540 -0.0764 -0.0323  ... -0.7250 -0.6297  0.6103  0.0223 -1.3240   \n",
       "3     -0.2656  0.5288  4.0620  ... -2.0990 -0.6441 -5.6300 -1.3780 -0.8632   \n",
       "4      0.9700  0.6919  1.4180  ...  0.0042  0.0048  0.6670  1.0690  0.5523   \n",
       "...       ...     ...     ...  ...     ...     ...     ...     ...     ...   \n",
       "23809 -0.1112 -0.5080 -0.4713  ...  0.1969  0.0262 -0.8121  0.3434  0.5372   \n",
       "23810 -0.3743  0.9905 -0.7178  ...  0.4286  0.4426  0.0423 -0.3195 -0.8086   \n",
       "23811  0.3109 -0.7389  0.5505  ...  0.5409  0.3755  0.7343  0.2807  0.4116   \n",
       "23812  0.4392  0.2044  0.8531  ... -0.1105  0.4258 -0.2012  0.1506  1.5230   \n",
       "23813 -0.1361  0.7952 -0.3611  ... -3.3890 -1.7450 -6.6300 -4.0950 -7.3860   \n",
       "\n",
       "         c-95    c-96    c-97    c-98    c-99  \n",
       "0      0.6584 -0.3981  0.2139  0.3801  0.4176  \n",
       "1      0.4899  0.1522  0.1241  0.6077  0.7371  \n",
       "2     -0.3174 -0.6417 -0.2187 -1.4080  0.6931  \n",
       "3     -1.2880 -1.6210 -0.8784 -0.3876 -0.8154  \n",
       "4     -0.3031  0.1094  0.2885 -0.3786  0.7125  \n",
       "...       ...     ...     ...     ...     ...  \n",
       "23809 -0.3246  0.0631  0.9171  0.5258  0.4680  \n",
       "23810 -0.9798 -0.2084 -0.1224 -0.2715  0.3689  \n",
       "23811  0.6422  0.2256  0.7592  0.6656  0.3808  \n",
       "23812  0.7101  0.1732  0.7015 -0.6290  0.0740  \n",
       "23813 -1.4160 -3.5770 -0.4775 -2.1500 -4.2520  \n",
       "\n",
       "[23814 rows x 877 columns]"
      ]
     },
     "execution_count": 1,
     "metadata": {},
     "output_type": "execute_result"
    }
   ],
   "source": [
    "import pandas as pd\n",
    "\n",
    "src_dados = \"dados/dados_experimentos.zip\"\n",
    "\n",
    "dados = pd.read_csv(src_dados, compression = 'zip')\n",
    "dados"
   ]
  },
  {
   "cell_type": "markdown",
   "metadata": {
    "id": "XEtxotiVLmC4"
   },
   "source": [
    "Como a base de dados é extensa, vamos usar o comando \"head\" para melhorar a visualização, mostrando apenas os 5 primeiros resultados:"
   ]
  },
  {
   "cell_type": "code",
   "execution_count": 2,
   "metadata": {
    "colab": {
     "base_uri": "https://localhost:8080/"
    },
    "id": "ongQ8MkFsnWY",
    "outputId": "03322e18-3cdf-4904-a04d-43f29f45cae9"
   },
   "outputs": [
    {
     "data": {
      "text/html": [
       "<div>\n",
       "<style scoped>\n",
       "    .dataframe tbody tr th:only-of-type {\n",
       "        vertical-align: middle;\n",
       "    }\n",
       "\n",
       "    .dataframe tbody tr th {\n",
       "        vertical-align: top;\n",
       "    }\n",
       "\n",
       "    .dataframe thead th {\n",
       "        text-align: right;\n",
       "    }\n",
       "</style>\n",
       "<table border=\"1\" class=\"dataframe\">\n",
       "  <thead>\n",
       "    <tr style=\"text-align: right;\">\n",
       "      <th></th>\n",
       "      <th>id</th>\n",
       "      <th>tratamento</th>\n",
       "      <th>tempo</th>\n",
       "      <th>dose</th>\n",
       "      <th>droga</th>\n",
       "      <th>g-0</th>\n",
       "      <th>g-1</th>\n",
       "      <th>g-2</th>\n",
       "      <th>g-3</th>\n",
       "      <th>g-4</th>\n",
       "      <th>...</th>\n",
       "      <th>c-90</th>\n",
       "      <th>c-91</th>\n",
       "      <th>c-92</th>\n",
       "      <th>c-93</th>\n",
       "      <th>c-94</th>\n",
       "      <th>c-95</th>\n",
       "      <th>c-96</th>\n",
       "      <th>c-97</th>\n",
       "      <th>c-98</th>\n",
       "      <th>c-99</th>\n",
       "    </tr>\n",
       "  </thead>\n",
       "  <tbody>\n",
       "    <tr>\n",
       "      <th>0</th>\n",
       "      <td>id_000644bb2</td>\n",
       "      <td>com_droga</td>\n",
       "      <td>24</td>\n",
       "      <td>D1</td>\n",
       "      <td>b68db1d53</td>\n",
       "      <td>1.0620</td>\n",
       "      <td>0.5577</td>\n",
       "      <td>-0.2479</td>\n",
       "      <td>-0.6208</td>\n",
       "      <td>-0.1944</td>\n",
       "      <td>...</td>\n",
       "      <td>0.2862</td>\n",
       "      <td>0.2584</td>\n",
       "      <td>0.8076</td>\n",
       "      <td>0.5523</td>\n",
       "      <td>-0.1912</td>\n",
       "      <td>0.6584</td>\n",
       "      <td>-0.3981</td>\n",
       "      <td>0.2139</td>\n",
       "      <td>0.3801</td>\n",
       "      <td>0.4176</td>\n",
       "    </tr>\n",
       "    <tr>\n",
       "      <th>1</th>\n",
       "      <td>id_000779bfc</td>\n",
       "      <td>com_droga</td>\n",
       "      <td>72</td>\n",
       "      <td>D1</td>\n",
       "      <td>df89a8e5a</td>\n",
       "      <td>0.0743</td>\n",
       "      <td>0.4087</td>\n",
       "      <td>0.2991</td>\n",
       "      <td>0.0604</td>\n",
       "      <td>1.0190</td>\n",
       "      <td>...</td>\n",
       "      <td>-0.4265</td>\n",
       "      <td>0.7543</td>\n",
       "      <td>0.4708</td>\n",
       "      <td>0.0230</td>\n",
       "      <td>0.2957</td>\n",
       "      <td>0.4899</td>\n",
       "      <td>0.1522</td>\n",
       "      <td>0.1241</td>\n",
       "      <td>0.6077</td>\n",
       "      <td>0.7371</td>\n",
       "    </tr>\n",
       "    <tr>\n",
       "      <th>2</th>\n",
       "      <td>id_000a6266a</td>\n",
       "      <td>com_droga</td>\n",
       "      <td>48</td>\n",
       "      <td>D1</td>\n",
       "      <td>18bb41b2c</td>\n",
       "      <td>0.6280</td>\n",
       "      <td>0.5817</td>\n",
       "      <td>1.5540</td>\n",
       "      <td>-0.0764</td>\n",
       "      <td>-0.0323</td>\n",
       "      <td>...</td>\n",
       "      <td>-0.7250</td>\n",
       "      <td>-0.6297</td>\n",
       "      <td>0.6103</td>\n",
       "      <td>0.0223</td>\n",
       "      <td>-1.3240</td>\n",
       "      <td>-0.3174</td>\n",
       "      <td>-0.6417</td>\n",
       "      <td>-0.2187</td>\n",
       "      <td>-1.4080</td>\n",
       "      <td>0.6931</td>\n",
       "    </tr>\n",
       "    <tr>\n",
       "      <th>3</th>\n",
       "      <td>id_0015fd391</td>\n",
       "      <td>com_droga</td>\n",
       "      <td>48</td>\n",
       "      <td>D1</td>\n",
       "      <td>8c7f86626</td>\n",
       "      <td>-0.5138</td>\n",
       "      <td>-0.2491</td>\n",
       "      <td>-0.2656</td>\n",
       "      <td>0.5288</td>\n",
       "      <td>4.0620</td>\n",
       "      <td>...</td>\n",
       "      <td>-2.0990</td>\n",
       "      <td>-0.6441</td>\n",
       "      <td>-5.6300</td>\n",
       "      <td>-1.3780</td>\n",
       "      <td>-0.8632</td>\n",
       "      <td>-1.2880</td>\n",
       "      <td>-1.6210</td>\n",
       "      <td>-0.8784</td>\n",
       "      <td>-0.3876</td>\n",
       "      <td>-0.8154</td>\n",
       "    </tr>\n",
       "    <tr>\n",
       "      <th>4</th>\n",
       "      <td>id_001626bd3</td>\n",
       "      <td>com_droga</td>\n",
       "      <td>72</td>\n",
       "      <td>D2</td>\n",
       "      <td>7cbed3131</td>\n",
       "      <td>-0.3254</td>\n",
       "      <td>-0.4009</td>\n",
       "      <td>0.9700</td>\n",
       "      <td>0.6919</td>\n",
       "      <td>1.4180</td>\n",
       "      <td>...</td>\n",
       "      <td>0.0042</td>\n",
       "      <td>0.0048</td>\n",
       "      <td>0.6670</td>\n",
       "      <td>1.0690</td>\n",
       "      <td>0.5523</td>\n",
       "      <td>-0.3031</td>\n",
       "      <td>0.1094</td>\n",
       "      <td>0.2885</td>\n",
       "      <td>-0.3786</td>\n",
       "      <td>0.7125</td>\n",
       "    </tr>\n",
       "  </tbody>\n",
       "</table>\n",
       "<p>5 rows × 877 columns</p>\n",
       "</div>"
      ],
      "text/plain": [
       "             id tratamento  tempo dose      droga     g-0     g-1     g-2  \\\n",
       "0  id_000644bb2  com_droga     24   D1  b68db1d53  1.0620  0.5577 -0.2479   \n",
       "1  id_000779bfc  com_droga     72   D1  df89a8e5a  0.0743  0.4087  0.2991   \n",
       "2  id_000a6266a  com_droga     48   D1  18bb41b2c  0.6280  0.5817  1.5540   \n",
       "3  id_0015fd391  com_droga     48   D1  8c7f86626 -0.5138 -0.2491 -0.2656   \n",
       "4  id_001626bd3  com_droga     72   D2  7cbed3131 -0.3254 -0.4009  0.9700   \n",
       "\n",
       "      g-3     g-4  ...    c-90    c-91    c-92    c-93    c-94    c-95  \\\n",
       "0 -0.6208 -0.1944  ...  0.2862  0.2584  0.8076  0.5523 -0.1912  0.6584   \n",
       "1  0.0604  1.0190  ... -0.4265  0.7543  0.4708  0.0230  0.2957  0.4899   \n",
       "2 -0.0764 -0.0323  ... -0.7250 -0.6297  0.6103  0.0223 -1.3240 -0.3174   \n",
       "3  0.5288  4.0620  ... -2.0990 -0.6441 -5.6300 -1.3780 -0.8632 -1.2880   \n",
       "4  0.6919  1.4180  ...  0.0042  0.0048  0.6670  1.0690  0.5523 -0.3031   \n",
       "\n",
       "     c-96    c-97    c-98    c-99  \n",
       "0 -0.3981  0.2139  0.3801  0.4176  \n",
       "1  0.1522  0.1241  0.6077  0.7371  \n",
       "2 -0.6417 -0.2187 -1.4080  0.6931  \n",
       "3 -1.6210 -0.8784 -0.3876 -0.8154  \n",
       "4  0.1094  0.2885 -0.3786  0.7125  \n",
       "\n",
       "[5 rows x 877 columns]"
      ]
     },
     "execution_count": 2,
     "metadata": {},
     "output_type": "execute_result"
    }
   ],
   "source": [
    "dados.head()"
   ]
  },
  {
   "cell_type": "markdown",
   "metadata": {
    "id": "K0j4EAnJL6gK"
   },
   "source": [
    "Vamos usar o comando \"shape\" para visualizarmos a quantidade de linhas e colunas:"
   ]
  },
  {
   "cell_type": "code",
   "execution_count": 3,
   "metadata": {
    "colab": {
     "base_uri": "https://localhost:8080/"
    },
    "id": "Q_5RP0HKs1Sy",
    "outputId": "471cfb9d-f8ee-4e90-9867-6dff1182d2ba"
   },
   "outputs": [
    {
     "data": {
      "text/plain": [
       "(23814, 877)"
      ]
     },
     "execution_count": 3,
     "metadata": {},
     "output_type": "execute_result"
    }
   ],
   "source": [
    "dados.shape"
   ]
  },
  {
   "cell_type": "markdown",
   "metadata": {
    "id": "R-RlcyIBMGD5"
   },
   "source": [
    "Repare que ele já mostra ali pra gente o número de colunas: 877. Ou seja, é um dataset bem extenso.\n",
    "\n",
    "Vamos começar a analisar as colunas. A primeria coluna tem o nome de \"id\", o que nos remete a um identificador. Além disso, as seguintes colunas com nomes bem complexos. Não são nomes muito descritivos para quem não é da área.\n",
    "\n",
    "Com a ajuda da Vanessa, especialista, descobrimos que esses nomes remetem aos mecanismos de ação das drogas. Ou seja, esses dados nos trazem a relação do mecanismo de ação do alvo(enzima, proteína, etc) com a droga utilizada. Ela também explicou sobre os termos \"agonista\" e antiagonista\", que ativam o receptor e o bloqueiam, resspectivamente.\n",
    "\n",
    "Nesse ponto a Vanessa nos explica numa apresentação como funciona a ligação do spike com o receptor e todo o procedimento de infecção nas nossas células.\n",
    "\n",
    "Agora já sabemos que cada coluna do nosso dataframe representa um mecanismo de ação. Olhando para nosso cabeçalho percebemos que temos praticamente todos os dados com o valor 0. Será que todos os dados da tabela tem esse valor? Vamos investigar!\n",
    "\n",
    "Vamos escolher uma coluna para investigar os seus dados."
   ]
  },
  {
   "cell_type": "code",
   "execution_count": 4,
   "metadata": {
    "colab": {
     "base_uri": "https://localhost:8080/"
    },
    "id": "a8Og_8PIwdAS",
    "outputId": "560aa69e-a9d0-41ed-aa6e-44f6d6662498"
   },
   "outputs": [
    {
     "data": {
      "text/plain": [
       "0           com_droga\n",
       "1           com_droga\n",
       "2           com_droga\n",
       "3           com_droga\n",
       "4           com_droga\n",
       "             ...     \n",
       "23809       com_droga\n",
       "23810       com_droga\n",
       "23811    com_controle\n",
       "23812       com_droga\n",
       "23813       com_droga\n",
       "Name: tratamento, Length: 23814, dtype: object"
      ]
     },
     "execution_count": 4,
     "metadata": {},
     "output_type": "execute_result"
    }
   ],
   "source": [
    "dados['tratamento']"
   ]
  },
  {
   "cell_type": "code",
   "execution_count": 5,
   "metadata": {
    "colab": {
     "base_uri": "https://localhost:8080/"
    },
    "id": "_RkLWqqrwtJG",
    "outputId": "5fac8438-751c-44ca-ff86-34812f535e92"
   },
   "outputs": [
    {
     "data": {
      "text/plain": [
       "array(['com_droga', 'com_controle'], dtype=object)"
      ]
     },
     "execution_count": 5,
     "metadata": {},
     "output_type": "execute_result"
    }
   ],
   "source": [
    "dados['tratamento'].unique()"
   ]
  },
  {
   "cell_type": "code",
   "execution_count": 6,
   "metadata": {
    "colab": {
     "base_uri": "https://localhost:8080/"
    },
    "id": "IOPFkJW5w5i-",
    "outputId": "bb190a11-cfc8-481a-f3b9-2e13fc7c010f"
   },
   "outputs": [
    {
     "data": {
      "text/plain": [
       "array([24, 72, 48])"
      ]
     },
     "execution_count": 6,
     "metadata": {},
     "output_type": "execute_result"
    }
   ],
   "source": [
    "dados['tempo'].unique()"
   ]
  },
  {
   "cell_type": "code",
   "execution_count": 7,
   "metadata": {
    "colab": {
     "base_uri": "https://localhost:8080/"
    },
    "id": "2UWEVupCx9M7",
    "outputId": "9f48bbbb-f490-4f40-ce24-ae35820a23ac"
   },
   "outputs": [
    {
     "data": {
      "text/plain": [
       "array(['D1', 'D2'], dtype=object)"
      ]
     },
     "execution_count": 7,
     "metadata": {},
     "output_type": "execute_result"
    }
   ],
   "source": [
    "dados['dose'].unique()"
   ]
  },
  {
   "cell_type": "code",
   "execution_count": 8,
   "metadata": {
    "colab": {
     "base_uri": "https://localhost:8080/"
    },
    "id": "p1NaXGzCySfP",
    "outputId": "f9453a01-b81b-44bf-926c-7760cdd17eb7"
   },
   "outputs": [
    {
     "data": {
      "text/plain": [
       "array(['b68db1d53', 'df89a8e5a', '18bb41b2c', ..., '573c787a2',\n",
       "       'b2fe3eca7', 'dd4a96d16'], dtype=object)"
      ]
     },
     "execution_count": 8,
     "metadata": {},
     "output_type": "execute_result"
    }
   ],
   "source": [
    "dados['droga'].unique()"
   ]
  },
  {
   "cell_type": "code",
   "execution_count": 9,
   "metadata": {
    "colab": {
     "base_uri": "https://localhost:8080/"
    },
    "id": "CgHdbkO9ye6g",
    "outputId": "1620c98e-2948-4e1f-c27f-bc4185f00267"
   },
   "outputs": [
    {
     "data": {
      "text/plain": [
       "array([ 1.062 ,  0.0743,  0.628 , ...,  0.3942,  0.666 , -0.8598])"
      ]
     },
     "execution_count": 9,
     "metadata": {},
     "output_type": "execute_result"
    }
   ],
   "source": [
    "dados['g-0'].unique()"
   ]
  },
  {
   "cell_type": "code",
   "execution_count": 10,
   "metadata": {
    "colab": {
     "base_uri": "https://localhost:8080/"
    },
    "id": "pvSIUn9_zTWH",
    "outputId": "d52c0df3-b186-4cbf-a31c-032fc6de3c55"
   },
   "outputs": [
    {
     "data": {
      "text/plain": [
       "com_droga       21948\n",
       "com_controle     1866\n",
       "Name: tratamento, dtype: int64"
      ]
     },
     "execution_count": 10,
     "metadata": {},
     "output_type": "execute_result"
    }
   ],
   "source": [
    "dados['tratamento'].value_counts()"
   ]
  },
  {
   "cell_type": "code",
   "execution_count": 11,
   "metadata": {
    "colab": {
     "base_uri": "https://localhost:8080/"
    },
    "id": "8F1qPq6h2WBl",
    "outputId": "508aec37-dae9-44b8-8af3-02e246e53d06"
   },
   "outputs": [
    {
     "data": {
      "text/plain": [
       "D1    12147\n",
       "D2    11667\n",
       "Name: dose, dtype: int64"
      ]
     },
     "execution_count": 11,
     "metadata": {},
     "output_type": "execute_result"
    }
   ],
   "source": [
    "dados['dose'].value_counts()"
   ]
  },
  {
   "cell_type": "code",
   "execution_count": 12,
   "metadata": {
    "colab": {
     "base_uri": "https://localhost:8080/"
    },
    "id": "1sX66gG249OZ",
    "outputId": "2a875c8b-5fd3-43f8-ae5c-4da17643b2dc"
   },
   "outputs": [
    {
     "data": {
      "text/plain": [
       "com_droga       0.921643\n",
       "com_controle    0.078357\n",
       "Name: tratamento, dtype: float64"
      ]
     },
     "execution_count": 12,
     "metadata": {},
     "output_type": "execute_result"
    }
   ],
   "source": [
    "dados['tratamento'].value_counts(normalize = True)"
   ]
  },
  {
   "cell_type": "code",
   "execution_count": 13,
   "metadata": {
    "colab": {
     "base_uri": "https://localhost:8080/"
    },
    "id": "wrLfRXx65NPP",
    "outputId": "aec6f63c-fb3c-490c-8ac9-6d5ea54bd62c"
   },
   "outputs": [
    {
     "data": {
      "text/plain": [
       "D1    0.510078\n",
       "D2    0.489922\n",
       "Name: dose, dtype: float64"
      ]
     },
     "execution_count": 13,
     "metadata": {},
     "output_type": "execute_result"
    }
   ],
   "source": [
    "dados['dose'].value_counts(normalize = True)"
   ]
  },
  {
   "cell_type": "code",
   "execution_count": 14,
   "metadata": {
    "colab": {
     "base_uri": "https://localhost:8080/"
    },
    "id": "LYiMo76m5bnS",
    "outputId": "5a92ce61-cae1-4573-8c7f-e54b1e851733"
   },
   "outputs": [
    {
     "data": {
      "text/plain": [
       "<AxesSubplot:ylabel='tratamento'>"
      ]
     },
     "execution_count": 14,
     "metadata": {},
     "output_type": "execute_result"
    },
    {
     "data": {
      "image/png": "[encoded data removed]",
      "text/plain": [
       "<Figure size 432x288 with 1 Axes>"
      ]
     },
     "metadata": {},
     "output_type": "display_data"
    }
   ],
   "source": [
    "dados['tratamento'].value_counts().plot.pie()"
   ]
  },
  {
   "cell_type": "code",
   "execution_count": 15,
   "metadata": {
    "colab": {
     "base_uri": "https://localhost:8080/"
    },
    "id": "qmBQF9kx5uIc",
    "outputId": "3d418d22-2e73-4505-edd1-a984bf72aa12"
   },
   "outputs": [
    {
     "data": {
      "text/plain": [
       "<AxesSubplot:ylabel='tempo'>"
      ]
     },
     "execution_count": 15,
     "metadata": {},
     "output_type": "execute_result"
    },
    {
     "data": {
      "image/png": "[encoded data removed]",
      "text/plain": [
       "<Figure size 432x288 with 1 Axes>"
      ]
     },
     "metadata": {},
     "output_type": "display_data"
    }
   ],
   "source": [
    "dados['tempo'].value_counts().plot.pie()"
   ]
  },
  {
   "cell_type": "code",
   "execution_count": 16,
   "metadata": {
    "colab": {
     "base_uri": "https://localhost:8080/"
    },
    "id": "TJ0MjBYZ6LOI",
    "outputId": "d959994d-d5c2-4f73-f58c-1a695b763aeb"
   },
   "outputs": [
    {
     "data": {
      "text/plain": [
       "<AxesSubplot:>"
      ]
     },
     "execution_count": 16,
     "metadata": {},
     "output_type": "execute_result"
    },
    {
     "data": {
      "image/png": "[encoded data removed]",
      "text/plain": [
       "<Figure size 432x288 with 1 Axes>"
      ]
     },
     "metadata": {
      "needs_background": "light"
     },
     "output_type": "display_data"
    }
   ],
   "source": [
    "dados['tempo'].value_counts().plot.bar()"
   ]
  },
  {
   "cell_type": "code",
   "execution_count": 17,
   "metadata": {
    "colab": {
     "base_uri": "https://localhost:8080/"
    },
    "id": "_igXHK3A8wQr",
    "outputId": "4678a593-5e89-430b-d8f1-30603bb7fdc3"
   },
   "outputs": [
    {
     "data": {
      "text/html": [
       "<div>\n",
       "<style scoped>\n",
       "    .dataframe tbody tr th:only-of-type {\n",
       "        vertical-align: middle;\n",
       "    }\n",
       "\n",
       "    .dataframe tbody tr th {\n",
       "        vertical-align: top;\n",
       "    }\n",
       "\n",
       "    .dataframe thead th {\n",
       "        text-align: right;\n",
       "    }\n",
       "</style>\n",
       "<table border=\"1\" class=\"dataframe\">\n",
       "  <thead>\n",
       "    <tr style=\"text-align: right;\">\n",
       "      <th></th>\n",
       "      <th>id</th>\n",
       "      <th>tratamento</th>\n",
       "      <th>tempo</th>\n",
       "      <th>dose</th>\n",
       "      <th>droga</th>\n",
       "      <th>g-0</th>\n",
       "      <th>g-1</th>\n",
       "      <th>g-2</th>\n",
       "      <th>g-3</th>\n",
       "      <th>g-4</th>\n",
       "      <th>...</th>\n",
       "      <th>c-90</th>\n",
       "      <th>c-91</th>\n",
       "      <th>c-92</th>\n",
       "      <th>c-93</th>\n",
       "      <th>c-94</th>\n",
       "      <th>c-95</th>\n",
       "      <th>c-96</th>\n",
       "      <th>c-97</th>\n",
       "      <th>c-98</th>\n",
       "      <th>c-99</th>\n",
       "    </tr>\n",
       "  </thead>\n",
       "  <tbody>\n",
       "    <tr>\n",
       "      <th>0</th>\n",
       "      <td>id_000644bb2</td>\n",
       "      <td>com_droga</td>\n",
       "      <td>24</td>\n",
       "      <td>D1</td>\n",
       "      <td>b68db1d53</td>\n",
       "      <td>1.0620</td>\n",
       "      <td>0.5577</td>\n",
       "      <td>-0.2479</td>\n",
       "      <td>-0.6208</td>\n",
       "      <td>-0.1944</td>\n",
       "      <td>...</td>\n",
       "      <td>0.2862</td>\n",
       "      <td>0.2584</td>\n",
       "      <td>0.8076</td>\n",
       "      <td>0.5523</td>\n",
       "      <td>-0.1912</td>\n",
       "      <td>0.6584</td>\n",
       "      <td>-0.3981</td>\n",
       "      <td>0.2139</td>\n",
       "      <td>0.3801</td>\n",
       "      <td>0.4176</td>\n",
       "    </tr>\n",
       "    <tr>\n",
       "      <th>1</th>\n",
       "      <td>id_000779bfc</td>\n",
       "      <td>com_droga</td>\n",
       "      <td>72</td>\n",
       "      <td>D1</td>\n",
       "      <td>df89a8e5a</td>\n",
       "      <td>0.0743</td>\n",
       "      <td>0.4087</td>\n",
       "      <td>0.2991</td>\n",
       "      <td>0.0604</td>\n",
       "      <td>1.0190</td>\n",
       "      <td>...</td>\n",
       "      <td>-0.4265</td>\n",
       "      <td>0.7543</td>\n",
       "      <td>0.4708</td>\n",
       "      <td>0.0230</td>\n",
       "      <td>0.2957</td>\n",
       "      <td>0.4899</td>\n",
       "      <td>0.1522</td>\n",
       "      <td>0.1241</td>\n",
       "      <td>0.6077</td>\n",
       "      <td>0.7371</td>\n",
       "    </tr>\n",
       "    <tr>\n",
       "      <th>2</th>\n",
       "      <td>id_000a6266a</td>\n",
       "      <td>com_droga</td>\n",
       "      <td>48</td>\n",
       "      <td>D1</td>\n",
       "      <td>18bb41b2c</td>\n",
       "      <td>0.6280</td>\n",
       "      <td>0.5817</td>\n",
       "      <td>1.5540</td>\n",
       "      <td>-0.0764</td>\n",
       "      <td>-0.0323</td>\n",
       "      <td>...</td>\n",
       "      <td>-0.7250</td>\n",
       "      <td>-0.6297</td>\n",
       "      <td>0.6103</td>\n",
       "      <td>0.0223</td>\n",
       "      <td>-1.3240</td>\n",
       "      <td>-0.3174</td>\n",
       "      <td>-0.6417</td>\n",
       "      <td>-0.2187</td>\n",
       "      <td>-1.4080</td>\n",
       "      <td>0.6931</td>\n",
       "    </tr>\n",
       "    <tr>\n",
       "      <th>6</th>\n",
       "      <td>id_001bd861f</td>\n",
       "      <td>com_droga</td>\n",
       "      <td>24</td>\n",
       "      <td>D2</td>\n",
       "      <td>746ca1f5a</td>\n",
       "      <td>2.0440</td>\n",
       "      <td>1.7000</td>\n",
       "      <td>-1.5390</td>\n",
       "      <td>5.9440</td>\n",
       "      <td>-2.1670</td>\n",
       "      <td>...</td>\n",
       "      <td>0.1855</td>\n",
       "      <td>1.1720</td>\n",
       "      <td>0.8325</td>\n",
       "      <td>0.6486</td>\n",
       "      <td>0.8090</td>\n",
       "      <td>1.5880</td>\n",
       "      <td>2.4670</td>\n",
       "      <td>0.0357</td>\n",
       "      <td>0.1351</td>\n",
       "      <td>-0.3179</td>\n",
       "    </tr>\n",
       "    <tr>\n",
       "      <th>7</th>\n",
       "      <td>id_0020d0484</td>\n",
       "      <td>com_droga</td>\n",
       "      <td>48</td>\n",
       "      <td>D1</td>\n",
       "      <td>8b87a7a83</td>\n",
       "      <td>0.2711</td>\n",
       "      <td>0.5133</td>\n",
       "      <td>-0.1327</td>\n",
       "      <td>2.5950</td>\n",
       "      <td>0.6980</td>\n",
       "      <td>...</td>\n",
       "      <td>0.3230</td>\n",
       "      <td>-0.4140</td>\n",
       "      <td>0.2532</td>\n",
       "      <td>0.0513</td>\n",
       "      <td>0.8600</td>\n",
       "      <td>1.4250</td>\n",
       "      <td>0.6633</td>\n",
       "      <td>0.4562</td>\n",
       "      <td>-0.9622</td>\n",
       "      <td>0.0260</td>\n",
       "    </tr>\n",
       "  </tbody>\n",
       "</table>\n",
       "<p>5 rows × 877 columns</p>\n",
       "</div>"
      ],
      "text/plain": [
       "             id tratamento  tempo dose      droga     g-0     g-1     g-2  \\\n",
       "0  id_000644bb2  com_droga     24   D1  b68db1d53  1.0620  0.5577 -0.2479   \n",
       "1  id_000779bfc  com_droga     72   D1  df89a8e5a  0.0743  0.4087  0.2991   \n",
       "2  id_000a6266a  com_droga     48   D1  18bb41b2c  0.6280  0.5817  1.5540   \n",
       "6  id_001bd861f  com_droga     24   D2  746ca1f5a  2.0440  1.7000 -1.5390   \n",
       "7  id_0020d0484  com_droga     48   D1  8b87a7a83  0.2711  0.5133 -0.1327   \n",
       "\n",
       "      g-3     g-4  ...    c-90    c-91    c-92    c-93    c-94    c-95  \\\n",
       "0 -0.6208 -0.1944  ...  0.2862  0.2584  0.8076  0.5523 -0.1912  0.6584   \n",
       "1  0.0604  1.0190  ... -0.4265  0.7543  0.4708  0.0230  0.2957  0.4899   \n",
       "2 -0.0764 -0.0323  ... -0.7250 -0.6297  0.6103  0.0223 -1.3240 -0.3174   \n",
       "6  5.9440 -2.1670  ...  0.1855  1.1720  0.8325  0.6486  0.8090  1.5880   \n",
       "7  2.5950  0.6980  ...  0.3230 -0.4140  0.2532  0.0513  0.8600  1.4250   \n",
       "\n",
       "     c-96    c-97    c-98    c-99  \n",
       "0 -0.3981  0.2139  0.3801  0.4176  \n",
       "1  0.1522  0.1241  0.6077  0.7371  \n",
       "2 -0.6417 -0.2187 -1.4080  0.6931  \n",
       "6  2.4670  0.0357  0.1351 -0.3179  \n",
       "7  0.6633  0.4562 -0.9622  0.0260  \n",
       "\n",
       "[5 rows x 877 columns]"
      ]
     },
     "execution_count": 17,
     "metadata": {},
     "output_type": "execute_result"
    }
   ],
   "source": [
    "dados_filtrados = dados[dados['g-0'] > 0]\n",
    "dados_filtrados.head()"
   ]
  },
  {
   "cell_type": "markdown",
   "metadata": {
    "id": "NOQZfsY1eLDM"
   },
   "source": [
    "# Aula 02"
   ]
  },
  {
   "cell_type": "code",
   "execution_count": 18,
   "metadata": {
    "colab": {
     "base_uri": "https://localhost:8080/"
    },
    "id": "hB3O-zZW9ZYw",
    "outputId": "58ecdf2a-8135-4255-dd0d-2ff22cb8ddd4"
   },
   "outputs": [
    {
     "data": {
      "text/html": [
       "<div>\n",
       "<style scoped>\n",
       "    .dataframe tbody tr th:only-of-type {\n",
       "        vertical-align: middle;\n",
       "    }\n",
       "\n",
       "    .dataframe tbody tr th {\n",
       "        vertical-align: top;\n",
       "    }\n",
       "\n",
       "    .dataframe thead th {\n",
       "        text-align: right;\n",
       "    }\n",
       "</style>\n",
       "<table border=\"1\" class=\"dataframe\">\n",
       "  <thead>\n",
       "    <tr style=\"text-align: right;\">\n",
       "      <th></th>\n",
       "      <th>id</th>\n",
       "      <th>tratamento</th>\n",
       "      <th>tempo</th>\n",
       "      <th>dose</th>\n",
       "      <th>droga</th>\n",
       "      <th>g-0</th>\n",
       "      <th>g-1</th>\n",
       "      <th>g-2</th>\n",
       "      <th>g-3</th>\n",
       "      <th>g-4</th>\n",
       "      <th>...</th>\n",
       "      <th>c-90</th>\n",
       "      <th>c-91</th>\n",
       "      <th>c-92</th>\n",
       "      <th>c-93</th>\n",
       "      <th>c-94</th>\n",
       "      <th>c-95</th>\n",
       "      <th>c-96</th>\n",
       "      <th>c-97</th>\n",
       "      <th>c-98</th>\n",
       "      <th>c-99</th>\n",
       "    </tr>\n",
       "  </thead>\n",
       "  <tbody>\n",
       "    <tr>\n",
       "      <th>0</th>\n",
       "      <td>id_000644bb2</td>\n",
       "      <td>com_droga</td>\n",
       "      <td>24</td>\n",
       "      <td>D1</td>\n",
       "      <td>b68db1d53</td>\n",
       "      <td>1.0620</td>\n",
       "      <td>0.5577</td>\n",
       "      <td>-0.2479</td>\n",
       "      <td>-0.6208</td>\n",
       "      <td>-0.1944</td>\n",
       "      <td>...</td>\n",
       "      <td>0.2862</td>\n",
       "      <td>0.2584</td>\n",
       "      <td>0.8076</td>\n",
       "      <td>0.5523</td>\n",
       "      <td>-0.1912</td>\n",
       "      <td>0.6584</td>\n",
       "      <td>-0.3981</td>\n",
       "      <td>0.2139</td>\n",
       "      <td>0.3801</td>\n",
       "      <td>0.4176</td>\n",
       "    </tr>\n",
       "    <tr>\n",
       "      <th>1</th>\n",
       "      <td>id_000779bfc</td>\n",
       "      <td>com_droga</td>\n",
       "      <td>72</td>\n",
       "      <td>D1</td>\n",
       "      <td>df89a8e5a</td>\n",
       "      <td>0.0743</td>\n",
       "      <td>0.4087</td>\n",
       "      <td>0.2991</td>\n",
       "      <td>0.0604</td>\n",
       "      <td>1.0190</td>\n",
       "      <td>...</td>\n",
       "      <td>-0.4265</td>\n",
       "      <td>0.7543</td>\n",
       "      <td>0.4708</td>\n",
       "      <td>0.0230</td>\n",
       "      <td>0.2957</td>\n",
       "      <td>0.4899</td>\n",
       "      <td>0.1522</td>\n",
       "      <td>0.1241</td>\n",
       "      <td>0.6077</td>\n",
       "      <td>0.7371</td>\n",
       "    </tr>\n",
       "    <tr>\n",
       "      <th>2</th>\n",
       "      <td>id_000a6266a</td>\n",
       "      <td>com_droga</td>\n",
       "      <td>48</td>\n",
       "      <td>D1</td>\n",
       "      <td>18bb41b2c</td>\n",
       "      <td>0.6280</td>\n",
       "      <td>0.5817</td>\n",
       "      <td>1.5540</td>\n",
       "      <td>-0.0764</td>\n",
       "      <td>-0.0323</td>\n",
       "      <td>...</td>\n",
       "      <td>-0.7250</td>\n",
       "      <td>-0.6297</td>\n",
       "      <td>0.6103</td>\n",
       "      <td>0.0223</td>\n",
       "      <td>-1.3240</td>\n",
       "      <td>-0.3174</td>\n",
       "      <td>-0.6417</td>\n",
       "      <td>-0.2187</td>\n",
       "      <td>-1.4080</td>\n",
       "      <td>0.6931</td>\n",
       "    </tr>\n",
       "    <tr>\n",
       "      <th>3</th>\n",
       "      <td>id_0015fd391</td>\n",
       "      <td>com_droga</td>\n",
       "      <td>48</td>\n",
       "      <td>D1</td>\n",
       "      <td>8c7f86626</td>\n",
       "      <td>-0.5138</td>\n",
       "      <td>-0.2491</td>\n",
       "      <td>-0.2656</td>\n",
       "      <td>0.5288</td>\n",
       "      <td>4.0620</td>\n",
       "      <td>...</td>\n",
       "      <td>-2.0990</td>\n",
       "      <td>-0.6441</td>\n",
       "      <td>-5.6300</td>\n",
       "      <td>-1.3780</td>\n",
       "      <td>-0.8632</td>\n",
       "      <td>-1.2880</td>\n",
       "      <td>-1.6210</td>\n",
       "      <td>-0.8784</td>\n",
       "      <td>-0.3876</td>\n",
       "      <td>-0.8154</td>\n",
       "    </tr>\n",
       "    <tr>\n",
       "      <th>4</th>\n",
       "      <td>id_001626bd3</td>\n",
       "      <td>com_droga</td>\n",
       "      <td>72</td>\n",
       "      <td>D2</td>\n",
       "      <td>7cbed3131</td>\n",
       "      <td>-0.3254</td>\n",
       "      <td>-0.4009</td>\n",
       "      <td>0.9700</td>\n",
       "      <td>0.6919</td>\n",
       "      <td>1.4180</td>\n",
       "      <td>...</td>\n",
       "      <td>0.0042</td>\n",
       "      <td>0.0048</td>\n",
       "      <td>0.6670</td>\n",
       "      <td>1.0690</td>\n",
       "      <td>0.5523</td>\n",
       "      <td>-0.3031</td>\n",
       "      <td>0.1094</td>\n",
       "      <td>0.2885</td>\n",
       "      <td>-0.3786</td>\n",
       "      <td>0.7125</td>\n",
       "    </tr>\n",
       "    <tr>\n",
       "      <th>...</th>\n",
       "      <td>...</td>\n",
       "      <td>...</td>\n",
       "      <td>...</td>\n",
       "      <td>...</td>\n",
       "      <td>...</td>\n",
       "      <td>...</td>\n",
       "      <td>...</td>\n",
       "      <td>...</td>\n",
       "      <td>...</td>\n",
       "      <td>...</td>\n",
       "      <td>...</td>\n",
       "      <td>...</td>\n",
       "      <td>...</td>\n",
       "      <td>...</td>\n",
       "      <td>...</td>\n",
       "      <td>...</td>\n",
       "      <td>...</td>\n",
       "      <td>...</td>\n",
       "      <td>...</td>\n",
       "      <td>...</td>\n",
       "      <td>...</td>\n",
       "    </tr>\n",
       "    <tr>\n",
       "      <th>23809</th>\n",
       "      <td>id_fffb1ceed</td>\n",
       "      <td>com_droga</td>\n",
       "      <td>24</td>\n",
       "      <td>D2</td>\n",
       "      <td>df1d0a5a1</td>\n",
       "      <td>0.1394</td>\n",
       "      <td>-0.0636</td>\n",
       "      <td>-0.1112</td>\n",
       "      <td>-0.5080</td>\n",
       "      <td>-0.4713</td>\n",
       "      <td>...</td>\n",
       "      <td>0.1969</td>\n",
       "      <td>0.0262</td>\n",
       "      <td>-0.8121</td>\n",
       "      <td>0.3434</td>\n",
       "      <td>0.5372</td>\n",
       "      <td>-0.3246</td>\n",
       "      <td>0.0631</td>\n",
       "      <td>0.9171</td>\n",
       "      <td>0.5258</td>\n",
       "      <td>0.4680</td>\n",
       "    </tr>\n",
       "    <tr>\n",
       "      <th>23810</th>\n",
       "      <td>id_fffb70c0c</td>\n",
       "      <td>com_droga</td>\n",
       "      <td>24</td>\n",
       "      <td>D2</td>\n",
       "      <td>ecf3b6b74</td>\n",
       "      <td>-1.3260</td>\n",
       "      <td>0.3478</td>\n",
       "      <td>-0.3743</td>\n",
       "      <td>0.9905</td>\n",
       "      <td>-0.7178</td>\n",
       "      <td>...</td>\n",
       "      <td>0.4286</td>\n",
       "      <td>0.4426</td>\n",
       "      <td>0.0423</td>\n",
       "      <td>-0.3195</td>\n",
       "      <td>-0.8086</td>\n",
       "      <td>-0.9798</td>\n",
       "      <td>-0.2084</td>\n",
       "      <td>-0.1224</td>\n",
       "      <td>-0.2715</td>\n",
       "      <td>0.3689</td>\n",
       "    </tr>\n",
       "    <tr>\n",
       "      <th>23811</th>\n",
       "      <td>id_fffc1c3f4</td>\n",
       "      <td>com_controle</td>\n",
       "      <td>48</td>\n",
       "      <td>D2</td>\n",
       "      <td>cacb2b860</td>\n",
       "      <td>0.3942</td>\n",
       "      <td>0.3756</td>\n",
       "      <td>0.3109</td>\n",
       "      <td>-0.7389</td>\n",
       "      <td>0.5505</td>\n",
       "      <td>...</td>\n",
       "      <td>0.5409</td>\n",
       "      <td>0.3755</td>\n",
       "      <td>0.7343</td>\n",
       "      <td>0.2807</td>\n",
       "      <td>0.4116</td>\n",
       "      <td>0.6422</td>\n",
       "      <td>0.2256</td>\n",
       "      <td>0.7592</td>\n",
       "      <td>0.6656</td>\n",
       "      <td>0.3808</td>\n",
       "    </tr>\n",
       "    <tr>\n",
       "      <th>23812</th>\n",
       "      <td>id_fffcb9e7c</td>\n",
       "      <td>com_droga</td>\n",
       "      <td>24</td>\n",
       "      <td>D1</td>\n",
       "      <td>8b87a7a83</td>\n",
       "      <td>0.6660</td>\n",
       "      <td>0.2324</td>\n",
       "      <td>0.4392</td>\n",
       "      <td>0.2044</td>\n",
       "      <td>0.8531</td>\n",
       "      <td>...</td>\n",
       "      <td>-0.1105</td>\n",
       "      <td>0.4258</td>\n",
       "      <td>-0.2012</td>\n",
       "      <td>0.1506</td>\n",
       "      <td>1.5230</td>\n",
       "      <td>0.7101</td>\n",
       "      <td>0.1732</td>\n",
       "      <td>0.7015</td>\n",
       "      <td>-0.6290</td>\n",
       "      <td>0.0740</td>\n",
       "    </tr>\n",
       "    <tr>\n",
       "      <th>23813</th>\n",
       "      <td>id_ffffdd77b</td>\n",
       "      <td>com_droga</td>\n",
       "      <td>72</td>\n",
       "      <td>D1</td>\n",
       "      <td>972f41291</td>\n",
       "      <td>-0.8598</td>\n",
       "      <td>1.0240</td>\n",
       "      <td>-0.1361</td>\n",
       "      <td>0.7952</td>\n",
       "      <td>-0.3611</td>\n",
       "      <td>...</td>\n",
       "      <td>-3.3890</td>\n",
       "      <td>-1.7450</td>\n",
       "      <td>-6.6300</td>\n",
       "      <td>-4.0950</td>\n",
       "      <td>-7.3860</td>\n",
       "      <td>-1.4160</td>\n",
       "      <td>-3.5770</td>\n",
       "      <td>-0.4775</td>\n",
       "      <td>-2.1500</td>\n",
       "      <td>-4.2520</td>\n",
       "    </tr>\n",
       "  </tbody>\n",
       "</table>\n",
       "<p>23814 rows × 877 columns</p>\n",
       "</div>"
      ],
      "text/plain": [
       "                 id    tratamento  tempo dose      droga     g-0     g-1  \\\n",
       "0      id_000644bb2     com_droga     24   D1  b68db1d53  1.0620  0.5577   \n",
       "1      id_000779bfc     com_droga     72   D1  df89a8e5a  0.0743  0.4087   \n",
       "2      id_000a6266a     com_droga     48   D1  18bb41b2c  0.6280  0.5817   \n",
       "3      id_0015fd391     com_droga     48   D1  8c7f86626 -0.5138 -0.2491   \n",
       "4      id_001626bd3     com_droga     72   D2  7cbed3131 -0.3254 -0.4009   \n",
       "...             ...           ...    ...  ...        ...     ...     ...   \n",
       "23809  id_fffb1ceed     com_droga     24   D2  df1d0a5a1  0.1394 -0.0636   \n",
       "23810  id_fffb70c0c     com_droga     24   D2  ecf3b6b74 -1.3260  0.3478   \n",
       "23811  id_fffc1c3f4  com_controle     48   D2  cacb2b860  0.3942  0.3756   \n",
       "23812  id_fffcb9e7c     com_droga     24   D1  8b87a7a83  0.6660  0.2324   \n",
       "23813  id_ffffdd77b     com_droga     72   D1  972f41291 -0.8598  1.0240   \n",
       "\n",
       "          g-2     g-3     g-4  ...    c-90    c-91    c-92    c-93    c-94  \\\n",
       "0     -0.2479 -0.6208 -0.1944  ...  0.2862  0.2584  0.8076  0.5523 -0.1912   \n",
       "1      0.2991  0.0604  1.0190  ... -0.4265  0.7543  0.4708  0.0230  0.2957   \n",
       "2      1.5540 -0.0764 -0.0323  ... -0.7250 -0.6297  0.6103  0.0223 -1.3240   \n",
       "3     -0.2656  0.5288  4.0620  ... -2.0990 -0.6441 -5.6300 -1.3780 -0.8632   \n",
       "4      0.9700  0.6919  1.4180  ...  0.0042  0.0048  0.6670  1.0690  0.5523   \n",
       "...       ...     ...     ...  ...     ...     ...     ...     ...     ...   \n",
       "23809 -0.1112 -0.5080 -0.4713  ...  0.1969  0.0262 -0.8121  0.3434  0.5372   \n",
       "23810 -0.3743  0.9905 -0.7178  ...  0.4286  0.4426  0.0423 -0.3195 -0.8086   \n",
       "23811  0.3109 -0.7389  0.5505  ...  0.5409  0.3755  0.7343  0.2807  0.4116   \n",
       "23812  0.4392  0.2044  0.8531  ... -0.1105  0.4258 -0.2012  0.1506  1.5230   \n",
       "23813 -0.1361  0.7952 -0.3611  ... -3.3890 -1.7450 -6.6300 -4.0950 -7.3860   \n",
       "\n",
       "         c-95    c-96    c-97    c-98    c-99  \n",
       "0      0.6584 -0.3981  0.2139  0.3801  0.4176  \n",
       "1      0.4899  0.1522  0.1241  0.6077  0.7371  \n",
       "2     -0.3174 -0.6417 -0.2187 -1.4080  0.6931  \n",
       "3     -1.2880 -1.6210 -0.8784 -0.3876 -0.8154  \n",
       "4     -0.3031  0.1094  0.2885 -0.3786  0.7125  \n",
       "...       ...     ...     ...     ...     ...  \n",
       "23809 -0.3246  0.0631  0.9171  0.5258  0.4680  \n",
       "23810 -0.9798 -0.2084 -0.1224 -0.2715  0.3689  \n",
       "23811  0.6422  0.2256  0.7592  0.6656  0.3808  \n",
       "23812  0.7101  0.1732  0.7015 -0.6290  0.0740  \n",
       "23813 -1.4160 -3.5770 -0.4775 -2.1500 -4.2520  \n",
       "\n",
       "[23814 rows x 877 columns]"
      ]
     },
     "execution_count": 18,
     "metadata": {},
     "output_type": "execute_result"
    }
   ],
   "source": [
    "dados"
   ]
  },
  {
   "cell_type": "code",
   "execution_count": 19,
   "metadata": {
    "id": "CFse2h0Vcrp4"
   },
   "outputs": [],
   "source": [
    "mapa = {'droga': 'composto'}\n",
    "dados.rename(columns=mapa, inplace=True)"
   ]
  },
  {
   "cell_type": "code",
   "execution_count": 20,
   "metadata": {
    "colab": {
     "base_uri": "https://localhost:8080/"
    },
    "id": "VX73K_tLcoQg",
    "outputId": "30cca03c-c0f8-498a-a485-20ba8df47956"
   },
   "outputs": [
    {
     "data": {
      "text/html": [
       "<div>\n",
       "<style scoped>\n",
       "    .dataframe tbody tr th:only-of-type {\n",
       "        vertical-align: middle;\n",
       "    }\n",
       "\n",
       "    .dataframe tbody tr th {\n",
       "        vertical-align: top;\n",
       "    }\n",
       "\n",
       "    .dataframe thead th {\n",
       "        text-align: right;\n",
       "    }\n",
       "</style>\n",
       "<table border=\"1\" class=\"dataframe\">\n",
       "  <thead>\n",
       "    <tr style=\"text-align: right;\">\n",
       "      <th></th>\n",
       "      <th>id</th>\n",
       "      <th>tratamento</th>\n",
       "      <th>tempo</th>\n",
       "      <th>dose</th>\n",
       "      <th>composto</th>\n",
       "      <th>g-0</th>\n",
       "      <th>g-1</th>\n",
       "      <th>g-2</th>\n",
       "      <th>g-3</th>\n",
       "      <th>g-4</th>\n",
       "      <th>...</th>\n",
       "      <th>c-90</th>\n",
       "      <th>c-91</th>\n",
       "      <th>c-92</th>\n",
       "      <th>c-93</th>\n",
       "      <th>c-94</th>\n",
       "      <th>c-95</th>\n",
       "      <th>c-96</th>\n",
       "      <th>c-97</th>\n",
       "      <th>c-98</th>\n",
       "      <th>c-99</th>\n",
       "    </tr>\n",
       "  </thead>\n",
       "  <tbody>\n",
       "    <tr>\n",
       "      <th>0</th>\n",
       "      <td>id_000644bb2</td>\n",
       "      <td>com_droga</td>\n",
       "      <td>24</td>\n",
       "      <td>D1</td>\n",
       "      <td>b68db1d53</td>\n",
       "      <td>1.0620</td>\n",
       "      <td>0.5577</td>\n",
       "      <td>-0.2479</td>\n",
       "      <td>-0.6208</td>\n",
       "      <td>-0.1944</td>\n",
       "      <td>...</td>\n",
       "      <td>0.2862</td>\n",
       "      <td>0.2584</td>\n",
       "      <td>0.8076</td>\n",
       "      <td>0.5523</td>\n",
       "      <td>-0.1912</td>\n",
       "      <td>0.6584</td>\n",
       "      <td>-0.3981</td>\n",
       "      <td>0.2139</td>\n",
       "      <td>0.3801</td>\n",
       "      <td>0.4176</td>\n",
       "    </tr>\n",
       "    <tr>\n",
       "      <th>1</th>\n",
       "      <td>id_000779bfc</td>\n",
       "      <td>com_droga</td>\n",
       "      <td>72</td>\n",
       "      <td>D1</td>\n",
       "      <td>df89a8e5a</td>\n",
       "      <td>0.0743</td>\n",
       "      <td>0.4087</td>\n",
       "      <td>0.2991</td>\n",
       "      <td>0.0604</td>\n",
       "      <td>1.0190</td>\n",
       "      <td>...</td>\n",
       "      <td>-0.4265</td>\n",
       "      <td>0.7543</td>\n",
       "      <td>0.4708</td>\n",
       "      <td>0.0230</td>\n",
       "      <td>0.2957</td>\n",
       "      <td>0.4899</td>\n",
       "      <td>0.1522</td>\n",
       "      <td>0.1241</td>\n",
       "      <td>0.6077</td>\n",
       "      <td>0.7371</td>\n",
       "    </tr>\n",
       "    <tr>\n",
       "      <th>2</th>\n",
       "      <td>id_000a6266a</td>\n",
       "      <td>com_droga</td>\n",
       "      <td>48</td>\n",
       "      <td>D1</td>\n",
       "      <td>18bb41b2c</td>\n",
       "      <td>0.6280</td>\n",
       "      <td>0.5817</td>\n",
       "      <td>1.5540</td>\n",
       "      <td>-0.0764</td>\n",
       "      <td>-0.0323</td>\n",
       "      <td>...</td>\n",
       "      <td>-0.7250</td>\n",
       "      <td>-0.6297</td>\n",
       "      <td>0.6103</td>\n",
       "      <td>0.0223</td>\n",
       "      <td>-1.3240</td>\n",
       "      <td>-0.3174</td>\n",
       "      <td>-0.6417</td>\n",
       "      <td>-0.2187</td>\n",
       "      <td>-1.4080</td>\n",
       "      <td>0.6931</td>\n",
       "    </tr>\n",
       "    <tr>\n",
       "      <th>3</th>\n",
       "      <td>id_0015fd391</td>\n",
       "      <td>com_droga</td>\n",
       "      <td>48</td>\n",
       "      <td>D1</td>\n",
       "      <td>8c7f86626</td>\n",
       "      <td>-0.5138</td>\n",
       "      <td>-0.2491</td>\n",
       "      <td>-0.2656</td>\n",
       "      <td>0.5288</td>\n",
       "      <td>4.0620</td>\n",
       "      <td>...</td>\n",
       "      <td>-2.0990</td>\n",
       "      <td>-0.6441</td>\n",
       "      <td>-5.6300</td>\n",
       "      <td>-1.3780</td>\n",
       "      <td>-0.8632</td>\n",
       "      <td>-1.2880</td>\n",
       "      <td>-1.6210</td>\n",
       "      <td>-0.8784</td>\n",
       "      <td>-0.3876</td>\n",
       "      <td>-0.8154</td>\n",
       "    </tr>\n",
       "    <tr>\n",
       "      <th>4</th>\n",
       "      <td>id_001626bd3</td>\n",
       "      <td>com_droga</td>\n",
       "      <td>72</td>\n",
       "      <td>D2</td>\n",
       "      <td>7cbed3131</td>\n",
       "      <td>-0.3254</td>\n",
       "      <td>-0.4009</td>\n",
       "      <td>0.9700</td>\n",
       "      <td>0.6919</td>\n",
       "      <td>1.4180</td>\n",
       "      <td>...</td>\n",
       "      <td>0.0042</td>\n",
       "      <td>0.0048</td>\n",
       "      <td>0.6670</td>\n",
       "      <td>1.0690</td>\n",
       "      <td>0.5523</td>\n",
       "      <td>-0.3031</td>\n",
       "      <td>0.1094</td>\n",
       "      <td>0.2885</td>\n",
       "      <td>-0.3786</td>\n",
       "      <td>0.7125</td>\n",
       "    </tr>\n",
       "  </tbody>\n",
       "</table>\n",
       "<p>5 rows × 877 columns</p>\n",
       "</div>"
      ],
      "text/plain": [
       "             id tratamento  tempo dose   composto     g-0     g-1     g-2  \\\n",
       "0  id_000644bb2  com_droga     24   D1  b68db1d53  1.0620  0.5577 -0.2479   \n",
       "1  id_000779bfc  com_droga     72   D1  df89a8e5a  0.0743  0.4087  0.2991   \n",
       "2  id_000a6266a  com_droga     48   D1  18bb41b2c  0.6280  0.5817  1.5540   \n",
       "3  id_0015fd391  com_droga     48   D1  8c7f86626 -0.5138 -0.2491 -0.2656   \n",
       "4  id_001626bd3  com_droga     72   D2  7cbed3131 -0.3254 -0.4009  0.9700   \n",
       "\n",
       "      g-3     g-4  ...    c-90    c-91    c-92    c-93    c-94    c-95  \\\n",
       "0 -0.6208 -0.1944  ...  0.2862  0.2584  0.8076  0.5523 -0.1912  0.6584   \n",
       "1  0.0604  1.0190  ... -0.4265  0.7543  0.4708  0.0230  0.2957  0.4899   \n",
       "2 -0.0764 -0.0323  ... -0.7250 -0.6297  0.6103  0.0223 -1.3240 -0.3174   \n",
       "3  0.5288  4.0620  ... -2.0990 -0.6441 -5.6300 -1.3780 -0.8632 -1.2880   \n",
       "4  0.6919  1.4180  ...  0.0042  0.0048  0.6670  1.0690  0.5523 -0.3031   \n",
       "\n",
       "     c-96    c-97    c-98    c-99  \n",
       "0 -0.3981  0.2139  0.3801  0.4176  \n",
       "1  0.1522  0.1241  0.6077  0.7371  \n",
       "2 -0.6417 -0.2187 -1.4080  0.6931  \n",
       "3 -1.6210 -0.8784 -0.3876 -0.8154  \n",
       "4  0.1094  0.2885 -0.3786  0.7125  \n",
       "\n",
       "[5 rows x 877 columns]"
      ]
     },
     "execution_count": 20,
     "metadata": {},
     "output_type": "execute_result"
    }
   ],
   "source": [
    "dados.head()"
   ]
  },
  {
   "cell_type": "code",
   "execution_count": 21,
   "metadata": {
    "id": "D5hK5mcVej_G"
   },
   "outputs": [],
   "source": [
    "cod_compostos = dados['composto'].value_counts().index[0:5]"
   ]
  },
  {
   "cell_type": "code",
   "execution_count": 22,
   "metadata": {
    "colab": {
     "base_uri": "https://localhost:8080/"
    },
    "id": "LgrRw3eSfLYu",
    "outputId": "a53030ae-50ff-4392-b0e3-33eb59e3f588"
   },
   "outputs": [
    {
     "data": {
      "text/plain": [
       "Index(['cacb2b860', '87d714366', '9f80f3f77', '8b87a7a83', '5628cb3ee'], dtype='object')"
      ]
     },
     "execution_count": 22,
     "metadata": {},
     "output_type": "execute_result"
    }
   ],
   "source": [
    "cod_compostos"
   ]
  },
  {
   "cell_type": "code",
   "execution_count": 23,
   "metadata": {
    "colab": {
     "base_uri": "https://localhost:8080/"
    },
    "id": "_GlSwTMGfpFs",
    "outputId": "e22ad2d9-ffe0-4b17-adc9-38a71634ba36"
   },
   "outputs": [
    {
     "data": {
      "text/html": [
       "<div>\n",
       "<style scoped>\n",
       "    .dataframe tbody tr th:only-of-type {\n",
       "        vertical-align: middle;\n",
       "    }\n",
       "\n",
       "    .dataframe tbody tr th {\n",
       "        vertical-align: top;\n",
       "    }\n",
       "\n",
       "    .dataframe thead th {\n",
       "        text-align: right;\n",
       "    }\n",
       "</style>\n",
       "<table border=\"1\" class=\"dataframe\">\n",
       "  <thead>\n",
       "    <tr style=\"text-align: right;\">\n",
       "      <th></th>\n",
       "      <th>id</th>\n",
       "      <th>tratamento</th>\n",
       "      <th>tempo</th>\n",
       "      <th>dose</th>\n",
       "      <th>composto</th>\n",
       "      <th>g-0</th>\n",
       "      <th>g-1</th>\n",
       "      <th>g-2</th>\n",
       "      <th>g-3</th>\n",
       "      <th>g-4</th>\n",
       "      <th>...</th>\n",
       "      <th>c-90</th>\n",
       "      <th>c-91</th>\n",
       "      <th>c-92</th>\n",
       "      <th>c-93</th>\n",
       "      <th>c-94</th>\n",
       "      <th>c-95</th>\n",
       "      <th>c-96</th>\n",
       "      <th>c-97</th>\n",
       "      <th>c-98</th>\n",
       "      <th>c-99</th>\n",
       "    </tr>\n",
       "  </thead>\n",
       "  <tbody>\n",
       "    <tr>\n",
       "      <th>7</th>\n",
       "      <td>id_0020d0484</td>\n",
       "      <td>com_droga</td>\n",
       "      <td>48</td>\n",
       "      <td>D1</td>\n",
       "      <td>8b87a7a83</td>\n",
       "      <td>0.2711</td>\n",
       "      <td>0.5133</td>\n",
       "      <td>-0.1327</td>\n",
       "      <td>2.5950</td>\n",
       "      <td>0.6980</td>\n",
       "      <td>...</td>\n",
       "      <td>0.3230</td>\n",
       "      <td>-0.4140</td>\n",
       "      <td>0.2532</td>\n",
       "      <td>0.0513</td>\n",
       "      <td>0.8600</td>\n",
       "      <td>1.4250</td>\n",
       "      <td>0.6633</td>\n",
       "      <td>0.4562</td>\n",
       "      <td>-0.9622</td>\n",
       "      <td>0.0260</td>\n",
       "    </tr>\n",
       "    <tr>\n",
       "      <th>16</th>\n",
       "      <td>id_002fb9c19</td>\n",
       "      <td>com_droga</td>\n",
       "      <td>48</td>\n",
       "      <td>D1</td>\n",
       "      <td>87d714366</td>\n",
       "      <td>8.7380</td>\n",
       "      <td>0.1914</td>\n",
       "      <td>2.4380</td>\n",
       "      <td>-0.2930</td>\n",
       "      <td>3.2010</td>\n",
       "      <td>...</td>\n",
       "      <td>-9.9840</td>\n",
       "      <td>-9.9840</td>\n",
       "      <td>-9.9840</td>\n",
       "      <td>-9.9840</td>\n",
       "      <td>-9.9840</td>\n",
       "      <td>-9.9840</td>\n",
       "      <td>-9.9840</td>\n",
       "      <td>-9.9840</td>\n",
       "      <td>-9.9840</td>\n",
       "      <td>-6.7840</td>\n",
       "    </tr>\n",
       "    <tr>\n",
       "      <th>25</th>\n",
       "      <td>id_0054388ec</td>\n",
       "      <td>com_controle</td>\n",
       "      <td>48</td>\n",
       "      <td>D1</td>\n",
       "      <td>cacb2b860</td>\n",
       "      <td>-0.6696</td>\n",
       "      <td>-0.2718</td>\n",
       "      <td>-1.2230</td>\n",
       "      <td>-0.6226</td>\n",
       "      <td>-0.7220</td>\n",
       "      <td>...</td>\n",
       "      <td>0.6171</td>\n",
       "      <td>0.6405</td>\n",
       "      <td>0.5429</td>\n",
       "      <td>0.3562</td>\n",
       "      <td>1.3290</td>\n",
       "      <td>0.5573</td>\n",
       "      <td>0.8837</td>\n",
       "      <td>0.5534</td>\n",
       "      <td>0.8976</td>\n",
       "      <td>1.0050</td>\n",
       "    </tr>\n",
       "    <tr>\n",
       "      <th>38</th>\n",
       "      <td>id_0079af0fb</td>\n",
       "      <td>com_controle</td>\n",
       "      <td>24</td>\n",
       "      <td>D1</td>\n",
       "      <td>cacb2b860</td>\n",
       "      <td>-0.1636</td>\n",
       "      <td>-1.8230</td>\n",
       "      <td>-0.5211</td>\n",
       "      <td>0.3054</td>\n",
       "      <td>-1.1280</td>\n",
       "      <td>...</td>\n",
       "      <td>-0.3880</td>\n",
       "      <td>-0.6828</td>\n",
       "      <td>-0.6594</td>\n",
       "      <td>-0.2043</td>\n",
       "      <td>0.3571</td>\n",
       "      <td>-0.1319</td>\n",
       "      <td>0.2187</td>\n",
       "      <td>0.0737</td>\n",
       "      <td>0.6498</td>\n",
       "      <td>-1.4820</td>\n",
       "    </tr>\n",
       "    <tr>\n",
       "      <th>40</th>\n",
       "      <td>id_007bfbb91</td>\n",
       "      <td>com_controle</td>\n",
       "      <td>24</td>\n",
       "      <td>D2</td>\n",
       "      <td>cacb2b860</td>\n",
       "      <td>-1.3200</td>\n",
       "      <td>-1.7340</td>\n",
       "      <td>-0.0741</td>\n",
       "      <td>1.5440</td>\n",
       "      <td>-1.8290</td>\n",
       "      <td>...</td>\n",
       "      <td>0.7412</td>\n",
       "      <td>1.0340</td>\n",
       "      <td>0.7393</td>\n",
       "      <td>1.1020</td>\n",
       "      <td>0.3786</td>\n",
       "      <td>0.2636</td>\n",
       "      <td>-0.5751</td>\n",
       "      <td>0.3362</td>\n",
       "      <td>0.8543</td>\n",
       "      <td>0.9180</td>\n",
       "    </tr>\n",
       "    <tr>\n",
       "      <th>...</th>\n",
       "      <td>...</td>\n",
       "      <td>...</td>\n",
       "      <td>...</td>\n",
       "      <td>...</td>\n",
       "      <td>...</td>\n",
       "      <td>...</td>\n",
       "      <td>...</td>\n",
       "      <td>...</td>\n",
       "      <td>...</td>\n",
       "      <td>...</td>\n",
       "      <td>...</td>\n",
       "      <td>...</td>\n",
       "      <td>...</td>\n",
       "      <td>...</td>\n",
       "      <td>...</td>\n",
       "      <td>...</td>\n",
       "      <td>...</td>\n",
       "      <td>...</td>\n",
       "      <td>...</td>\n",
       "      <td>...</td>\n",
       "      <td>...</td>\n",
       "    </tr>\n",
       "    <tr>\n",
       "      <th>23793</th>\n",
       "      <td>id_ffd26f361</td>\n",
       "      <td>com_controle</td>\n",
       "      <td>48</td>\n",
       "      <td>D2</td>\n",
       "      <td>cacb2b860</td>\n",
       "      <td>0.6008</td>\n",
       "      <td>0.2781</td>\n",
       "      <td>-0.3319</td>\n",
       "      <td>-0.8782</td>\n",
       "      <td>0.9281</td>\n",
       "      <td>...</td>\n",
       "      <td>1.2470</td>\n",
       "      <td>0.9569</td>\n",
       "      <td>-0.2065</td>\n",
       "      <td>-0.4918</td>\n",
       "      <td>0.7863</td>\n",
       "      <td>0.0504</td>\n",
       "      <td>0.8813</td>\n",
       "      <td>0.7757</td>\n",
       "      <td>-0.5272</td>\n",
       "      <td>0.7082</td>\n",
       "    </tr>\n",
       "    <tr>\n",
       "      <th>23802</th>\n",
       "      <td>id_fff3976bd</td>\n",
       "      <td>com_droga</td>\n",
       "      <td>24</td>\n",
       "      <td>D1</td>\n",
       "      <td>87d714366</td>\n",
       "      <td>3.2890</td>\n",
       "      <td>2.1270</td>\n",
       "      <td>0.9770</td>\n",
       "      <td>2.0490</td>\n",
       "      <td>2.3170</td>\n",
       "      <td>...</td>\n",
       "      <td>-8.6300</td>\n",
       "      <td>-8.1490</td>\n",
       "      <td>-6.2900</td>\n",
       "      <td>-8.0970</td>\n",
       "      <td>-8.7330</td>\n",
       "      <td>-2.3780</td>\n",
       "      <td>-8.4480</td>\n",
       "      <td>-4.4550</td>\n",
       "      <td>-5.7930</td>\n",
       "      <td>-3.7000</td>\n",
       "    </tr>\n",
       "    <tr>\n",
       "      <th>23805</th>\n",
       "      <td>id_fff6df1c5</td>\n",
       "      <td>com_droga</td>\n",
       "      <td>48</td>\n",
       "      <td>D2</td>\n",
       "      <td>5628cb3ee</td>\n",
       "      <td>1.7380</td>\n",
       "      <td>-1.2900</td>\n",
       "      <td>-0.4533</td>\n",
       "      <td>-1.1640</td>\n",
       "      <td>-0.4841</td>\n",
       "      <td>...</td>\n",
       "      <td>0.2865</td>\n",
       "      <td>0.5974</td>\n",
       "      <td>-0.2727</td>\n",
       "      <td>0.1188</td>\n",
       "      <td>1.0770</td>\n",
       "      <td>-1.0250</td>\n",
       "      <td>0.1516</td>\n",
       "      <td>0.4503</td>\n",
       "      <td>-0.6312</td>\n",
       "      <td>-0.8302</td>\n",
       "    </tr>\n",
       "    <tr>\n",
       "      <th>23811</th>\n",
       "      <td>id_fffc1c3f4</td>\n",
       "      <td>com_controle</td>\n",
       "      <td>48</td>\n",
       "      <td>D2</td>\n",
       "      <td>cacb2b860</td>\n",
       "      <td>0.3942</td>\n",
       "      <td>0.3756</td>\n",
       "      <td>0.3109</td>\n",
       "      <td>-0.7389</td>\n",
       "      <td>0.5505</td>\n",
       "      <td>...</td>\n",
       "      <td>0.5409</td>\n",
       "      <td>0.3755</td>\n",
       "      <td>0.7343</td>\n",
       "      <td>0.2807</td>\n",
       "      <td>0.4116</td>\n",
       "      <td>0.6422</td>\n",
       "      <td>0.2256</td>\n",
       "      <td>0.7592</td>\n",
       "      <td>0.6656</td>\n",
       "      <td>0.3808</td>\n",
       "    </tr>\n",
       "    <tr>\n",
       "      <th>23812</th>\n",
       "      <td>id_fffcb9e7c</td>\n",
       "      <td>com_droga</td>\n",
       "      <td>24</td>\n",
       "      <td>D1</td>\n",
       "      <td>8b87a7a83</td>\n",
       "      <td>0.6660</td>\n",
       "      <td>0.2324</td>\n",
       "      <td>0.4392</td>\n",
       "      <td>0.2044</td>\n",
       "      <td>0.8531</td>\n",
       "      <td>...</td>\n",
       "      <td>-0.1105</td>\n",
       "      <td>0.4258</td>\n",
       "      <td>-0.2012</td>\n",
       "      <td>0.1506</td>\n",
       "      <td>1.5230</td>\n",
       "      <td>0.7101</td>\n",
       "      <td>0.1732</td>\n",
       "      <td>0.7015</td>\n",
       "      <td>-0.6290</td>\n",
       "      <td>0.0740</td>\n",
       "    </tr>\n",
       "  </tbody>\n",
       "</table>\n",
       "<p>3235 rows × 877 columns</p>\n",
       "</div>"
      ],
      "text/plain": [
       "                 id    tratamento  tempo dose   composto     g-0     g-1  \\\n",
       "7      id_0020d0484     com_droga     48   D1  8b87a7a83  0.2711  0.5133   \n",
       "16     id_002fb9c19     com_droga     48   D1  87d714366  8.7380  0.1914   \n",
       "25     id_0054388ec  com_controle     48   D1  cacb2b860 -0.6696 -0.2718   \n",
       "38     id_0079af0fb  com_controle     24   D1  cacb2b860 -0.1636 -1.8230   \n",
       "40     id_007bfbb91  com_controle     24   D2  cacb2b860 -1.3200 -1.7340   \n",
       "...             ...           ...    ...  ...        ...     ...     ...   \n",
       "23793  id_ffd26f361  com_controle     48   D2  cacb2b860  0.6008  0.2781   \n",
       "23802  id_fff3976bd     com_droga     24   D1  87d714366  3.2890  2.1270   \n",
       "23805  id_fff6df1c5     com_droga     48   D2  5628cb3ee  1.7380 -1.2900   \n",
       "23811  id_fffc1c3f4  com_controle     48   D2  cacb2b860  0.3942  0.3756   \n",
       "23812  id_fffcb9e7c     com_droga     24   D1  8b87a7a83  0.6660  0.2324   \n",
       "\n",
       "          g-2     g-3     g-4  ...    c-90    c-91    c-92    c-93    c-94  \\\n",
       "7     -0.1327  2.5950  0.6980  ...  0.3230 -0.4140  0.2532  0.0513  0.8600   \n",
       "16     2.4380 -0.2930  3.2010  ... -9.9840 -9.9840 -9.9840 -9.9840 -9.9840   \n",
       "25    -1.2230 -0.6226 -0.7220  ...  0.6171  0.6405  0.5429  0.3562  1.3290   \n",
       "38    -0.5211  0.3054 -1.1280  ... -0.3880 -0.6828 -0.6594 -0.2043  0.3571   \n",
       "40    -0.0741  1.5440 -1.8290  ...  0.7412  1.0340  0.7393  1.1020  0.3786   \n",
       "...       ...     ...     ...  ...     ...     ...     ...     ...     ...   \n",
       "23793 -0.3319 -0.8782  0.9281  ...  1.2470  0.9569 -0.2065 -0.4918  0.7863   \n",
       "23802  0.9770  2.0490  2.3170  ... -8.6300 -8.1490 -6.2900 -8.0970 -8.7330   \n",
       "23805 -0.4533 -1.1640 -0.4841  ...  0.2865  0.5974 -0.2727  0.1188  1.0770   \n",
       "23811  0.3109 -0.7389  0.5505  ...  0.5409  0.3755  0.7343  0.2807  0.4116   \n",
       "23812  0.4392  0.2044  0.8531  ... -0.1105  0.4258 -0.2012  0.1506  1.5230   \n",
       "\n",
       "         c-95    c-96    c-97    c-98    c-99  \n",
       "7      1.4250  0.6633  0.4562 -0.9622  0.0260  \n",
       "16    -9.9840 -9.9840 -9.9840 -9.9840 -6.7840  \n",
       "25     0.5573  0.8837  0.5534  0.8976  1.0050  \n",
       "38    -0.1319  0.2187  0.0737  0.6498 -1.4820  \n",
       "40     0.2636 -0.5751  0.3362  0.8543  0.9180  \n",
       "...       ...     ...     ...     ...     ...  \n",
       "23793  0.0504  0.8813  0.7757 -0.5272  0.7082  \n",
       "23802 -2.3780 -8.4480 -4.4550 -5.7930 -3.7000  \n",
       "23805 -1.0250  0.1516  0.4503 -0.6312 -0.8302  \n",
       "23811  0.6422  0.2256  0.7592  0.6656  0.3808  \n",
       "23812  0.7101  0.1732  0.7015 -0.6290  0.0740  \n",
       "\n",
       "[3235 rows x 877 columns]"
      ]
     },
     "execution_count": 23,
     "metadata": {},
     "output_type": "execute_result"
    }
   ],
   "source": [
    "dados.query('composto in @cod_compostos')"
   ]
  },
  {
   "cell_type": "code",
   "execution_count": 25,
   "metadata": {
    "colab": {
     "base_uri": "https://localhost:8080/"
    },
    "id": "IePUr98kdgED",
    "outputId": "e5582ce3-54b4-45a5-a3ae-b879ff457c49"
   },
   "outputs": [
    {
     "data": {
      "image/png": "[encoded data removed]",
      "text/plain": [
       "<Figure size 576x432 with 1 Axes>"
      ]
     },
     "metadata": {},
     "output_type": "display_data"
    }
   ],
   "source": [
    "import seaborn as sns\n",
    "import matplotlib.pyplot as plt\n",
    "sns.set()\n",
    "plt.figure(figsize=(8, 6))\n",
    "ax = sns.countplot(x = 'composto', data=dados.query('composto in @cod_compostos'))\n",
    "ax.set_title('Top 5 compostos')\n",
    "plt.show()"
   ]
  },
  {
   "cell_type": "code",
   "execution_count": 26,
   "metadata": {
    "colab": {
     "base_uri": "https://localhost:8080/"
    },
    "id": "DkQ2wH9Gj-w7",
    "outputId": "0f71d253-60dd-4aec-eb26-8ef85eff390c"
   },
   "outputs": [
    {
     "data": {
      "text/plain": [
       "14367"
      ]
     },
     "execution_count": 26,
     "metadata": {},
     "output_type": "execute_result"
    }
   ],
   "source": [
    "len(dados['g-0'].unique())"
   ]
  },
  {
   "cell_type": "code",
   "execution_count": 27,
   "metadata": {
    "colab": {
     "base_uri": "https://localhost:8080/"
    },
    "id": "mCC5DpK1kmiX",
    "outputId": "1a16a4ba-837c-4fd0-a9ca-57c50cad5e32"
   },
   "outputs": [
    {
     "data": {
      "text/plain": [
       "-5.513"
      ]
     },
     "execution_count": 27,
     "metadata": {},
     "output_type": "execute_result"
    }
   ],
   "source": [
    "dados['g-0'].min()"
   ]
  },
  {
   "cell_type": "code",
   "execution_count": 28,
   "metadata": {
    "colab": {
     "base_uri": "https://localhost:8080/"
    },
    "id": "qzH4Jl0OksuL",
    "outputId": "178a3513-0ac7-42bc-9c43-092aa8a215f7"
   },
   "outputs": [
    {
     "data": {
      "text/plain": [
       "10.0"
      ]
     },
     "execution_count": 28,
     "metadata": {},
     "output_type": "execute_result"
    }
   ],
   "source": [
    "dados['g-0'].max()"
   ]
  },
  {
   "cell_type": "code",
   "execution_count": 29,
   "metadata": {
    "colab": {
     "base_uri": "https://localhost:8080/"
    },
    "id": "RnjRPpubk1z0",
    "outputId": "c1b88c8f-5749-422b-9bc0-b5dc7ad66eb9"
   },
   "outputs": [
    {
     "data": {
      "text/plain": [
       "<AxesSubplot:>"
      ]
     },
     "execution_count": 29,
     "metadata": {},
     "output_type": "execute_result"
    },
    {
     "data": {
      "image/png": "[encoded data removed]",
      "text/plain": [
       "<Figure size 432x288 with 1 Axes>"
      ]
     },
     "metadata": {},
     "output_type": "display_data"
    }
   ],
   "source": [
    "dados['g-0'].hist(bins = 100)"
   ]
  },
  {
   "cell_type": "code",
   "execution_count": 30,
   "metadata": {
    "colab": {
     "base_uri": "https://localhost:8080/"
    },
    "id": "1_aedkvToYlB",
    "outputId": "945ae8c9-e761-4713-8dfd-1988536ac072"
   },
   "outputs": [
    {
     "data": {
      "text/plain": [
       "<AxesSubplot:>"
      ]
     },
     "execution_count": 30,
     "metadata": {},
     "output_type": "execute_result"
    },
    {
     "data": {
      "image/png": "[encoded data removed]",
      "text/plain": [
       "<Figure size 432x288 with 1 Axes>"
      ]
     },
     "metadata": {},
     "output_type": "display_data"
    }
   ],
   "source": [
    "dados['g-19'].hist(bins = 100)"
   ]
  },
  {
   "cell_type": "code",
   "execution_count": 31,
   "metadata": {
    "colab": {
     "base_uri": "https://localhost:8080/"
    },
    "id": "Kv-2zPLBprgD",
    "outputId": "e7fa5edb-f119-4ed5-d187-bb1e73c9b01a"
   },
   "outputs": [
    {
     "data": {
      "text/html": [
       "<div>\n",
       "<style scoped>\n",
       "    .dataframe tbody tr th:only-of-type {\n",
       "        vertical-align: middle;\n",
       "    }\n",
       "\n",
       "    .dataframe tbody tr th {\n",
       "        vertical-align: top;\n",
       "    }\n",
       "\n",
       "    .dataframe thead th {\n",
       "        text-align: right;\n",
       "    }\n",
       "</style>\n",
       "<table border=\"1\" class=\"dataframe\">\n",
       "  <thead>\n",
       "    <tr style=\"text-align: right;\">\n",
       "      <th></th>\n",
       "      <th>tempo</th>\n",
       "      <th>g-0</th>\n",
       "      <th>g-1</th>\n",
       "      <th>g-2</th>\n",
       "      <th>g-3</th>\n",
       "      <th>g-4</th>\n",
       "      <th>g-5</th>\n",
       "      <th>g-6</th>\n",
       "      <th>g-7</th>\n",
       "      <th>g-8</th>\n",
       "      <th>...</th>\n",
       "      <th>c-90</th>\n",
       "      <th>c-91</th>\n",
       "      <th>c-92</th>\n",
       "      <th>c-93</th>\n",
       "      <th>c-94</th>\n",
       "      <th>c-95</th>\n",
       "      <th>c-96</th>\n",
       "      <th>c-97</th>\n",
       "      <th>c-98</th>\n",
       "      <th>c-99</th>\n",
       "    </tr>\n",
       "  </thead>\n",
       "  <tbody>\n",
       "    <tr>\n",
       "      <th>count</th>\n",
       "      <td>23814.000000</td>\n",
       "      <td>23814.000000</td>\n",
       "      <td>23814.000000</td>\n",
       "      <td>23814.000000</td>\n",
       "      <td>23814.000000</td>\n",
       "      <td>23814.000000</td>\n",
       "      <td>23814.000000</td>\n",
       "      <td>23814.000000</td>\n",
       "      <td>23814.000000</td>\n",
       "      <td>23814.000000</td>\n",
       "      <td>...</td>\n",
       "      <td>23814.000000</td>\n",
       "      <td>23814.000000</td>\n",
       "      <td>23814.000000</td>\n",
       "      <td>23814.000000</td>\n",
       "      <td>23814.000000</td>\n",
       "      <td>23814.000000</td>\n",
       "      <td>23814.000000</td>\n",
       "      <td>23814.000000</td>\n",
       "      <td>23814.000000</td>\n",
       "      <td>23814.000000</td>\n",
       "    </tr>\n",
       "    <tr>\n",
       "      <th>mean</th>\n",
       "      <td>48.020156</td>\n",
       "      <td>0.248366</td>\n",
       "      <td>-0.095684</td>\n",
       "      <td>0.152253</td>\n",
       "      <td>0.081971</td>\n",
       "      <td>0.057347</td>\n",
       "      <td>-0.138836</td>\n",
       "      <td>0.035961</td>\n",
       "      <td>-0.202651</td>\n",
       "      <td>-0.190083</td>\n",
       "      <td>...</td>\n",
       "      <td>-0.469244</td>\n",
       "      <td>-0.461411</td>\n",
       "      <td>-0.513256</td>\n",
       "      <td>-0.500142</td>\n",
       "      <td>-0.507093</td>\n",
       "      <td>-0.353726</td>\n",
       "      <td>-0.463485</td>\n",
       "      <td>-0.378241</td>\n",
       "      <td>-0.470252</td>\n",
       "      <td>-0.301505</td>\n",
       "    </tr>\n",
       "    <tr>\n",
       "      <th>std</th>\n",
       "      <td>19.402807</td>\n",
       "      <td>1.393399</td>\n",
       "      <td>0.812363</td>\n",
       "      <td>1.035731</td>\n",
       "      <td>0.950012</td>\n",
       "      <td>1.032091</td>\n",
       "      <td>1.179388</td>\n",
       "      <td>0.882395</td>\n",
       "      <td>1.125494</td>\n",
       "      <td>1.749885</td>\n",
       "      <td>...</td>\n",
       "      <td>2.000488</td>\n",
       "      <td>2.042475</td>\n",
       "      <td>2.001714</td>\n",
       "      <td>2.107105</td>\n",
       "      <td>2.159589</td>\n",
       "      <td>1.629291</td>\n",
       "      <td>2.059725</td>\n",
       "      <td>1.703615</td>\n",
       "      <td>1.834828</td>\n",
       "      <td>1.407918</td>\n",
       "    </tr>\n",
       "    <tr>\n",
       "      <th>min</th>\n",
       "      <td>24.000000</td>\n",
       "      <td>-5.513000</td>\n",
       "      <td>-5.737000</td>\n",
       "      <td>-9.104000</td>\n",
       "      <td>-5.998000</td>\n",
       "      <td>-6.369000</td>\n",
       "      <td>-10.000000</td>\n",
       "      <td>-10.000000</td>\n",
       "      <td>-10.000000</td>\n",
       "      <td>-10.000000</td>\n",
       "      <td>...</td>\n",
       "      <td>-10.000000</td>\n",
       "      <td>-10.000000</td>\n",
       "      <td>-10.000000</td>\n",
       "      <td>-10.000000</td>\n",
       "      <td>-10.000000</td>\n",
       "      <td>-10.000000</td>\n",
       "      <td>-10.000000</td>\n",
       "      <td>-10.000000</td>\n",
       "      <td>-10.000000</td>\n",
       "      <td>-10.000000</td>\n",
       "    </tr>\n",
       "    <tr>\n",
       "      <th>25%</th>\n",
       "      <td>24.000000</td>\n",
       "      <td>-0.473075</td>\n",
       "      <td>-0.562200</td>\n",
       "      <td>-0.437750</td>\n",
       "      <td>-0.429575</td>\n",
       "      <td>-0.470925</td>\n",
       "      <td>-0.602225</td>\n",
       "      <td>-0.493900</td>\n",
       "      <td>-0.525175</td>\n",
       "      <td>-0.511675</td>\n",
       "      <td>...</td>\n",
       "      <td>-0.566175</td>\n",
       "      <td>-0.565975</td>\n",
       "      <td>-0.589975</td>\n",
       "      <td>-0.568700</td>\n",
       "      <td>-0.563775</td>\n",
       "      <td>-0.567975</td>\n",
       "      <td>-0.552575</td>\n",
       "      <td>-0.561000</td>\n",
       "      <td>-0.592600</td>\n",
       "      <td>-0.562900</td>\n",
       "    </tr>\n",
       "    <tr>\n",
       "      <th>50%</th>\n",
       "      <td>48.000000</td>\n",
       "      <td>-0.008850</td>\n",
       "      <td>-0.046600</td>\n",
       "      <td>0.075200</td>\n",
       "      <td>0.008050</td>\n",
       "      <td>-0.026900</td>\n",
       "      <td>-0.015650</td>\n",
       "      <td>-0.000650</td>\n",
       "      <td>-0.017900</td>\n",
       "      <td>0.010000</td>\n",
       "      <td>...</td>\n",
       "      <td>-0.009900</td>\n",
       "      <td>0.003250</td>\n",
       "      <td>-0.009100</td>\n",
       "      <td>-0.013750</td>\n",
       "      <td>-0.003300</td>\n",
       "      <td>-0.010250</td>\n",
       "      <td>-0.001250</td>\n",
       "      <td>-0.006800</td>\n",
       "      <td>0.014000</td>\n",
       "      <td>-0.019500</td>\n",
       "    </tr>\n",
       "    <tr>\n",
       "      <th>75%</th>\n",
       "      <td>72.000000</td>\n",
       "      <td>0.525700</td>\n",
       "      <td>0.403075</td>\n",
       "      <td>0.663925</td>\n",
       "      <td>0.463400</td>\n",
       "      <td>0.465375</td>\n",
       "      <td>0.510425</td>\n",
       "      <td>0.528725</td>\n",
       "      <td>0.411900</td>\n",
       "      <td>0.549225</td>\n",
       "      <td>...</td>\n",
       "      <td>0.457750</td>\n",
       "      <td>0.461500</td>\n",
       "      <td>0.445675</td>\n",
       "      <td>0.452900</td>\n",
       "      <td>0.470900</td>\n",
       "      <td>0.444750</td>\n",
       "      <td>0.465225</td>\n",
       "      <td>0.446400</td>\n",
       "      <td>0.461275</td>\n",
       "      <td>0.438650</td>\n",
       "    </tr>\n",
       "    <tr>\n",
       "      <th>max</th>\n",
       "      <td>72.000000</td>\n",
       "      <td>10.000000</td>\n",
       "      <td>5.039000</td>\n",
       "      <td>8.257000</td>\n",
       "      <td>10.000000</td>\n",
       "      <td>10.000000</td>\n",
       "      <td>7.282000</td>\n",
       "      <td>7.333000</td>\n",
       "      <td>5.473000</td>\n",
       "      <td>8.887000</td>\n",
       "      <td>...</td>\n",
       "      <td>4.069000</td>\n",
       "      <td>3.960000</td>\n",
       "      <td>3.927000</td>\n",
       "      <td>3.596000</td>\n",
       "      <td>3.747000</td>\n",
       "      <td>2.814000</td>\n",
       "      <td>3.505000</td>\n",
       "      <td>2.924000</td>\n",
       "      <td>3.111000</td>\n",
       "      <td>3.805000</td>\n",
       "    </tr>\n",
       "  </tbody>\n",
       "</table>\n",
       "<p>8 rows × 873 columns</p>\n",
       "</div>"
      ],
      "text/plain": [
       "              tempo           g-0           g-1           g-2           g-3  \\\n",
       "count  23814.000000  23814.000000  23814.000000  23814.000000  23814.000000   \n",
       "mean      48.020156      0.248366     -0.095684      0.152253      0.081971   \n",
       "std       19.402807      1.393399      0.812363      1.035731      0.950012   \n",
       "min       24.000000     -5.513000     -5.737000     -9.104000     -5.998000   \n",
       "25%       24.000000     -0.473075     -0.562200     -0.437750     -0.429575   \n",
       "50%       48.000000     -0.008850     -0.046600      0.075200      0.008050   \n",
       "75%       72.000000      0.525700      0.403075      0.663925      0.463400   \n",
       "max       72.000000     10.000000      5.039000      8.257000     10.000000   \n",
       "\n",
       "                g-4           g-5           g-6           g-7           g-8  \\\n",
       "count  23814.000000  23814.000000  23814.000000  23814.000000  23814.000000   \n",
       "mean       0.057347     -0.138836      0.035961     -0.202651     -0.190083   \n",
       "std        1.032091      1.179388      0.882395      1.125494      1.749885   \n",
       "min       -6.369000    -10.000000    -10.000000    -10.000000    -10.000000   \n",
       "25%       -0.470925     -0.602225     -0.493900     -0.525175     -0.511675   \n",
       "50%       -0.026900     -0.015650     -0.000650     -0.017900      0.010000   \n",
       "75%        0.465375      0.510425      0.528725      0.411900      0.549225   \n",
       "max       10.000000      7.282000      7.333000      5.473000      8.887000   \n",
       "\n",
       "       ...          c-90          c-91          c-92          c-93  \\\n",
       "count  ...  23814.000000  23814.000000  23814.000000  23814.000000   \n",
       "mean   ...     -0.469244     -0.461411     -0.513256     -0.500142   \n",
       "std    ...      2.000488      2.042475      2.001714      2.107105   \n",
       "min    ...    -10.000000    -10.000000    -10.000000    -10.000000   \n",
       "25%    ...     -0.566175     -0.565975     -0.589975     -0.568700   \n",
       "50%    ...     -0.009900      0.003250     -0.009100     -0.013750   \n",
       "75%    ...      0.457750      0.461500      0.445675      0.452900   \n",
       "max    ...      4.069000      3.960000      3.927000      3.596000   \n",
       "\n",
       "               c-94          c-95          c-96          c-97          c-98  \\\n",
       "count  23814.000000  23814.000000  23814.000000  23814.000000  23814.000000   \n",
       "mean      -0.507093     -0.353726     -0.463485     -0.378241     -0.470252   \n",
       "std        2.159589      1.629291      2.059725      1.703615      1.834828   \n",
       "min      -10.000000    -10.000000    -10.000000    -10.000000    -10.000000   \n",
       "25%       -0.563775     -0.567975     -0.552575     -0.561000     -0.592600   \n",
       "50%       -0.003300     -0.010250     -0.001250     -0.006800      0.014000   \n",
       "75%        0.470900      0.444750      0.465225      0.446400      0.461275   \n",
       "max        3.747000      2.814000      3.505000      2.924000      3.111000   \n",
       "\n",
       "               c-99  \n",
       "count  23814.000000  \n",
       "mean      -0.301505  \n",
       "std        1.407918  \n",
       "min      -10.000000  \n",
       "25%       -0.562900  \n",
       "50%       -0.019500  \n",
       "75%        0.438650  \n",
       "max        3.805000  \n",
       "\n",
       "[8 rows x 873 columns]"
      ]
     },
     "execution_count": 31,
     "metadata": {},
     "output_type": "execute_result"
    }
   ],
   "source": [
    "dados.describe()"
   ]
  },
  {
   "cell_type": "code",
   "execution_count": 32,
   "metadata": {
    "colab": {
     "base_uri": "https://localhost:8080/"
    },
    "id": "OAkjbZdkqPlR",
    "outputId": "a3e0b156-4f17-4cf8-ebba-6d0df944b8d7"
   },
   "outputs": [
    {
     "data": {
      "text/html": [
       "<div>\n",
       "<style scoped>\n",
       "    .dataframe tbody tr th:only-of-type {\n",
       "        vertical-align: middle;\n",
       "    }\n",
       "\n",
       "    .dataframe tbody tr th {\n",
       "        vertical-align: top;\n",
       "    }\n",
       "\n",
       "    .dataframe thead th {\n",
       "        text-align: right;\n",
       "    }\n",
       "</style>\n",
       "<table border=\"1\" class=\"dataframe\">\n",
       "  <thead>\n",
       "    <tr style=\"text-align: right;\">\n",
       "      <th></th>\n",
       "      <th>g-0</th>\n",
       "      <th>g-1</th>\n",
       "    </tr>\n",
       "  </thead>\n",
       "  <tbody>\n",
       "    <tr>\n",
       "      <th>0</th>\n",
       "      <td>1.0620</td>\n",
       "      <td>0.5577</td>\n",
       "    </tr>\n",
       "    <tr>\n",
       "      <th>1</th>\n",
       "      <td>0.0743</td>\n",
       "      <td>0.4087</td>\n",
       "    </tr>\n",
       "    <tr>\n",
       "      <th>2</th>\n",
       "      <td>0.6280</td>\n",
       "      <td>0.5817</td>\n",
       "    </tr>\n",
       "    <tr>\n",
       "      <th>3</th>\n",
       "      <td>-0.5138</td>\n",
       "      <td>-0.2491</td>\n",
       "    </tr>\n",
       "    <tr>\n",
       "      <th>4</th>\n",
       "      <td>-0.3254</td>\n",
       "      <td>-0.4009</td>\n",
       "    </tr>\n",
       "    <tr>\n",
       "      <th>...</th>\n",
       "      <td>...</td>\n",
       "      <td>...</td>\n",
       "    </tr>\n",
       "    <tr>\n",
       "      <th>23809</th>\n",
       "      <td>0.1394</td>\n",
       "      <td>-0.0636</td>\n",
       "    </tr>\n",
       "    <tr>\n",
       "      <th>23810</th>\n",
       "      <td>-1.3260</td>\n",
       "      <td>0.3478</td>\n",
       "    </tr>\n",
       "    <tr>\n",
       "      <th>23811</th>\n",
       "      <td>0.3942</td>\n",
       "      <td>0.3756</td>\n",
       "    </tr>\n",
       "    <tr>\n",
       "      <th>23812</th>\n",
       "      <td>0.6660</td>\n",
       "      <td>0.2324</td>\n",
       "    </tr>\n",
       "    <tr>\n",
       "      <th>23813</th>\n",
       "      <td>-0.8598</td>\n",
       "      <td>1.0240</td>\n",
       "    </tr>\n",
       "  </tbody>\n",
       "</table>\n",
       "<p>23814 rows × 2 columns</p>\n",
       "</div>"
      ],
      "text/plain": [
       "          g-0     g-1\n",
       "0      1.0620  0.5577\n",
       "1      0.0743  0.4087\n",
       "2      0.6280  0.5817\n",
       "3     -0.5138 -0.2491\n",
       "4     -0.3254 -0.4009\n",
       "...       ...     ...\n",
       "23809  0.1394 -0.0636\n",
       "23810 -1.3260  0.3478\n",
       "23811  0.3942  0.3756\n",
       "23812  0.6660  0.2324\n",
       "23813 -0.8598  1.0240\n",
       "\n",
       "[23814 rows x 2 columns]"
      ]
     },
     "execution_count": 32,
     "metadata": {},
     "output_type": "execute_result"
    }
   ],
   "source": [
    "dados[['g-0', 'g-1']]"
   ]
  },
  {
   "cell_type": "code",
   "execution_count": 33,
   "metadata": {
    "colab": {
     "base_uri": "https://localhost:8080/"
    },
    "id": "dQX0KOhUqm66",
    "outputId": "baca78bc-56bf-4cdf-bdb3-9fda684450d3"
   },
   "outputs": [
    {
     "data": {
      "text/html": [
       "<div>\n",
       "<style scoped>\n",
       "    .dataframe tbody tr th:only-of-type {\n",
       "        vertical-align: middle;\n",
       "    }\n",
       "\n",
       "    .dataframe tbody tr th {\n",
       "        vertical-align: top;\n",
       "    }\n",
       "\n",
       "    .dataframe thead th {\n",
       "        text-align: right;\n",
       "    }\n",
       "</style>\n",
       "<table border=\"1\" class=\"dataframe\">\n",
       "  <thead>\n",
       "    <tr style=\"text-align: right;\">\n",
       "      <th></th>\n",
       "      <th>g-0</th>\n",
       "      <th>g-1</th>\n",
       "      <th>g-2</th>\n",
       "      <th>g-3</th>\n",
       "      <th>g-4</th>\n",
       "      <th>g-5</th>\n",
       "      <th>g-6</th>\n",
       "      <th>g-7</th>\n",
       "      <th>g-8</th>\n",
       "      <th>g-9</th>\n",
       "      <th>...</th>\n",
       "      <th>g-762</th>\n",
       "      <th>g-763</th>\n",
       "      <th>g-764</th>\n",
       "      <th>g-765</th>\n",
       "      <th>g-766</th>\n",
       "      <th>g-767</th>\n",
       "      <th>g-768</th>\n",
       "      <th>g-769</th>\n",
       "      <th>g-770</th>\n",
       "      <th>g-771</th>\n",
       "    </tr>\n",
       "  </thead>\n",
       "  <tbody>\n",
       "    <tr>\n",
       "      <th>count</th>\n",
       "      <td>23814.000000</td>\n",
       "      <td>23814.000000</td>\n",
       "      <td>23814.000000</td>\n",
       "      <td>23814.000000</td>\n",
       "      <td>23814.000000</td>\n",
       "      <td>23814.000000</td>\n",
       "      <td>23814.000000</td>\n",
       "      <td>23814.000000</td>\n",
       "      <td>23814.000000</td>\n",
       "      <td>23814.000000</td>\n",
       "      <td>...</td>\n",
       "      <td>23814.000000</td>\n",
       "      <td>23814.000000</td>\n",
       "      <td>23814.000000</td>\n",
       "      <td>23814.000000</td>\n",
       "      <td>23814.000000</td>\n",
       "      <td>23814.000000</td>\n",
       "      <td>23814.000000</td>\n",
       "      <td>23814.000000</td>\n",
       "      <td>23814.000000</td>\n",
       "      <td>23814.000000</td>\n",
       "    </tr>\n",
       "    <tr>\n",
       "      <th>mean</th>\n",
       "      <td>0.248366</td>\n",
       "      <td>-0.095684</td>\n",
       "      <td>0.152253</td>\n",
       "      <td>0.081971</td>\n",
       "      <td>0.057347</td>\n",
       "      <td>-0.138836</td>\n",
       "      <td>0.035961</td>\n",
       "      <td>-0.202651</td>\n",
       "      <td>-0.190083</td>\n",
       "      <td>0.119905</td>\n",
       "      <td>...</td>\n",
       "      <td>0.207299</td>\n",
       "      <td>0.009161</td>\n",
       "      <td>0.171027</td>\n",
       "      <td>0.002316</td>\n",
       "      <td>-0.209799</td>\n",
       "      <td>-0.076251</td>\n",
       "      <td>0.134162</td>\n",
       "      <td>-0.128018</td>\n",
       "      <td>-0.219210</td>\n",
       "      <td>0.101524</td>\n",
       "    </tr>\n",
       "    <tr>\n",
       "      <th>std</th>\n",
       "      <td>1.393399</td>\n",
       "      <td>0.812363</td>\n",
       "      <td>1.035731</td>\n",
       "      <td>0.950012</td>\n",
       "      <td>1.032091</td>\n",
       "      <td>1.179388</td>\n",
       "      <td>0.882395</td>\n",
       "      <td>1.125494</td>\n",
       "      <td>1.749885</td>\n",
       "      <td>1.087180</td>\n",
       "      <td>...</td>\n",
       "      <td>1.096488</td>\n",
       "      <td>1.200395</td>\n",
       "      <td>1.357701</td>\n",
       "      <td>1.052771</td>\n",
       "      <td>1.201918</td>\n",
       "      <td>1.115477</td>\n",
       "      <td>0.951264</td>\n",
       "      <td>1.230636</td>\n",
       "      <td>1.326193</td>\n",
       "      <td>1.417674</td>\n",
       "    </tr>\n",
       "    <tr>\n",
       "      <th>min</th>\n",
       "      <td>-5.513000</td>\n",
       "      <td>-5.737000</td>\n",
       "      <td>-9.104000</td>\n",
       "      <td>-5.998000</td>\n",
       "      <td>-6.369000</td>\n",
       "      <td>-10.000000</td>\n",
       "      <td>-10.000000</td>\n",
       "      <td>-10.000000</td>\n",
       "      <td>-10.000000</td>\n",
       "      <td>-8.337000</td>\n",
       "      <td>...</td>\n",
       "      <td>-8.193000</td>\n",
       "      <td>-10.000000</td>\n",
       "      <td>-9.795000</td>\n",
       "      <td>-8.180000</td>\n",
       "      <td>-10.000000</td>\n",
       "      <td>-10.000000</td>\n",
       "      <td>-4.269000</td>\n",
       "      <td>-10.000000</td>\n",
       "      <td>-10.000000</td>\n",
       "      <td>-10.000000</td>\n",
       "    </tr>\n",
       "    <tr>\n",
       "      <th>25%</th>\n",
       "      <td>-0.473075</td>\n",
       "      <td>-0.562200</td>\n",
       "      <td>-0.437750</td>\n",
       "      <td>-0.429575</td>\n",
       "      <td>-0.470925</td>\n",
       "      <td>-0.602225</td>\n",
       "      <td>-0.493900</td>\n",
       "      <td>-0.525175</td>\n",
       "      <td>-0.511675</td>\n",
       "      <td>-0.360200</td>\n",
       "      <td>...</td>\n",
       "      <td>-0.433875</td>\n",
       "      <td>-0.502250</td>\n",
       "      <td>-0.537075</td>\n",
       "      <td>-0.508775</td>\n",
       "      <td>-0.606175</td>\n",
       "      <td>-0.506200</td>\n",
       "      <td>-0.353100</td>\n",
       "      <td>-0.544600</td>\n",
       "      <td>-0.554400</td>\n",
       "      <td>-0.523800</td>\n",
       "    </tr>\n",
       "    <tr>\n",
       "      <th>50%</th>\n",
       "      <td>-0.008850</td>\n",
       "      <td>-0.046600</td>\n",
       "      <td>0.075200</td>\n",
       "      <td>0.008050</td>\n",
       "      <td>-0.026900</td>\n",
       "      <td>-0.015650</td>\n",
       "      <td>-0.000650</td>\n",
       "      <td>-0.017900</td>\n",
       "      <td>0.010000</td>\n",
       "      <td>0.160450</td>\n",
       "      <td>...</td>\n",
       "      <td>0.059600</td>\n",
       "      <td>-0.005900</td>\n",
       "      <td>-0.013600</td>\n",
       "      <td>-0.027700</td>\n",
       "      <td>-0.011850</td>\n",
       "      <td>0.009900</td>\n",
       "      <td>0.005400</td>\n",
       "      <td>0.000600</td>\n",
       "      <td>0.028700</td>\n",
       "      <td>-0.006500</td>\n",
       "    </tr>\n",
       "    <tr>\n",
       "      <th>75%</th>\n",
       "      <td>0.525700</td>\n",
       "      <td>0.403075</td>\n",
       "      <td>0.663925</td>\n",
       "      <td>0.463400</td>\n",
       "      <td>0.465375</td>\n",
       "      <td>0.510425</td>\n",
       "      <td>0.528725</td>\n",
       "      <td>0.411900</td>\n",
       "      <td>0.549225</td>\n",
       "      <td>0.697775</td>\n",
       "      <td>...</td>\n",
       "      <td>0.648500</td>\n",
       "      <td>0.492150</td>\n",
       "      <td>0.522500</td>\n",
       "      <td>0.457000</td>\n",
       "      <td>0.483000</td>\n",
       "      <td>0.511175</td>\n",
       "      <td>0.409075</td>\n",
       "      <td>0.498500</td>\n",
       "      <td>0.496400</td>\n",
       "      <td>0.536950</td>\n",
       "    </tr>\n",
       "    <tr>\n",
       "      <th>max</th>\n",
       "      <td>10.000000</td>\n",
       "      <td>5.039000</td>\n",
       "      <td>8.257000</td>\n",
       "      <td>10.000000</td>\n",
       "      <td>10.000000</td>\n",
       "      <td>7.282000</td>\n",
       "      <td>7.333000</td>\n",
       "      <td>5.473000</td>\n",
       "      <td>8.887000</td>\n",
       "      <td>6.433000</td>\n",
       "      <td>...</td>\n",
       "      <td>10.000000</td>\n",
       "      <td>9.552000</td>\n",
       "      <td>10.000000</td>\n",
       "      <td>8.346000</td>\n",
       "      <td>5.444000</td>\n",
       "      <td>6.317000</td>\n",
       "      <td>10.000000</td>\n",
       "      <td>5.911000</td>\n",
       "      <td>10.000000</td>\n",
       "      <td>10.000000</td>\n",
       "    </tr>\n",
       "  </tbody>\n",
       "</table>\n",
       "<p>8 rows × 772 columns</p>\n",
       "</div>"
      ],
      "text/plain": [
       "                g-0           g-1           g-2           g-3           g-4  \\\n",
       "count  23814.000000  23814.000000  23814.000000  23814.000000  23814.000000   \n",
       "mean       0.248366     -0.095684      0.152253      0.081971      0.057347   \n",
       "std        1.393399      0.812363      1.035731      0.950012      1.032091   \n",
       "min       -5.513000     -5.737000     -9.104000     -5.998000     -6.369000   \n",
       "25%       -0.473075     -0.562200     -0.437750     -0.429575     -0.470925   \n",
       "50%       -0.008850     -0.046600      0.075200      0.008050     -0.026900   \n",
       "75%        0.525700      0.403075      0.663925      0.463400      0.465375   \n",
       "max       10.000000      5.039000      8.257000     10.000000     10.000000   \n",
       "\n",
       "                g-5           g-6           g-7           g-8           g-9  \\\n",
       "count  23814.000000  23814.000000  23814.000000  23814.000000  23814.000000   \n",
       "mean      -0.138836      0.035961     -0.202651     -0.190083      0.119905   \n",
       "std        1.179388      0.882395      1.125494      1.749885      1.087180   \n",
       "min      -10.000000    -10.000000    -10.000000    -10.000000     -8.337000   \n",
       "25%       -0.602225     -0.493900     -0.525175     -0.511675     -0.360200   \n",
       "50%       -0.015650     -0.000650     -0.017900      0.010000      0.160450   \n",
       "75%        0.510425      0.528725      0.411900      0.549225      0.697775   \n",
       "max        7.282000      7.333000      5.473000      8.887000      6.433000   \n",
       "\n",
       "       ...         g-762         g-763         g-764         g-765  \\\n",
       "count  ...  23814.000000  23814.000000  23814.000000  23814.000000   \n",
       "mean   ...      0.207299      0.009161      0.171027      0.002316   \n",
       "std    ...      1.096488      1.200395      1.357701      1.052771   \n",
       "min    ...     -8.193000    -10.000000     -9.795000     -8.180000   \n",
       "25%    ...     -0.433875     -0.502250     -0.537075     -0.508775   \n",
       "50%    ...      0.059600     -0.005900     -0.013600     -0.027700   \n",
       "75%    ...      0.648500      0.492150      0.522500      0.457000   \n",
       "max    ...     10.000000      9.552000     10.000000      8.346000   \n",
       "\n",
       "              g-766         g-767         g-768         g-769         g-770  \\\n",
       "count  23814.000000  23814.000000  23814.000000  23814.000000  23814.000000   \n",
       "mean      -0.209799     -0.076251      0.134162     -0.128018     -0.219210   \n",
       "std        1.201918      1.115477      0.951264      1.230636      1.326193   \n",
       "min      -10.000000    -10.000000     -4.269000    -10.000000    -10.000000   \n",
       "25%       -0.606175     -0.506200     -0.353100     -0.544600     -0.554400   \n",
       "50%       -0.011850      0.009900      0.005400      0.000600      0.028700   \n",
       "75%        0.483000      0.511175      0.409075      0.498500      0.496400   \n",
       "max        5.444000      6.317000     10.000000      5.911000     10.000000   \n",
       "\n",
       "              g-771  \n",
       "count  23814.000000  \n",
       "mean       0.101524  \n",
       "std        1.417674  \n",
       "min      -10.000000  \n",
       "25%       -0.523800  \n",
       "50%       -0.006500  \n",
       "75%        0.536950  \n",
       "max       10.000000  \n",
       "\n",
       "[8 rows x 772 columns]"
      ]
     },
     "execution_count": 33,
     "metadata": {},
     "output_type": "execute_result"
    }
   ],
   "source": [
    "dados.loc[:,'g-0':'g-771'].describe()"
   ]
  },
  {
   "cell_type": "code",
   "execution_count": 34,
   "metadata": {
    "colab": {
     "base_uri": "https://localhost:8080/"
    },
    "id": "ij9QVxGArZsd",
    "outputId": "91b6a3f8-ef22-4274-f274-3947b1962279"
   },
   "outputs": [
    {
     "data": {
      "text/plain": [
       "<AxesSubplot:>"
      ]
     },
     "execution_count": 34,
     "metadata": {},
     "output_type": "execute_result"
    },
    {
     "data": {
      "image/png": "[encoded data removed]",
      "text/plain": [
       "<Figure size 432x288 with 1 Axes>"
      ]
     },
     "metadata": {},
     "output_type": "display_data"
    }
   ],
   "source": [
    "dados.loc[:,'g-0':'g-771'].describe().T['mean'].hist(bins=30)"
   ]
  },
  {
   "cell_type": "code",
   "execution_count": 35,
   "metadata": {
    "colab": {
     "base_uri": "https://localhost:8080/"
    },
    "id": "u31uRxYWr2PG",
    "outputId": "a3944585-8416-43fa-a222-16adde800e22"
   },
   "outputs": [
    {
     "data": {
      "text/plain": [
       "<AxesSubplot:>"
      ]
     },
     "execution_count": 35,
     "metadata": {},
     "output_type": "execute_result"
    },
    {
     "data": {
      "image/png": "[encoded data removed]",
      "text/plain": [
       "<Figure size 432x288 with 1 Axes>"
      ]
     },
     "metadata": {},
     "output_type": "display_data"
    }
   ],
   "source": [
    "dados.loc[:,'g-0':'g-771'].describe().T['min'].hist(bins=30)"
   ]
  },
  {
   "cell_type": "code",
   "execution_count": 36,
   "metadata": {
    "colab": {
     "base_uri": "https://localhost:8080/"
    },
    "id": "bYnsG81Sr8mc",
    "outputId": "9ba1f8cc-764b-46d5-8d1f-03d826b690ad"
   },
   "outputs": [
    {
     "data": {
      "text/plain": [
       "<AxesSubplot:>"
      ]
     },
     "execution_count": 36,
     "metadata": {},
     "output_type": "execute_result"
    },
    {
     "data": {
      "image/png": "[encoded data removed]",
      "text/plain": [
       "<Figure size 432x288 with 1 Axes>"
      ]
     },
     "metadata": {},
     "output_type": "display_data"
    }
   ],
   "source": [
    "dados.loc[:,'g-0':'g-771'].describe().T['max'].hist(bins=30)"
   ]
  },
  {
   "cell_type": "code",
   "execution_count": 37,
   "metadata": {
    "colab": {
     "base_uri": "https://localhost:8080/"
    },
    "id": "hu2jZ2snuJ09",
    "outputId": "3ae7571d-e7cd-4c5b-993b-5c0263ee82f0"
   },
   "outputs": [
    {
     "data": {
      "text/plain": [
       "<AxesSubplot:>"
      ]
     },
     "execution_count": 37,
     "metadata": {},
     "output_type": "execute_result"
    },
    {
     "data": {
      "image/png": "[encoded data removed]",
      "text/plain": [
       "<Figure size 432x288 with 1 Axes>"
      ]
     },
     "metadata": {},
     "output_type": "display_data"
    }
   ],
   "source": [
    "dados.loc[:,'c-0':'c-99'].describe().T['mean'].hist(bins=50)"
   ]
  },
  {
   "cell_type": "code",
   "execution_count": 38,
   "metadata": {
    "colab": {
     "base_uri": "https://localhost:8080/"
    },
    "id": "R9LHaY0yv29K",
    "outputId": "453d8d54-c421-452e-e808-e062614b11bb"
   },
   "outputs": [
    {
     "data": {
      "text/plain": [
       "<AxesSubplot:xlabel='g-0'>"
      ]
     },
     "execution_count": 38,
     "metadata": {},
     "output_type": "execute_result"
    },
    {
     "data": {
      "image/png": "[encoded data removed]",
      "text/plain": [
       "<Figure size 432x288 with 1 Axes>"
      ]
     },
     "metadata": {},
     "output_type": "display_data"
    }
   ],
   "source": [
    "sns.boxplot(x='g-0' , data=dados)"
   ]
  },
  {
   "cell_type": "code",
   "execution_count": 39,
   "metadata": {
    "colab": {
     "base_uri": "https://localhost:8080/"
    },
    "id": "h87JI4a_yNa1",
    "outputId": "1a4a4ab6-d204-44d3-d25a-0152bc0ed40f"
   },
   "outputs": [
    {
     "data": {
      "text/plain": [
       "<AxesSubplot:xlabel='tratamento', ylabel='g-0'>"
      ]
     },
     "execution_count": 39,
     "metadata": {},
     "output_type": "execute_result"
    },
    {
     "data": {
      "image/png": "[encoded data removed]",
      "text/plain": [
       "<Figure size 720x576 with 1 Axes>"
      ]
     },
     "metadata": {},
     "output_type": "display_data"
    }
   ],
   "source": [
    "plt.figure(figsize=(10,8))\n",
    "sns.boxplot(y='g-0', x='tratamento' , data=dados)"
   ]
  },
  {
   "cell_type": "markdown",
   "metadata": {
    "id": "07Y3OBxkeURg"
   },
   "source": [
    "# Aula 03"
   ]
  },
  {
   "cell_type": "code",
   "execution_count": 40,
   "metadata": {
    "colab": {
     "base_uri": "https://localhost:8080/"
    },
    "id": "enTo-CIfo1iH",
    "outputId": "d040e2af-fc04-4ca6-dfee-509181382aea"
   },
   "outputs": [
    {
     "data": {
      "text/html": [
       "<div>\n",
       "<style scoped>\n",
       "    .dataframe tbody tr th:only-of-type {\n",
       "        vertical-align: middle;\n",
       "    }\n",
       "\n",
       "    .dataframe tbody tr th {\n",
       "        vertical-align: top;\n",
       "    }\n",
       "\n",
       "    .dataframe thead th {\n",
       "        text-align: right;\n",
       "    }\n",
       "</style>\n",
       "<table border=\"1\" class=\"dataframe\">\n",
       "  <thead>\n",
       "    <tr style=\"text-align: right;\">\n",
       "      <th></th>\n",
       "      <th>id</th>\n",
       "      <th>tratamento</th>\n",
       "      <th>tempo</th>\n",
       "      <th>dose</th>\n",
       "      <th>composto</th>\n",
       "      <th>g-0</th>\n",
       "      <th>g-1</th>\n",
       "      <th>g-2</th>\n",
       "      <th>g-3</th>\n",
       "      <th>g-4</th>\n",
       "      <th>...</th>\n",
       "      <th>c-90</th>\n",
       "      <th>c-91</th>\n",
       "      <th>c-92</th>\n",
       "      <th>c-93</th>\n",
       "      <th>c-94</th>\n",
       "      <th>c-95</th>\n",
       "      <th>c-96</th>\n",
       "      <th>c-97</th>\n",
       "      <th>c-98</th>\n",
       "      <th>c-99</th>\n",
       "    </tr>\n",
       "  </thead>\n",
       "  <tbody>\n",
       "    <tr>\n",
       "      <th>0</th>\n",
       "      <td>id_000644bb2</td>\n",
       "      <td>com_droga</td>\n",
       "      <td>24</td>\n",
       "      <td>D1</td>\n",
       "      <td>b68db1d53</td>\n",
       "      <td>1.0620</td>\n",
       "      <td>0.5577</td>\n",
       "      <td>-0.2479</td>\n",
       "      <td>-0.6208</td>\n",
       "      <td>-0.1944</td>\n",
       "      <td>...</td>\n",
       "      <td>0.2862</td>\n",
       "      <td>0.2584</td>\n",
       "      <td>0.8076</td>\n",
       "      <td>0.5523</td>\n",
       "      <td>-0.1912</td>\n",
       "      <td>0.6584</td>\n",
       "      <td>-0.3981</td>\n",
       "      <td>0.2139</td>\n",
       "      <td>0.3801</td>\n",
       "      <td>0.4176</td>\n",
       "    </tr>\n",
       "    <tr>\n",
       "      <th>1</th>\n",
       "      <td>id_000779bfc</td>\n",
       "      <td>com_droga</td>\n",
       "      <td>72</td>\n",
       "      <td>D1</td>\n",
       "      <td>df89a8e5a</td>\n",
       "      <td>0.0743</td>\n",
       "      <td>0.4087</td>\n",
       "      <td>0.2991</td>\n",
       "      <td>0.0604</td>\n",
       "      <td>1.0190</td>\n",
       "      <td>...</td>\n",
       "      <td>-0.4265</td>\n",
       "      <td>0.7543</td>\n",
       "      <td>0.4708</td>\n",
       "      <td>0.0230</td>\n",
       "      <td>0.2957</td>\n",
       "      <td>0.4899</td>\n",
       "      <td>0.1522</td>\n",
       "      <td>0.1241</td>\n",
       "      <td>0.6077</td>\n",
       "      <td>0.7371</td>\n",
       "    </tr>\n",
       "    <tr>\n",
       "      <th>2</th>\n",
       "      <td>id_000a6266a</td>\n",
       "      <td>com_droga</td>\n",
       "      <td>48</td>\n",
       "      <td>D1</td>\n",
       "      <td>18bb41b2c</td>\n",
       "      <td>0.6280</td>\n",
       "      <td>0.5817</td>\n",
       "      <td>1.5540</td>\n",
       "      <td>-0.0764</td>\n",
       "      <td>-0.0323</td>\n",
       "      <td>...</td>\n",
       "      <td>-0.7250</td>\n",
       "      <td>-0.6297</td>\n",
       "      <td>0.6103</td>\n",
       "      <td>0.0223</td>\n",
       "      <td>-1.3240</td>\n",
       "      <td>-0.3174</td>\n",
       "      <td>-0.6417</td>\n",
       "      <td>-0.2187</td>\n",
       "      <td>-1.4080</td>\n",
       "      <td>0.6931</td>\n",
       "    </tr>\n",
       "    <tr>\n",
       "      <th>3</th>\n",
       "      <td>id_0015fd391</td>\n",
       "      <td>com_droga</td>\n",
       "      <td>48</td>\n",
       "      <td>D1</td>\n",
       "      <td>8c7f86626</td>\n",
       "      <td>-0.5138</td>\n",
       "      <td>-0.2491</td>\n",
       "      <td>-0.2656</td>\n",
       "      <td>0.5288</td>\n",
       "      <td>4.0620</td>\n",
       "      <td>...</td>\n",
       "      <td>-2.0990</td>\n",
       "      <td>-0.6441</td>\n",
       "      <td>-5.6300</td>\n",
       "      <td>-1.3780</td>\n",
       "      <td>-0.8632</td>\n",
       "      <td>-1.2880</td>\n",
       "      <td>-1.6210</td>\n",
       "      <td>-0.8784</td>\n",
       "      <td>-0.3876</td>\n",
       "      <td>-0.8154</td>\n",
       "    </tr>\n",
       "    <tr>\n",
       "      <th>4</th>\n",
       "      <td>id_001626bd3</td>\n",
       "      <td>com_droga</td>\n",
       "      <td>72</td>\n",
       "      <td>D2</td>\n",
       "      <td>7cbed3131</td>\n",
       "      <td>-0.3254</td>\n",
       "      <td>-0.4009</td>\n",
       "      <td>0.9700</td>\n",
       "      <td>0.6919</td>\n",
       "      <td>1.4180</td>\n",
       "      <td>...</td>\n",
       "      <td>0.0042</td>\n",
       "      <td>0.0048</td>\n",
       "      <td>0.6670</td>\n",
       "      <td>1.0690</td>\n",
       "      <td>0.5523</td>\n",
       "      <td>-0.3031</td>\n",
       "      <td>0.1094</td>\n",
       "      <td>0.2885</td>\n",
       "      <td>-0.3786</td>\n",
       "      <td>0.7125</td>\n",
       "    </tr>\n",
       "  </tbody>\n",
       "</table>\n",
       "<p>5 rows × 877 columns</p>\n",
       "</div>"
      ],
      "text/plain": [
       "             id tratamento  tempo dose   composto     g-0     g-1     g-2  \\\n",
       "0  id_000644bb2  com_droga     24   D1  b68db1d53  1.0620  0.5577 -0.2479   \n",
       "1  id_000779bfc  com_droga     72   D1  df89a8e5a  0.0743  0.4087  0.2991   \n",
       "2  id_000a6266a  com_droga     48   D1  18bb41b2c  0.6280  0.5817  1.5540   \n",
       "3  id_0015fd391  com_droga     48   D1  8c7f86626 -0.5138 -0.2491 -0.2656   \n",
       "4  id_001626bd3  com_droga     72   D2  7cbed3131 -0.3254 -0.4009  0.9700   \n",
       "\n",
       "      g-3     g-4  ...    c-90    c-91    c-92    c-93    c-94    c-95  \\\n",
       "0 -0.6208 -0.1944  ...  0.2862  0.2584  0.8076  0.5523 -0.1912  0.6584   \n",
       "1  0.0604  1.0190  ... -0.4265  0.7543  0.4708  0.0230  0.2957  0.4899   \n",
       "2 -0.0764 -0.0323  ... -0.7250 -0.6297  0.6103  0.0223 -1.3240 -0.3174   \n",
       "3  0.5288  4.0620  ... -2.0990 -0.6441 -5.6300 -1.3780 -0.8632 -1.2880   \n",
       "4  0.6919  1.4180  ...  0.0042  0.0048  0.6670  1.0690  0.5523 -0.3031   \n",
       "\n",
       "     c-96    c-97    c-98    c-99  \n",
       "0 -0.3981  0.2139  0.3801  0.4176  \n",
       "1  0.1522  0.1241  0.6077  0.7371  \n",
       "2 -0.6417 -0.2187 -1.4080  0.6931  \n",
       "3 -1.6210 -0.8784 -0.3876 -0.8154  \n",
       "4  0.1094  0.2885 -0.3786  0.7125  \n",
       "\n",
       "[5 rows x 877 columns]"
      ]
     },
     "execution_count": 40,
     "metadata": {},
     "output_type": "execute_result"
    }
   ],
   "source": [
    "dados.head()"
   ]
  },
  {
   "cell_type": "code",
   "execution_count": 41,
   "metadata": {
    "colab": {
     "base_uri": "https://localhost:8080/"
    },
    "id": "GxNcZgooqifp",
    "outputId": "034101f7-5474-45a8-9e26-97a9fb342331"
   },
   "outputs": [
    {
     "data": {
      "text/html": [
       "<div>\n",
       "<style scoped>\n",
       "    .dataframe tbody tr th:only-of-type {\n",
       "        vertical-align: middle;\n",
       "    }\n",
       "\n",
       "    .dataframe tbody tr th {\n",
       "        vertical-align: top;\n",
       "    }\n",
       "\n",
       "    .dataframe thead th {\n",
       "        text-align: right;\n",
       "    }\n",
       "</style>\n",
       "<table border=\"1\" class=\"dataframe\">\n",
       "  <thead>\n",
       "    <tr style=\"text-align: right;\">\n",
       "      <th>tempo</th>\n",
       "      <th>24</th>\n",
       "      <th>48</th>\n",
       "      <th>72</th>\n",
       "    </tr>\n",
       "    <tr>\n",
       "      <th>dose</th>\n",
       "      <th></th>\n",
       "      <th></th>\n",
       "      <th></th>\n",
       "    </tr>\n",
       "  </thead>\n",
       "  <tbody>\n",
       "    <tr>\n",
       "      <th>D1</th>\n",
       "      <td>3886</td>\n",
       "      <td>4354</td>\n",
       "      <td>3907</td>\n",
       "    </tr>\n",
       "    <tr>\n",
       "      <th>D2</th>\n",
       "      <td>3886</td>\n",
       "      <td>3896</td>\n",
       "      <td>3885</td>\n",
       "    </tr>\n",
       "  </tbody>\n",
       "</table>\n",
       "</div>"
      ],
      "text/plain": [
       "tempo    24    48    72\n",
       "dose                   \n",
       "D1     3886  4354  3907\n",
       "D2     3886  3896  3885"
      ]
     },
     "execution_count": 41,
     "metadata": {},
     "output_type": "execute_result"
    }
   ],
   "source": [
    "pd.crosstab(dados['dose'], dados['tempo'])"
   ]
  },
  {
   "cell_type": "code",
   "execution_count": 42,
   "metadata": {
    "colab": {
     "base_uri": "https://localhost:8080/"
    },
    "id": "ZAlTjcmQrb_M",
    "outputId": "61ca0110-940a-4e60-afe3-f1dd2be906cc"
   },
   "outputs": [
    {
     "data": {
      "text/html": [
       "<div>\n",
       "<style scoped>\n",
       "    .dataframe tbody tr th:only-of-type {\n",
       "        vertical-align: middle;\n",
       "    }\n",
       "\n",
       "    .dataframe tbody tr th {\n",
       "        vertical-align: top;\n",
       "    }\n",
       "\n",
       "    .dataframe thead th {\n",
       "        text-align: right;\n",
       "    }\n",
       "</style>\n",
       "<table border=\"1\" class=\"dataframe\">\n",
       "  <thead>\n",
       "    <tr style=\"text-align: right;\">\n",
       "      <th></th>\n",
       "      <th>tratamento</th>\n",
       "      <th>com_controle</th>\n",
       "      <th>com_droga</th>\n",
       "    </tr>\n",
       "    <tr>\n",
       "      <th>dose</th>\n",
       "      <th>tempo</th>\n",
       "      <th></th>\n",
       "      <th></th>\n",
       "    </tr>\n",
       "  </thead>\n",
       "  <tbody>\n",
       "    <tr>\n",
       "      <th rowspan=\"3\" valign=\"top\">D1</th>\n",
       "      <th>24</th>\n",
       "      <td>301</td>\n",
       "      <td>3585</td>\n",
       "    </tr>\n",
       "    <tr>\n",
       "      <th>48</th>\n",
       "      <td>343</td>\n",
       "      <td>4011</td>\n",
       "    </tr>\n",
       "    <tr>\n",
       "      <th>72</th>\n",
       "      <td>307</td>\n",
       "      <td>3600</td>\n",
       "    </tr>\n",
       "    <tr>\n",
       "      <th rowspan=\"3\" valign=\"top\">D2</th>\n",
       "      <th>24</th>\n",
       "      <td>305</td>\n",
       "      <td>3581</td>\n",
       "    </tr>\n",
       "    <tr>\n",
       "      <th>48</th>\n",
       "      <td>305</td>\n",
       "      <td>3591</td>\n",
       "    </tr>\n",
       "    <tr>\n",
       "      <th>72</th>\n",
       "      <td>305</td>\n",
       "      <td>3580</td>\n",
       "    </tr>\n",
       "  </tbody>\n",
       "</table>\n",
       "</div>"
      ],
      "text/plain": [
       "tratamento  com_controle  com_droga\n",
       "dose tempo                         \n",
       "D1   24              301       3585\n",
       "     48              343       4011\n",
       "     72              307       3600\n",
       "D2   24              305       3581\n",
       "     48              305       3591\n",
       "     72              305       3580"
      ]
     },
     "execution_count": 42,
     "metadata": {},
     "output_type": "execute_result"
    }
   ],
   "source": [
    "pd.crosstab([dados['dose'], dados['tempo']],  dados['tratamento'])"
   ]
  },
  {
   "cell_type": "code",
   "execution_count": 43,
   "metadata": {
    "colab": {
     "base_uri": "https://localhost:8080/"
    },
    "id": "l11KiR6bsF-K",
    "outputId": "0cefdb6f-a12a-40ff-fc89-0cfdcd28a3bc"
   },
   "outputs": [
    {
     "data": {
      "text/html": [
       "<div>\n",
       "<style scoped>\n",
       "    .dataframe tbody tr th:only-of-type {\n",
       "        vertical-align: middle;\n",
       "    }\n",
       "\n",
       "    .dataframe tbody tr th {\n",
       "        vertical-align: top;\n",
       "    }\n",
       "\n",
       "    .dataframe thead th {\n",
       "        text-align: right;\n",
       "    }\n",
       "</style>\n",
       "<table border=\"1\" class=\"dataframe\">\n",
       "  <thead>\n",
       "    <tr style=\"text-align: right;\">\n",
       "      <th></th>\n",
       "      <th>tratamento</th>\n",
       "      <th>com_controle</th>\n",
       "      <th>com_droga</th>\n",
       "    </tr>\n",
       "    <tr>\n",
       "      <th>dose</th>\n",
       "      <th>tempo</th>\n",
       "      <th></th>\n",
       "      <th></th>\n",
       "    </tr>\n",
       "  </thead>\n",
       "  <tbody>\n",
       "    <tr>\n",
       "      <th rowspan=\"3\" valign=\"top\">D1</th>\n",
       "      <th>24</th>\n",
       "      <td>0.077458</td>\n",
       "      <td>0.922542</td>\n",
       "    </tr>\n",
       "    <tr>\n",
       "      <th>48</th>\n",
       "      <td>0.078778</td>\n",
       "      <td>0.921222</td>\n",
       "    </tr>\n",
       "    <tr>\n",
       "      <th>72</th>\n",
       "      <td>0.078577</td>\n",
       "      <td>0.921423</td>\n",
       "    </tr>\n",
       "    <tr>\n",
       "      <th rowspan=\"3\" valign=\"top\">D2</th>\n",
       "      <th>24</th>\n",
       "      <td>0.078487</td>\n",
       "      <td>0.921513</td>\n",
       "    </tr>\n",
       "    <tr>\n",
       "      <th>48</th>\n",
       "      <td>0.078285</td>\n",
       "      <td>0.921715</td>\n",
       "    </tr>\n",
       "    <tr>\n",
       "      <th>72</th>\n",
       "      <td>0.078507</td>\n",
       "      <td>0.921493</td>\n",
       "    </tr>\n",
       "  </tbody>\n",
       "</table>\n",
       "</div>"
      ],
      "text/plain": [
       "tratamento  com_controle  com_droga\n",
       "dose tempo                         \n",
       "D1   24         0.077458   0.922542\n",
       "     48         0.078778   0.921222\n",
       "     72         0.078577   0.921423\n",
       "D2   24         0.078487   0.921513\n",
       "     48         0.078285   0.921715\n",
       "     72         0.078507   0.921493"
      ]
     },
     "execution_count": 43,
     "metadata": {},
     "output_type": "execute_result"
    }
   ],
   "source": [
    "pd.crosstab([dados['dose'], dados['tempo']],  dados['tratamento'], normalize='index')"
   ]
  },
  {
   "cell_type": "code",
   "execution_count": 44,
   "metadata": {
    "colab": {
     "base_uri": "https://localhost:8080/"
    },
    "id": "2LT5TeiKtxX3",
    "outputId": "579bece7-6181-403c-d587-eda247ee27f2"
   },
   "outputs": [
    {
     "data": {
      "text/html": [
       "<div>\n",
       "<style scoped>\n",
       "    .dataframe tbody tr th:only-of-type {\n",
       "        vertical-align: middle;\n",
       "    }\n",
       "\n",
       "    .dataframe tbody tr th {\n",
       "        vertical-align: top;\n",
       "    }\n",
       "\n",
       "    .dataframe thead th {\n",
       "        text-align: right;\n",
       "    }\n",
       "</style>\n",
       "<table border=\"1\" class=\"dataframe\">\n",
       "  <thead>\n",
       "    <tr style=\"text-align: right;\">\n",
       "      <th></th>\n",
       "      <th>tratamento</th>\n",
       "      <th>com_controle</th>\n",
       "      <th>com_droga</th>\n",
       "    </tr>\n",
       "    <tr>\n",
       "      <th>dose</th>\n",
       "      <th>tempo</th>\n",
       "      <th></th>\n",
       "      <th></th>\n",
       "    </tr>\n",
       "  </thead>\n",
       "  <tbody>\n",
       "    <tr>\n",
       "      <th rowspan=\"3\" valign=\"top\">D1</th>\n",
       "      <th>24</th>\n",
       "      <td>-0.251760</td>\n",
       "      <td>0.367996</td>\n",
       "    </tr>\n",
       "    <tr>\n",
       "      <th>48</th>\n",
       "      <td>-0.122773</td>\n",
       "      <td>0.412469</td>\n",
       "    </tr>\n",
       "    <tr>\n",
       "      <th>72</th>\n",
       "      <td>-0.295271</td>\n",
       "      <td>0.286250</td>\n",
       "    </tr>\n",
       "    <tr>\n",
       "      <th rowspan=\"3\" valign=\"top\">D2</th>\n",
       "      <th>24</th>\n",
       "      <td>0.010754</td>\n",
       "      <td>0.115253</td>\n",
       "    </tr>\n",
       "    <tr>\n",
       "      <th>48</th>\n",
       "      <td>0.013174</td>\n",
       "      <td>0.214480</td>\n",
       "    </tr>\n",
       "    <tr>\n",
       "      <th>72</th>\n",
       "      <td>0.070250</td>\n",
       "      <td>0.253439</td>\n",
       "    </tr>\n",
       "  </tbody>\n",
       "</table>\n",
       "</div>"
      ],
      "text/plain": [
       "tratamento  com_controle  com_droga\n",
       "dose tempo                         \n",
       "D1   24        -0.251760   0.367996\n",
       "     48        -0.122773   0.412469\n",
       "     72        -0.295271   0.286250\n",
       "D2   24         0.010754   0.115253\n",
       "     48         0.013174   0.214480\n",
       "     72         0.070250   0.253439"
      ]
     },
     "execution_count": 44,
     "metadata": {},
     "output_type": "execute_result"
    }
   ],
   "source": [
    "pd.crosstab([dados['dose'], dados['tempo']],  dados['tratamento'], values=dados['g-0'], aggfunc='mean')"
   ]
  },
  {
   "cell_type": "code",
   "execution_count": 45,
   "metadata": {
    "colab": {
     "base_uri": "https://localhost:8080/"
    },
    "id": "5NLk3hfzxaex",
    "outputId": "7aa36eb2-3d54-4c9c-bf13-eba8865a8490"
   },
   "outputs": [
    {
     "data": {
      "text/html": [
       "<div>\n",
       "<style scoped>\n",
       "    .dataframe tbody tr th:only-of-type {\n",
       "        vertical-align: middle;\n",
       "    }\n",
       "\n",
       "    .dataframe tbody tr th {\n",
       "        vertical-align: top;\n",
       "    }\n",
       "\n",
       "    .dataframe thead th {\n",
       "        text-align: right;\n",
       "    }\n",
       "</style>\n",
       "<table border=\"1\" class=\"dataframe\">\n",
       "  <thead>\n",
       "    <tr style=\"text-align: right;\">\n",
       "      <th></th>\n",
       "      <th>g-0</th>\n",
       "      <th>g-3</th>\n",
       "    </tr>\n",
       "  </thead>\n",
       "  <tbody>\n",
       "    <tr>\n",
       "      <th>0</th>\n",
       "      <td>1.0620</td>\n",
       "      <td>-0.6208</td>\n",
       "    </tr>\n",
       "    <tr>\n",
       "      <th>1</th>\n",
       "      <td>0.0743</td>\n",
       "      <td>0.0604</td>\n",
       "    </tr>\n",
       "    <tr>\n",
       "      <th>2</th>\n",
       "      <td>0.6280</td>\n",
       "      <td>-0.0764</td>\n",
       "    </tr>\n",
       "    <tr>\n",
       "      <th>3</th>\n",
       "      <td>-0.5138</td>\n",
       "      <td>0.5288</td>\n",
       "    </tr>\n",
       "    <tr>\n",
       "      <th>4</th>\n",
       "      <td>-0.3254</td>\n",
       "      <td>0.6919</td>\n",
       "    </tr>\n",
       "    <tr>\n",
       "      <th>...</th>\n",
       "      <td>...</td>\n",
       "      <td>...</td>\n",
       "    </tr>\n",
       "    <tr>\n",
       "      <th>23809</th>\n",
       "      <td>0.1394</td>\n",
       "      <td>-0.5080</td>\n",
       "    </tr>\n",
       "    <tr>\n",
       "      <th>23810</th>\n",
       "      <td>-1.3260</td>\n",
       "      <td>0.9905</td>\n",
       "    </tr>\n",
       "    <tr>\n",
       "      <th>23811</th>\n",
       "      <td>0.3942</td>\n",
       "      <td>-0.7389</td>\n",
       "    </tr>\n",
       "    <tr>\n",
       "      <th>23812</th>\n",
       "      <td>0.6660</td>\n",
       "      <td>0.2044</td>\n",
       "    </tr>\n",
       "    <tr>\n",
       "      <th>23813</th>\n",
       "      <td>-0.8598</td>\n",
       "      <td>0.7952</td>\n",
       "    </tr>\n",
       "  </tbody>\n",
       "</table>\n",
       "<p>23814 rows × 2 columns</p>\n",
       "</div>"
      ],
      "text/plain": [
       "          g-0     g-3\n",
       "0      1.0620 -0.6208\n",
       "1      0.0743  0.0604\n",
       "2      0.6280 -0.0764\n",
       "3     -0.5138  0.5288\n",
       "4     -0.3254  0.6919\n",
       "...       ...     ...\n",
       "23809  0.1394 -0.5080\n",
       "23810 -1.3260  0.9905\n",
       "23811  0.3942 -0.7389\n",
       "23812  0.6660  0.2044\n",
       "23813 -0.8598  0.7952\n",
       "\n",
       "[23814 rows x 2 columns]"
      ]
     },
     "execution_count": 45,
     "metadata": {},
     "output_type": "execute_result"
    }
   ],
   "source": [
    "dados[['g-0', 'g-3']]"
   ]
  },
  {
   "cell_type": "code",
   "execution_count": 46,
   "metadata": {
    "colab": {
     "base_uri": "https://localhost:8080/"
    },
    "id": "Tu6cDP2RwuxJ",
    "outputId": "5ea68a18-33d0-43ac-c54a-dff379f94659"
   },
   "outputs": [
    {
     "data": {
      "text/plain": [
       "<AxesSubplot:xlabel='g-0', ylabel='g-3'>"
      ]
     },
     "execution_count": 46,
     "metadata": {},
     "output_type": "execute_result"
    },
    {
     "data": {
      "image/png": "[encoded data removed]",
      "text/plain": [
       "<Figure size 432x288 with 1 Axes>"
      ]
     },
     "metadata": {},
     "output_type": "display_data"
    }
   ],
   "source": [
    "sns.scatterplot(x='g-0', y = 'g-3', data=dados)"
   ]
  },
  {
   "cell_type": "code",
   "execution_count": 47,
   "metadata": {
    "colab": {
     "base_uri": "https://localhost:8080/"
    },
    "id": "6pgpg0l2x_2w",
    "outputId": "6fb3fd6c-f6e2-4c60-be2d-b535998b9762"
   },
   "outputs": [
    {
     "data": {
      "text/plain": [
       "<AxesSubplot:xlabel='g-0', ylabel='g-8'>"
      ]
     },
     "execution_count": 47,
     "metadata": {},
     "output_type": "execute_result"
    },
    {
     "data": {
      "image/png": "[encoded data removed]",
      "text/plain": [
       "<Figure size 432x288 with 1 Axes>"
      ]
     },
     "metadata": {},
     "output_type": "display_data"
    }
   ],
   "source": [
    "sns.scatterplot(x='g-0', y = 'g-8', data=dados)"
   ]
  },
  {
   "cell_type": "code",
   "execution_count": 48,
   "metadata": {
    "colab": {
     "base_uri": "https://localhost:8080/"
    },
    "id": "n50NzQRHyXmY",
    "outputId": "8d5c74dc-4a15-435e-9623-47ed7a01661d"
   },
   "outputs": [
    {
     "data": {
      "text/plain": [
       "<seaborn.axisgrid.FacetGrid at 0x7fce7b1b40d0>"
      ]
     },
     "execution_count": 48,
     "metadata": {},
     "output_type": "execute_result"
    },
    {
     "data": {
      "image/png": "[encoded data removed]",
      "text/plain": [
       "<Figure size 360x360 with 1 Axes>"
      ]
     },
     "metadata": {},
     "output_type": "display_data"
    }
   ],
   "source": [
    "sns.lmplot(data=dados, x='g-0', y='g-8', line_kws={'color': 'red'})"
   ]
  },
  {
   "cell_type": "code",
   "execution_count": 49,
   "metadata": {
    "colab": {
     "base_uri": "https://localhost:8080/"
    },
    "id": "6im7H7kH0Cbf",
    "outputId": "76a2bed6-c2fe-4e98-9b92-c313815cc312"
   },
   "outputs": [
    {
     "data": {
      "text/plain": [
       "<seaborn.axisgrid.FacetGrid at 0x7fce7b17a430>"
      ]
     },
     "execution_count": 49,
     "metadata": {},
     "output_type": "execute_result"
    },
    {
     "data": {
      "image/png": "[encoded data removed]",
      "text/plain": [
       "<Figure size 720x1080 with 6 Axes>"
      ]
     },
     "metadata": {},
     "output_type": "display_data"
    }
   ],
   "source": [
    "sns.lmplot(data=dados, x='g-0', y='g-8', line_kws={'color': 'red'}, col='tratamento', row='tempo')"
   ]
  },
  {
   "cell_type": "code",
   "execution_count": 50,
   "metadata": {
    "colab": {
     "base_uri": "https://localhost:8080/"
    },
    "id": "kmEuqfjM2BuM",
    "outputId": "732da8dd-e52d-4b64-bea7-6994a59e01cf"
   },
   "outputs": [
    {
     "data": {
      "text/html": [
       "<div>\n",
       "<style scoped>\n",
       "    .dataframe tbody tr th:only-of-type {\n",
       "        vertical-align: middle;\n",
       "    }\n",
       "\n",
       "    .dataframe tbody tr th {\n",
       "        vertical-align: top;\n",
       "    }\n",
       "\n",
       "    .dataframe thead th {\n",
       "        text-align: right;\n",
       "    }\n",
       "</style>\n",
       "<table border=\"1\" class=\"dataframe\">\n",
       "  <thead>\n",
       "    <tr style=\"text-align: right;\">\n",
       "      <th></th>\n",
       "      <th>g-0</th>\n",
       "      <th>g-1</th>\n",
       "      <th>g-2</th>\n",
       "      <th>g-3</th>\n",
       "      <th>g-4</th>\n",
       "      <th>g-5</th>\n",
       "      <th>g-6</th>\n",
       "      <th>g-7</th>\n",
       "      <th>g-8</th>\n",
       "      <th>g-9</th>\n",
       "      <th>...</th>\n",
       "      <th>g-762</th>\n",
       "      <th>g-763</th>\n",
       "      <th>g-764</th>\n",
       "      <th>g-765</th>\n",
       "      <th>g-766</th>\n",
       "      <th>g-767</th>\n",
       "      <th>g-768</th>\n",
       "      <th>g-769</th>\n",
       "      <th>g-770</th>\n",
       "      <th>g-771</th>\n",
       "    </tr>\n",
       "  </thead>\n",
       "  <tbody>\n",
       "    <tr>\n",
       "      <th>g-0</th>\n",
       "      <td>1.000000</td>\n",
       "      <td>0.086032</td>\n",
       "      <td>0.176188</td>\n",
       "      <td>0.011266</td>\n",
       "      <td>0.403153</td>\n",
       "      <td>-0.165478</td>\n",
       "      <td>0.238348</td>\n",
       "      <td>-0.374451</td>\n",
       "      <td>-0.604212</td>\n",
       "      <td>-0.428779</td>\n",
       "      <td>...</td>\n",
       "      <td>0.005085</td>\n",
       "      <td>-0.239410</td>\n",
       "      <td>0.548401</td>\n",
       "      <td>0.425222</td>\n",
       "      <td>-0.308095</td>\n",
       "      <td>-0.052622</td>\n",
       "      <td>0.300241</td>\n",
       "      <td>-0.127375</td>\n",
       "      <td>-0.514201</td>\n",
       "      <td>0.405908</td>\n",
       "    </tr>\n",
       "    <tr>\n",
       "      <th>g-1</th>\n",
       "      <td>0.086032</td>\n",
       "      <td>1.000000</td>\n",
       "      <td>-0.054518</td>\n",
       "      <td>-0.027855</td>\n",
       "      <td>0.193647</td>\n",
       "      <td>-0.151590</td>\n",
       "      <td>-0.122541</td>\n",
       "      <td>0.144537</td>\n",
       "      <td>-0.009973</td>\n",
       "      <td>-0.047558</td>\n",
       "      <td>...</td>\n",
       "      <td>-0.205998</td>\n",
       "      <td>0.060051</td>\n",
       "      <td>0.115071</td>\n",
       "      <td>0.160140</td>\n",
       "      <td>0.015098</td>\n",
       "      <td>-0.003378</td>\n",
       "      <td>-0.030756</td>\n",
       "      <td>-0.006866</td>\n",
       "      <td>-0.095108</td>\n",
       "      <td>-0.032233</td>\n",
       "    </tr>\n",
       "    <tr>\n",
       "      <th>g-2</th>\n",
       "      <td>0.176188</td>\n",
       "      <td>-0.054518</td>\n",
       "      <td>1.000000</td>\n",
       "      <td>0.042633</td>\n",
       "      <td>0.013968</td>\n",
       "      <td>0.018516</td>\n",
       "      <td>0.015190</td>\n",
       "      <td>-0.144205</td>\n",
       "      <td>-0.128029</td>\n",
       "      <td>-0.081332</td>\n",
       "      <td>...</td>\n",
       "      <td>0.090115</td>\n",
       "      <td>-0.055655</td>\n",
       "      <td>0.138085</td>\n",
       "      <td>0.061574</td>\n",
       "      <td>-0.093631</td>\n",
       "      <td>-0.053149</td>\n",
       "      <td>0.115415</td>\n",
       "      <td>0.014489</td>\n",
       "      <td>-0.078661</td>\n",
       "      <td>0.103985</td>\n",
       "    </tr>\n",
       "    <tr>\n",
       "      <th>g-3</th>\n",
       "      <td>0.011266</td>\n",
       "      <td>-0.027855</td>\n",
       "      <td>0.042633</td>\n",
       "      <td>1.000000</td>\n",
       "      <td>-0.033039</td>\n",
       "      <td>0.042231</td>\n",
       "      <td>-0.043177</td>\n",
       "      <td>-0.175692</td>\n",
       "      <td>-0.086167</td>\n",
       "      <td>-0.014052</td>\n",
       "      <td>...</td>\n",
       "      <td>0.075982</td>\n",
       "      <td>0.178422</td>\n",
       "      <td>0.016467</td>\n",
       "      <td>-0.089317</td>\n",
       "      <td>-0.166426</td>\n",
       "      <td>-0.179370</td>\n",
       "      <td>0.028452</td>\n",
       "      <td>-0.206077</td>\n",
       "      <td>-0.002142</td>\n",
       "      <td>0.058219</td>\n",
       "    </tr>\n",
       "    <tr>\n",
       "      <th>g-4</th>\n",
       "      <td>0.403153</td>\n",
       "      <td>0.193647</td>\n",
       "      <td>0.013968</td>\n",
       "      <td>-0.033039</td>\n",
       "      <td>1.000000</td>\n",
       "      <td>-0.057449</td>\n",
       "      <td>0.206405</td>\n",
       "      <td>-0.032748</td>\n",
       "      <td>-0.474828</td>\n",
       "      <td>-0.274167</td>\n",
       "      <td>...</td>\n",
       "      <td>-0.023752</td>\n",
       "      <td>-0.164868</td>\n",
       "      <td>0.404440</td>\n",
       "      <td>0.317500</td>\n",
       "      <td>-0.225094</td>\n",
       "      <td>0.124425</td>\n",
       "      <td>0.115579</td>\n",
       "      <td>-0.172727</td>\n",
       "      <td>-0.363673</td>\n",
       "      <td>0.250713</td>\n",
       "    </tr>\n",
       "    <tr>\n",
       "      <th>...</th>\n",
       "      <td>...</td>\n",
       "      <td>...</td>\n",
       "      <td>...</td>\n",
       "      <td>...</td>\n",
       "      <td>...</td>\n",
       "      <td>...</td>\n",
       "      <td>...</td>\n",
       "      <td>...</td>\n",
       "      <td>...</td>\n",
       "      <td>...</td>\n",
       "      <td>...</td>\n",
       "      <td>...</td>\n",
       "      <td>...</td>\n",
       "      <td>...</td>\n",
       "      <td>...</td>\n",
       "      <td>...</td>\n",
       "      <td>...</td>\n",
       "      <td>...</td>\n",
       "      <td>...</td>\n",
       "      <td>...</td>\n",
       "      <td>...</td>\n",
       "    </tr>\n",
       "    <tr>\n",
       "      <th>g-767</th>\n",
       "      <td>-0.052622</td>\n",
       "      <td>-0.003378</td>\n",
       "      <td>-0.053149</td>\n",
       "      <td>-0.179370</td>\n",
       "      <td>0.124425</td>\n",
       "      <td>-0.081016</td>\n",
       "      <td>-0.000886</td>\n",
       "      <td>0.137336</td>\n",
       "      <td>-0.101191</td>\n",
       "      <td>-0.013157</td>\n",
       "      <td>...</td>\n",
       "      <td>-0.010391</td>\n",
       "      <td>-0.180252</td>\n",
       "      <td>0.003976</td>\n",
       "      <td>-0.027425</td>\n",
       "      <td>0.153722</td>\n",
       "      <td>1.000000</td>\n",
       "      <td>-0.048393</td>\n",
       "      <td>0.065450</td>\n",
       "      <td>0.008603</td>\n",
       "      <td>-0.001136</td>\n",
       "    </tr>\n",
       "    <tr>\n",
       "      <th>g-768</th>\n",
       "      <td>0.300241</td>\n",
       "      <td>-0.030756</td>\n",
       "      <td>0.115415</td>\n",
       "      <td>0.028452</td>\n",
       "      <td>0.115579</td>\n",
       "      <td>-0.139000</td>\n",
       "      <td>-0.005791</td>\n",
       "      <td>-0.419437</td>\n",
       "      <td>-0.209968</td>\n",
       "      <td>-0.291836</td>\n",
       "      <td>...</td>\n",
       "      <td>0.077292</td>\n",
       "      <td>0.000048</td>\n",
       "      <td>0.403211</td>\n",
       "      <td>0.241509</td>\n",
       "      <td>-0.250512</td>\n",
       "      <td>-0.048393</td>\n",
       "      <td>1.000000</td>\n",
       "      <td>0.079364</td>\n",
       "      <td>-0.382607</td>\n",
       "      <td>0.351651</td>\n",
       "    </tr>\n",
       "    <tr>\n",
       "      <th>g-769</th>\n",
       "      <td>-0.127375</td>\n",
       "      <td>-0.006866</td>\n",
       "      <td>0.014489</td>\n",
       "      <td>-0.206077</td>\n",
       "      <td>-0.172727</td>\n",
       "      <td>-0.068537</td>\n",
       "      <td>-0.278587</td>\n",
       "      <td>-0.082554</td>\n",
       "      <td>0.268571</td>\n",
       "      <td>0.037013</td>\n",
       "      <td>...</td>\n",
       "      <td>0.020662</td>\n",
       "      <td>0.071082</td>\n",
       "      <td>0.013235</td>\n",
       "      <td>0.021152</td>\n",
       "      <td>0.151940</td>\n",
       "      <td>0.065450</td>\n",
       "      <td>0.079364</td>\n",
       "      <td>1.000000</td>\n",
       "      <td>0.135853</td>\n",
       "      <td>-0.083713</td>\n",
       "    </tr>\n",
       "    <tr>\n",
       "      <th>g-770</th>\n",
       "      <td>-0.514201</td>\n",
       "      <td>-0.095108</td>\n",
       "      <td>-0.078661</td>\n",
       "      <td>-0.002142</td>\n",
       "      <td>-0.363673</td>\n",
       "      <td>0.144631</td>\n",
       "      <td>-0.143428</td>\n",
       "      <td>0.402451</td>\n",
       "      <td>0.441011</td>\n",
       "      <td>0.415967</td>\n",
       "      <td>...</td>\n",
       "      <td>0.014331</td>\n",
       "      <td>-0.010849</td>\n",
       "      <td>-0.498222</td>\n",
       "      <td>-0.489116</td>\n",
       "      <td>0.284882</td>\n",
       "      <td>0.008603</td>\n",
       "      <td>-0.382607</td>\n",
       "      <td>0.135853</td>\n",
       "      <td>1.000000</td>\n",
       "      <td>-0.425063</td>\n",
       "    </tr>\n",
       "    <tr>\n",
       "      <th>g-771</th>\n",
       "      <td>0.405908</td>\n",
       "      <td>-0.032233</td>\n",
       "      <td>0.103985</td>\n",
       "      <td>0.058219</td>\n",
       "      <td>0.250713</td>\n",
       "      <td>-0.093237</td>\n",
       "      <td>0.075019</td>\n",
       "      <td>-0.441309</td>\n",
       "      <td>-0.450561</td>\n",
       "      <td>-0.295420</td>\n",
       "      <td>...</td>\n",
       "      <td>0.076596</td>\n",
       "      <td>-0.085319</td>\n",
       "      <td>0.426342</td>\n",
       "      <td>0.337007</td>\n",
       "      <td>-0.249602</td>\n",
       "      <td>-0.001136</td>\n",
       "      <td>0.351651</td>\n",
       "      <td>-0.083713</td>\n",
       "      <td>-0.425063</td>\n",
       "      <td>1.000000</td>\n",
       "    </tr>\n",
       "  </tbody>\n",
       "</table>\n",
       "<p>772 rows × 772 columns</p>\n",
       "</div>"
      ],
      "text/plain": [
       "            g-0       g-1       g-2       g-3       g-4       g-5       g-6  \\\n",
       "g-0    1.000000  0.086032  0.176188  0.011266  0.403153 -0.165478  0.238348   \n",
       "g-1    0.086032  1.000000 -0.054518 -0.027855  0.193647 -0.151590 -0.122541   \n",
       "g-2    0.176188 -0.054518  1.000000  0.042633  0.013968  0.018516  0.015190   \n",
       "g-3    0.011266 -0.027855  0.042633  1.000000 -0.033039  0.042231 -0.043177   \n",
       "g-4    0.403153  0.193647  0.013968 -0.033039  1.000000 -0.057449  0.206405   \n",
       "...         ...       ...       ...       ...       ...       ...       ...   \n",
       "g-767 -0.052622 -0.003378 -0.053149 -0.179370  0.124425 -0.081016 -0.000886   \n",
       "g-768  0.300241 -0.030756  0.115415  0.028452  0.115579 -0.139000 -0.005791   \n",
       "g-769 -0.127375 -0.006866  0.014489 -0.206077 -0.172727 -0.068537 -0.278587   \n",
       "g-770 -0.514201 -0.095108 -0.078661 -0.002142 -0.363673  0.144631 -0.143428   \n",
       "g-771  0.405908 -0.032233  0.103985  0.058219  0.250713 -0.093237  0.075019   \n",
       "\n",
       "            g-7       g-8       g-9  ...     g-762     g-763     g-764  \\\n",
       "g-0   -0.374451 -0.604212 -0.428779  ...  0.005085 -0.239410  0.548401   \n",
       "g-1    0.144537 -0.009973 -0.047558  ... -0.205998  0.060051  0.115071   \n",
       "g-2   -0.144205 -0.128029 -0.081332  ...  0.090115 -0.055655  0.138085   \n",
       "g-3   -0.175692 -0.086167 -0.014052  ...  0.075982  0.178422  0.016467   \n",
       "g-4   -0.032748 -0.474828 -0.274167  ... -0.023752 -0.164868  0.404440   \n",
       "...         ...       ...       ...  ...       ...       ...       ...   \n",
       "g-767  0.137336 -0.101191 -0.013157  ... -0.010391 -0.180252  0.003976   \n",
       "g-768 -0.419437 -0.209968 -0.291836  ...  0.077292  0.000048  0.403211   \n",
       "g-769 -0.082554  0.268571  0.037013  ...  0.020662  0.071082  0.013235   \n",
       "g-770  0.402451  0.441011  0.415967  ...  0.014331 -0.010849 -0.498222   \n",
       "g-771 -0.441309 -0.450561 -0.295420  ...  0.076596 -0.085319  0.426342   \n",
       "\n",
       "          g-765     g-766     g-767     g-768     g-769     g-770     g-771  \n",
       "g-0    0.425222 -0.308095 -0.052622  0.300241 -0.127375 -0.514201  0.405908  \n",
       "g-1    0.160140  0.015098 -0.003378 -0.030756 -0.006866 -0.095108 -0.032233  \n",
       "g-2    0.061574 -0.093631 -0.053149  0.115415  0.014489 -0.078661  0.103985  \n",
       "g-3   -0.089317 -0.166426 -0.179370  0.028452 -0.206077 -0.002142  0.058219  \n",
       "g-4    0.317500 -0.225094  0.124425  0.115579 -0.172727 -0.363673  0.250713  \n",
       "...         ...       ...       ...       ...       ...       ...       ...  \n",
       "g-767 -0.027425  0.153722  1.000000 -0.048393  0.065450  0.008603 -0.001136  \n",
       "g-768  0.241509 -0.250512 -0.048393  1.000000  0.079364 -0.382607  0.351651  \n",
       "g-769  0.021152  0.151940  0.065450  0.079364  1.000000  0.135853 -0.083713  \n",
       "g-770 -0.489116  0.284882  0.008603 -0.382607  0.135853  1.000000 -0.425063  \n",
       "g-771  0.337007 -0.249602 -0.001136  0.351651 -0.083713 -0.425063  1.000000  \n",
       "\n",
       "[772 rows x 772 columns]"
      ]
     },
     "execution_count": 50,
     "metadata": {},
     "output_type": "execute_result"
    }
   ],
   "source": [
    "dados.loc[:,'g-0':'g-771'].corr()"
   ]
  },
  {
   "cell_type": "code",
   "execution_count": 51,
   "metadata": {
    "id": "BCtRrze55Pl1"
   },
   "outputs": [],
   "source": [
    "corr = dados.loc[:,'g-0':'g-50'].corr()"
   ]
  },
  {
   "cell_type": "code",
   "execution_count": 52,
   "metadata": {
    "colab": {
     "base_uri": "https://localhost:8080/"
    },
    "id": "abmZOjJc3H5I",
    "outputId": "c56140e9-49fe-4ab3-c18f-78cab9a65de5"
   },
   "outputs": [
    {
     "data": {
      "text/plain": [
       "<AxesSubplot:>"
      ]
     },
     "execution_count": 52,
     "metadata": {},
     "output_type": "execute_result"
    },
    {
     "data": {
      "image/png": "[encoded data removed]",
      "text/plain": [
       "<Figure size 792x648 with 2 Axes>"
      ]
     },
     "metadata": {},
     "output_type": "display_data"
    }
   ],
   "source": [
    "import numpy as np\n",
    "\n",
    "\n",
    "# Generate a mask for the upper triangle\n",
    "mask = np.triu(np.ones_like(corr, dtype=bool))\n",
    "\n",
    "# Set up the matplotlib figure\n",
    "f, ax = plt.subplots(figsize=(11, 9))\n",
    "\n",
    "# Generate a custom diverging colormap\n",
    "cmap = sns.diverging_palette(230, 20, as_cmap=True)\n",
    "\n",
    "# Draw the heatmap with the mask and correct aspect ratio\n",
    "sns.heatmap(corr, mask=mask, cmap=cmap, center=0,\n",
    "            square=True, linewidths=.5, cbar_kws={\"shrink\": .5})"
   ]
  },
  {
   "cell_type": "code",
   "execution_count": 53,
   "metadata": {
    "id": "CHh2r7OG7DC6"
   },
   "outputs": [],
   "source": [
    "corr_celular = dados.loc[:,'c-0':'c-50'].corr()"
   ]
  },
  {
   "cell_type": "code",
   "execution_count": 54,
   "metadata": {
    "colab": {
     "base_uri": "https://localhost:8080/"
    },
    "id": "i0NRwzy56_e7",
    "outputId": "c0d2d67b-3757-4c3a-a313-f6ccc7af7070"
   },
   "outputs": [
    {
     "data": {
      "text/plain": [
       "<AxesSubplot:>"
      ]
     },
     "execution_count": 54,
     "metadata": {},
     "output_type": "execute_result"
    },
    {
     "data": {
      "image/png": "[encoded data removed]",
      "text/plain": [
       "<Figure size 792x648 with 2 Axes>"
      ]
     },
     "metadata": {},
     "output_type": "display_data"
    }
   ],
   "source": [
    "\n",
    "# Generate a mask for the upper triangle\n",
    "mask = np.triu(np.ones_like(corr_celular, dtype=bool))\n",
    "\n",
    "# Set up the matplotlib figure\n",
    "f, ax = plt.subplots(figsize=(11, 9))\n",
    "\n",
    "# Generate a custom diverging colormap\n",
    "cmap = sns.diverging_palette(230, 20, as_cmap=True)\n",
    "\n",
    "# Draw the heatmap with the mask and correct aspect ratio\n",
    "sns.heatmap(corr_celular, mask=mask, cmap=cmap, center=0,\n",
    "            square=True, linewidths=.5, cbar_kws={\"shrink\": .5})"
   ]
  },
  {
   "cell_type": "markdown",
   "metadata": {
    "id": "hg2Lz3uoYUPx"
   },
   "source": [
    "# Aula 4"
   ]
  },
  {
   "cell_type": "markdown",
   "metadata": {
    "id": "at6B8esQVKnu"
   },
   "source": [
    "Olá cientista!\n",
    "\n",
    "Seja bem vindo e bem vinda à aula 04!\n",
    "\n",
    "Na aula passada, exploramos a relação e a correlação entre nossas variáveis. \n",
    "Estudamos a função ```crosstab```, gráfico de dispersão, linha de tendência, correlação entre variáveis e mapa de calor. Puxa, foi muita coisa!\n",
    "\n",
    "Você conseguiur resolver os desafios que o Guilherme, o Thiago e a Vanessa deixaram pra vocês? Esperamos que sim porque hoje, vamos mergulhar na nossa penúltima aula!\n",
    "\n",
    "A primeira coisa que vamos fazer para essa aula é abrir a nossa outra base de dados. Para baixá-la vamos acessar o github para copiarmos o link do arquivo. No repositório nós temos dois arquivos: os dados_experimentos.zip e o dados_arquivos.csv. Nós vamos agora trabalhar com os dados_arquivos.csv.\n",
    "\n",
    "Vamos clicar com o botão esquerdo; assim que ele abrir, vamos clicar na opção \"View raw\" com o botão direito, e selecionar a opção \"copiar endereço do link\".\n",
    "\n",
    "Vamos importar o pandas(caso você não tenha importado ainda) para nos ajudar a ler essa base de dados, através do seguinte código:"
   ]
  },
  {
   "cell_type": "code",
   "execution_count": 57,
   "metadata": {
    "colab": {
     "base_uri": "https://localhost:8080/",
     "height": 261
    },
    "id": "CEHxcFL_YTuv",
    "outputId": "ca37719c-1710-4c4a-e368-e97bfa446253"
   },
   "outputs": [
    {
     "data": {
      "text/html": [
       "<div>\n",
       "<style scoped>\n",
       "    .dataframe tbody tr th:only-of-type {\n",
       "        vertical-align: middle;\n",
       "    }\n",
       "\n",
       "    .dataframe tbody tr th {\n",
       "        vertical-align: top;\n",
       "    }\n",
       "\n",
       "    .dataframe thead th {\n",
       "        text-align: right;\n",
       "    }\n",
       "</style>\n",
       "<table border=\"1\" class=\"dataframe\">\n",
       "  <thead>\n",
       "    <tr style=\"text-align: right;\">\n",
       "      <th></th>\n",
       "      <th>id</th>\n",
       "      <th>5-alpha_reductase_inhibitor</th>\n",
       "      <th>11-beta-hsd1_inhibitor</th>\n",
       "      <th>acat_inhibitor</th>\n",
       "      <th>acetylcholine_receptor_agonist</th>\n",
       "      <th>acetylcholine_receptor_antagonist</th>\n",
       "      <th>acetylcholinesterase_inhibitor</th>\n",
       "      <th>adenosine_receptor_agonist</th>\n",
       "      <th>adenosine_receptor_antagonist</th>\n",
       "      <th>adenylyl_cyclase_activator</th>\n",
       "      <th>...</th>\n",
       "      <th>tropomyosin_receptor_kinase_inhibitor</th>\n",
       "      <th>trpv_agonist</th>\n",
       "      <th>trpv_antagonist</th>\n",
       "      <th>tubulin_inhibitor</th>\n",
       "      <th>tyrosine_kinase_inhibitor</th>\n",
       "      <th>ubiquitin_specific_protease_inhibitor</th>\n",
       "      <th>vegfr_inhibitor</th>\n",
       "      <th>vitamin_b</th>\n",
       "      <th>vitamin_d_receptor_agonist</th>\n",
       "      <th>wnt_inhibitor</th>\n",
       "    </tr>\n",
       "  </thead>\n",
       "  <tbody>\n",
       "    <tr>\n",
       "      <th>0</th>\n",
       "      <td>id_000644bb2</td>\n",
       "      <td>0</td>\n",
       "      <td>0</td>\n",
       "      <td>0</td>\n",
       "      <td>0</td>\n",
       "      <td>0</td>\n",
       "      <td>0</td>\n",
       "      <td>0</td>\n",
       "      <td>0</td>\n",
       "      <td>0</td>\n",
       "      <td>...</td>\n",
       "      <td>0</td>\n",
       "      <td>0</td>\n",
       "      <td>0</td>\n",
       "      <td>0</td>\n",
       "      <td>0</td>\n",
       "      <td>0</td>\n",
       "      <td>0</td>\n",
       "      <td>0</td>\n",
       "      <td>0</td>\n",
       "      <td>0</td>\n",
       "    </tr>\n",
       "    <tr>\n",
       "      <th>1</th>\n",
       "      <td>id_000779bfc</td>\n",
       "      <td>0</td>\n",
       "      <td>0</td>\n",
       "      <td>0</td>\n",
       "      <td>0</td>\n",
       "      <td>0</td>\n",
       "      <td>0</td>\n",
       "      <td>0</td>\n",
       "      <td>0</td>\n",
       "      <td>0</td>\n",
       "      <td>...</td>\n",
       "      <td>0</td>\n",
       "      <td>0</td>\n",
       "      <td>0</td>\n",
       "      <td>0</td>\n",
       "      <td>0</td>\n",
       "      <td>0</td>\n",
       "      <td>0</td>\n",
       "      <td>0</td>\n",
       "      <td>0</td>\n",
       "      <td>0</td>\n",
       "    </tr>\n",
       "    <tr>\n",
       "      <th>2</th>\n",
       "      <td>id_000a6266a</td>\n",
       "      <td>0</td>\n",
       "      <td>0</td>\n",
       "      <td>0</td>\n",
       "      <td>0</td>\n",
       "      <td>0</td>\n",
       "      <td>0</td>\n",
       "      <td>0</td>\n",
       "      <td>0</td>\n",
       "      <td>0</td>\n",
       "      <td>...</td>\n",
       "      <td>0</td>\n",
       "      <td>0</td>\n",
       "      <td>0</td>\n",
       "      <td>0</td>\n",
       "      <td>0</td>\n",
       "      <td>0</td>\n",
       "      <td>0</td>\n",
       "      <td>0</td>\n",
       "      <td>0</td>\n",
       "      <td>0</td>\n",
       "    </tr>\n",
       "    <tr>\n",
       "      <th>3</th>\n",
       "      <td>id_0015fd391</td>\n",
       "      <td>0</td>\n",
       "      <td>0</td>\n",
       "      <td>0</td>\n",
       "      <td>0</td>\n",
       "      <td>0</td>\n",
       "      <td>0</td>\n",
       "      <td>0</td>\n",
       "      <td>0</td>\n",
       "      <td>0</td>\n",
       "      <td>...</td>\n",
       "      <td>0</td>\n",
       "      <td>0</td>\n",
       "      <td>0</td>\n",
       "      <td>0</td>\n",
       "      <td>0</td>\n",
       "      <td>0</td>\n",
       "      <td>0</td>\n",
       "      <td>0</td>\n",
       "      <td>0</td>\n",
       "      <td>0</td>\n",
       "    </tr>\n",
       "    <tr>\n",
       "      <th>4</th>\n",
       "      <td>id_001626bd3</td>\n",
       "      <td>0</td>\n",
       "      <td>0</td>\n",
       "      <td>0</td>\n",
       "      <td>0</td>\n",
       "      <td>0</td>\n",
       "      <td>0</td>\n",
       "      <td>0</td>\n",
       "      <td>0</td>\n",
       "      <td>0</td>\n",
       "      <td>...</td>\n",
       "      <td>0</td>\n",
       "      <td>0</td>\n",
       "      <td>0</td>\n",
       "      <td>0</td>\n",
       "      <td>0</td>\n",
       "      <td>0</td>\n",
       "      <td>0</td>\n",
       "      <td>0</td>\n",
       "      <td>0</td>\n",
       "      <td>0</td>\n",
       "    </tr>\n",
       "  </tbody>\n",
       "</table>\n",
       "<p>5 rows × 207 columns</p>\n",
       "</div>"
      ],
      "text/plain": [
       "             id  5-alpha_reductase_inhibitor  11-beta-hsd1_inhibitor  \\\n",
       "0  id_000644bb2                            0                       0   \n",
       "1  id_000779bfc                            0                       0   \n",
       "2  id_000a6266a                            0                       0   \n",
       "3  id_0015fd391                            0                       0   \n",
       "4  id_001626bd3                            0                       0   \n",
       "\n",
       "   acat_inhibitor  acetylcholine_receptor_agonist  \\\n",
       "0               0                               0   \n",
       "1               0                               0   \n",
       "2               0                               0   \n",
       "3               0                               0   \n",
       "4               0                               0   \n",
       "\n",
       "   acetylcholine_receptor_antagonist  acetylcholinesterase_inhibitor  \\\n",
       "0                                  0                               0   \n",
       "1                                  0                               0   \n",
       "2                                  0                               0   \n",
       "3                                  0                               0   \n",
       "4                                  0                               0   \n",
       "\n",
       "   adenosine_receptor_agonist  adenosine_receptor_antagonist  \\\n",
       "0                           0                              0   \n",
       "1                           0                              0   \n",
       "2                           0                              0   \n",
       "3                           0                              0   \n",
       "4                           0                              0   \n",
       "\n",
       "   adenylyl_cyclase_activator  ...  tropomyosin_receptor_kinase_inhibitor  \\\n",
       "0                           0  ...                                      0   \n",
       "1                           0  ...                                      0   \n",
       "2                           0  ...                                      0   \n",
       "3                           0  ...                                      0   \n",
       "4                           0  ...                                      0   \n",
       "\n",
       "   trpv_agonist  trpv_antagonist  tubulin_inhibitor  \\\n",
       "0             0                0                  0   \n",
       "1             0                0                  0   \n",
       "2             0                0                  0   \n",
       "3             0                0                  0   \n",
       "4             0                0                  0   \n",
       "\n",
       "   tyrosine_kinase_inhibitor  ubiquitin_specific_protease_inhibitor  \\\n",
       "0                          0                                      0   \n",
       "1                          0                                      0   \n",
       "2                          0                                      0   \n",
       "3                          0                                      0   \n",
       "4                          0                                      0   \n",
       "\n",
       "   vegfr_inhibitor  vitamin_b  vitamin_d_receptor_agonist  wnt_inhibitor  \n",
       "0                0          0                           0              0  \n",
       "1                0          0                           0              0  \n",
       "2                0          0                           0              0  \n",
       "3                0          0                           0              0  \n",
       "4                0          0                           0              0  \n",
       "\n",
       "[5 rows x 207 columns]"
      ]
     },
     "execution_count": 57,
     "metadata": {},
     "output_type": "execute_result"
    }
   ],
   "source": [
    "#dados_resultados = pd.read_csv('https://github.com/alura-cursos/imersaodados3/blob/main/dados/dados_resultados.csv?raw=true')\n",
    "dados_resultados = pd.read_csv(\"dados/dados_resultados.csv\")\n",
    "dados_resultados.head()"
   ]
  },
  {
   "cell_type": "markdown",
   "metadata": {
    "id": "Wv7yFk6bVddQ"
   },
   "source": [
    "Repare que ele já mostra pra gente o número de colunas: 877. Ou seja, é um dataset bem extenso.\n",
    "\n",
    "Vamos começar a analisar as colunas. A primeria coluna tem o nome de \"id\", o que nos remete a um identificador. Além disso, as seguintes colunas possuem nomes bem complexos. Não são nomes muito descritivos para quem não é da área.\n",
    "\n",
    "Com a ajuda da Vanessa, descobrimos que esses nomes remetem aos mecanismos de ação das drogas. Ou seja, esses dados nos trazem a relação do mecanismo de ação do alvo (enzima, proteína, etc) com a droga utilizada. Ela também explicou sobre os termos \"agonista\" e \"antiagonista\", que ativam o receptor e o bloqueiam, respectivamente.\n",
    "\n",
    "Nesse ponto a Vanessa nos explica numa apresentação como funciona a ligação do spike com o receptor e todo o procedimento de infecção nas nossas células.\n",
    "\n",
    "Agora já sabemos que cada coluna do nosso dataframe representa um mecanismo de ação. Olhando para nosso cabeçalho percebemos que temos praticamente todos os dados com o valor 0. Será que todos os dados da tabela tem esse valor? Vamos investigar!"
   ]
  },
  {
   "cell_type": "code",
   "execution_count": 58,
   "metadata": {
    "colab": {
     "base_uri": "https://localhost:8080/"
    },
    "id": "SAXgKy4QbjDn",
    "outputId": "039699a8-404a-464c-9216-4d7861ba97c0"
   },
   "outputs": [
    {
     "data": {
      "text/plain": [
       "array([0, 1])"
      ]
     },
     "execution_count": 58,
     "metadata": {},
     "output_type": "execute_result"
    }
   ],
   "source": [
    "dados_resultados['acetylcholine_receptor_agonist'].unique()"
   ]
  },
  {
   "cell_type": "markdown",
   "metadata": {
    "id": "ZjPedtNHKH7D"
   },
   "source": [
    "Olha só! Nosso resultado foi um array entre 0 e 1. Se você quiser fazer um teste com todos os outros mecanismos de ação também encontrará o resultado entre 0 e 1. Mas por que isso acontece?\n",
    "\n",
    "Cada linha é o resultado do experimento da outra base de dados dos experimentos que trabalhamos. Quando um determinado mecanismo de ação é ativado ele é indicado como 1. Quando esse mecanismo de ação não é ativado ele é detectado como 0.\n",
    "\n",
    "Portanto, todo resultado que obtivermos o número 1, saberemos que ele foi ativado.\n",
    "\n",
    "Vamos fazer uma investigação agora que pode ser muito interessante para o cientista que está trabalhando nesse projeto: qual foi o mecanismo de ação que foi mais ativado?\n",
    "\n",
    "Vamos então fazer a soma das colunas, para saber qual vai ser o que apresenta mais o número 1. Mas antes vamos verificar se todas as minhas colunas possuem somente números ou se possuem strings também nelas, através desse código:"
   ]
  },
  {
   "cell_type": "code",
   "execution_count": 59,
   "metadata": {
    "colab": {
     "base_uri": "https://localhost:8080/"
    },
    "id": "WV3a0L6zdXXf",
    "outputId": "5be712b4-2f03-41a3-aadc-d47ebc794a60"
   },
   "outputs": [
    {
     "name": "stdout",
     "output_type": "stream",
     "text": [
      "<class 'pandas.core.frame.DataFrame'>\n",
      "RangeIndex: 23814 entries, 0 to 23813\n",
      "Columns: 207 entries, id to wnt_inhibitor\n",
      "dtypes: int64(206), object(1)\n",
      "memory usage: 37.6+ MB\n"
     ]
    }
   ],
   "source": [
    "dados_resultados.info()"
   ]
  },
  {
   "cell_type": "markdown",
   "metadata": {
    "id": "VVS__zNtM4sC"
   },
   "source": [
    "Vimos que uma delas apresenta como resultado 1 objeto. Ou seja, não conseguiremos aplicar a função soma de forma direta.\n",
    "\n",
    "Vamos então fazer essa soma excluindo a coluna id, que possui dados diferentes de números em sua composição, da seguinte maneira:"
   ]
  },
  {
   "cell_type": "code",
   "execution_count": 60,
   "metadata": {
    "colab": {
     "base_uri": "https://localhost:8080/"
    },
    "id": "wBa8ABGrcc1t",
    "outputId": "56a8c58a-92ee-40e8-b7b3-e1f87420f29c"
   },
   "outputs": [
    {
     "data": {
      "text/plain": [
       "nfkb_inhibitor                                832\n",
       "proteasome_inhibitor                          726\n",
       "cyclooxygenase_inhibitor                      435\n",
       "dopamine_receptor_antagonist                  424\n",
       "serotonin_receptor_antagonist                 404\n",
       "                                             ... \n",
       "elastase_inhibitor                              6\n",
       "steroid                                         6\n",
       "atm_kinase_inhibitor                            6\n",
       "erbb2_inhibitor                                 1\n",
       "atp-sensitive_potassium_channel_antagonist      1\n",
       "Length: 206, dtype: int64"
      ]
     },
     "execution_count": 60,
     "metadata": {},
     "output_type": "execute_result"
    }
   ],
   "source": [
    "contagem_moa = dados_resultados.drop('id', axis=1).sum().sort_values(ascending=False)\n",
    "contagem_moa"
   ]
  },
  {
   "cell_type": "markdown",
   "metadata": {
    "id": "fF8c4vBFNYHJ"
   },
   "source": [
    "Legal. No resultado há uma informação que nos chama a atenção: os inibidores, no topo do nosso resultado, são os que possuem maior quantidade de resultados positivos. Seria um ponto a se investigar.\n",
    "\n",
    "Então aqui vamos ter o nosso primeiro desafio da aula 4. Lembrando que todos os desafios estão no final desse notebook da aula.\n",
    "\n"
   ]
  },
  {
   "cell_type": "markdown",
   "metadata": {
    "id": "iBFkVtI0VB5o"
   },
   "source": [
    "Nós fizemos uma contagem para saber onde o mecanismo de ação obteve mais respostas; agora vamos fazer outros testes.\n",
    "\n",
    "Vamos verificar se a linha específica que vamos escolher foi ativada em algum momento. E, se ela foi ativada, quantas vezes isso ocorreu?\n",
    "\n",
    "Utilizaremos o seguinte código:"
   ]
  },
  {
   "cell_type": "code",
   "execution_count": 61,
   "metadata": {
    "colab": {
     "base_uri": "https://localhost:8080/"
    },
    "id": "9B5ZPzLbezz9",
    "outputId": "cff03071-9241-418a-bcd3-059d54b0c56e"
   },
   "outputs": [
    {
     "data": {
      "text/plain": [
       "0        1\n",
       "1        0\n",
       "2        3\n",
       "3        0\n",
       "4        1\n",
       "        ..\n",
       "23809    1\n",
       "23810    1\n",
       "23811    0\n",
       "23812    1\n",
       "23813    0\n",
       "Length: 23814, dtype: int64"
      ]
     },
     "execution_count": 61,
     "metadata": {},
     "output_type": "execute_result"
    }
   ],
   "source": [
    "dados_resultados.drop('id', axis=1).sum(axis=1)"
   ]
  },
  {
   "cell_type": "markdown",
   "metadata": {
    "id": "HPH4fhrNXiHY"
   },
   "source": [
    "E aqui temos o nosso resultado. Na primeira linha tivemos uma única ativação. Já na segunda não obtivemos nenhuma. Na terceira tivemos 3, e assim por diante. Nesse que tivemos a resposta como 0, precisaríamos saber se foi um controle, ou se realmente a droga não ativou nenhuma resposta.\n",
    "\n",
    "Aqui embaixo temos os nossos dados dos resultados:\n"
   ]
  },
  {
   "cell_type": "code",
   "execution_count": 64,
   "metadata": {
    "colab": {
     "base_uri": "https://localhost:8080/",
     "height": 261
    },
    "id": "w2bhDXghgnQM",
    "outputId": "6a9837d1-3c4c-425c-fb14-07224bf9d789"
   },
   "outputs": [
    {
     "data": {
      "text/html": [
       "<div>\n",
       "<style scoped>\n",
       "    .dataframe tbody tr th:only-of-type {\n",
       "        vertical-align: middle;\n",
       "    }\n",
       "\n",
       "    .dataframe tbody tr th {\n",
       "        vertical-align: top;\n",
       "    }\n",
       "\n",
       "    .dataframe thead th {\n",
       "        text-align: right;\n",
       "    }\n",
       "</style>\n",
       "<table border=\"1\" class=\"dataframe\">\n",
       "  <thead>\n",
       "    <tr style=\"text-align: right;\">\n",
       "      <th></th>\n",
       "      <th>id</th>\n",
       "      <th>5-alpha_reductase_inhibitor</th>\n",
       "      <th>11-beta-hsd1_inhibitor</th>\n",
       "      <th>acat_inhibitor</th>\n",
       "      <th>acetylcholine_receptor_agonist</th>\n",
       "      <th>acetylcholine_receptor_antagonist</th>\n",
       "      <th>acetylcholinesterase_inhibitor</th>\n",
       "      <th>adenosine_receptor_agonist</th>\n",
       "      <th>adenosine_receptor_antagonist</th>\n",
       "      <th>adenylyl_cyclase_activator</th>\n",
       "      <th>...</th>\n",
       "      <th>tropomyosin_receptor_kinase_inhibitor</th>\n",
       "      <th>trpv_agonist</th>\n",
       "      <th>trpv_antagonist</th>\n",
       "      <th>tubulin_inhibitor</th>\n",
       "      <th>tyrosine_kinase_inhibitor</th>\n",
       "      <th>ubiquitin_specific_protease_inhibitor</th>\n",
       "      <th>vegfr_inhibitor</th>\n",
       "      <th>vitamin_b</th>\n",
       "      <th>vitamin_d_receptor_agonist</th>\n",
       "      <th>wnt_inhibitor</th>\n",
       "    </tr>\n",
       "  </thead>\n",
       "  <tbody>\n",
       "    <tr>\n",
       "      <th>0</th>\n",
       "      <td>id_000644bb2</td>\n",
       "      <td>0</td>\n",
       "      <td>0</td>\n",
       "      <td>0</td>\n",
       "      <td>0</td>\n",
       "      <td>0</td>\n",
       "      <td>0</td>\n",
       "      <td>0</td>\n",
       "      <td>0</td>\n",
       "      <td>0</td>\n",
       "      <td>...</td>\n",
       "      <td>0</td>\n",
       "      <td>0</td>\n",
       "      <td>0</td>\n",
       "      <td>0</td>\n",
       "      <td>0</td>\n",
       "      <td>0</td>\n",
       "      <td>0</td>\n",
       "      <td>0</td>\n",
       "      <td>0</td>\n",
       "      <td>0</td>\n",
       "    </tr>\n",
       "    <tr>\n",
       "      <th>1</th>\n",
       "      <td>id_000779bfc</td>\n",
       "      <td>0</td>\n",
       "      <td>0</td>\n",
       "      <td>0</td>\n",
       "      <td>0</td>\n",
       "      <td>0</td>\n",
       "      <td>0</td>\n",
       "      <td>0</td>\n",
       "      <td>0</td>\n",
       "      <td>0</td>\n",
       "      <td>...</td>\n",
       "      <td>0</td>\n",
       "      <td>0</td>\n",
       "      <td>0</td>\n",
       "      <td>0</td>\n",
       "      <td>0</td>\n",
       "      <td>0</td>\n",
       "      <td>0</td>\n",
       "      <td>0</td>\n",
       "      <td>0</td>\n",
       "      <td>0</td>\n",
       "    </tr>\n",
       "    <tr>\n",
       "      <th>2</th>\n",
       "      <td>id_000a6266a</td>\n",
       "      <td>0</td>\n",
       "      <td>0</td>\n",
       "      <td>0</td>\n",
       "      <td>0</td>\n",
       "      <td>0</td>\n",
       "      <td>0</td>\n",
       "      <td>0</td>\n",
       "      <td>0</td>\n",
       "      <td>0</td>\n",
       "      <td>...</td>\n",
       "      <td>0</td>\n",
       "      <td>0</td>\n",
       "      <td>0</td>\n",
       "      <td>0</td>\n",
       "      <td>0</td>\n",
       "      <td>0</td>\n",
       "      <td>0</td>\n",
       "      <td>0</td>\n",
       "      <td>0</td>\n",
       "      <td>0</td>\n",
       "    </tr>\n",
       "    <tr>\n",
       "      <th>3</th>\n",
       "      <td>id_0015fd391</td>\n",
       "      <td>0</td>\n",
       "      <td>0</td>\n",
       "      <td>0</td>\n",
       "      <td>0</td>\n",
       "      <td>0</td>\n",
       "      <td>0</td>\n",
       "      <td>0</td>\n",
       "      <td>0</td>\n",
       "      <td>0</td>\n",
       "      <td>...</td>\n",
       "      <td>0</td>\n",
       "      <td>0</td>\n",
       "      <td>0</td>\n",
       "      <td>0</td>\n",
       "      <td>0</td>\n",
       "      <td>0</td>\n",
       "      <td>0</td>\n",
       "      <td>0</td>\n",
       "      <td>0</td>\n",
       "      <td>0</td>\n",
       "    </tr>\n",
       "    <tr>\n",
       "      <th>4</th>\n",
       "      <td>id_001626bd3</td>\n",
       "      <td>0</td>\n",
       "      <td>0</td>\n",
       "      <td>0</td>\n",
       "      <td>0</td>\n",
       "      <td>0</td>\n",
       "      <td>0</td>\n",
       "      <td>0</td>\n",
       "      <td>0</td>\n",
       "      <td>0</td>\n",
       "      <td>...</td>\n",
       "      <td>0</td>\n",
       "      <td>0</td>\n",
       "      <td>0</td>\n",
       "      <td>0</td>\n",
       "      <td>0</td>\n",
       "      <td>0</td>\n",
       "      <td>0</td>\n",
       "      <td>0</td>\n",
       "      <td>0</td>\n",
       "      <td>0</td>\n",
       "    </tr>\n",
       "  </tbody>\n",
       "</table>\n",
       "<p>5 rows × 207 columns</p>\n",
       "</div>"
      ],
      "text/plain": [
       "             id  5-alpha_reductase_inhibitor  11-beta-hsd1_inhibitor  \\\n",
       "0  id_000644bb2                            0                       0   \n",
       "1  id_000779bfc                            0                       0   \n",
       "2  id_000a6266a                            0                       0   \n",
       "3  id_0015fd391                            0                       0   \n",
       "4  id_001626bd3                            0                       0   \n",
       "\n",
       "   acat_inhibitor  acetylcholine_receptor_agonist  \\\n",
       "0               0                               0   \n",
       "1               0                               0   \n",
       "2               0                               0   \n",
       "3               0                               0   \n",
       "4               0                               0   \n",
       "\n",
       "   acetylcholine_receptor_antagonist  acetylcholinesterase_inhibitor  \\\n",
       "0                                  0                               0   \n",
       "1                                  0                               0   \n",
       "2                                  0                               0   \n",
       "3                                  0                               0   \n",
       "4                                  0                               0   \n",
       "\n",
       "   adenosine_receptor_agonist  adenosine_receptor_antagonist  \\\n",
       "0                           0                              0   \n",
       "1                           0                              0   \n",
       "2                           0                              0   \n",
       "3                           0                              0   \n",
       "4                           0                              0   \n",
       "\n",
       "   adenylyl_cyclase_activator  ...  tropomyosin_receptor_kinase_inhibitor  \\\n",
       "0                           0  ...                                      0   \n",
       "1                           0  ...                                      0   \n",
       "2                           0  ...                                      0   \n",
       "3                           0  ...                                      0   \n",
       "4                           0  ...                                      0   \n",
       "\n",
       "   trpv_agonist  trpv_antagonist  tubulin_inhibitor  \\\n",
       "0             0                0                  0   \n",
       "1             0                0                  0   \n",
       "2             0                0                  0   \n",
       "3             0                0                  0   \n",
       "4             0                0                  0   \n",
       "\n",
       "   tyrosine_kinase_inhibitor  ubiquitin_specific_protease_inhibitor  \\\n",
       "0                          0                                      0   \n",
       "1                          0                                      0   \n",
       "2                          0                                      0   \n",
       "3                          0                                      0   \n",
       "4                          0                                      0   \n",
       "\n",
       "   vegfr_inhibitor  vitamin_b  vitamin_d_receptor_agonist  wnt_inhibitor  \n",
       "0                0          0                           0              0  \n",
       "1                0          0                           0              0  \n",
       "2                0          0                           0              0  \n",
       "3                0          0                           0              0  \n",
       "4                0          0                           0              0  \n",
       "\n",
       "[5 rows x 207 columns]"
      ]
     },
     "execution_count": 64,
     "metadata": {},
     "output_type": "execute_result"
    }
   ],
   "source": [
    "dados_resultados.head()"
   ]
  },
  {
   "cell_type": "markdown",
   "metadata": {
    "id": "c9nJ-o1-itEW"
   },
   "source": [
    "E aqui temos a nossa base de dados:"
   ]
  },
  {
   "cell_type": "code",
   "execution_count": 65,
   "metadata": {
    "colab": {
     "base_uri": "https://localhost:8080/",
     "height": 244
    },
    "id": "bPHy80Lqfc3T",
    "outputId": "80930bc9-7f8d-45b3-f019-28fe5ee91d64"
   },
   "outputs": [
    {
     "data": {
      "text/html": [
       "<div>\n",
       "<style scoped>\n",
       "    .dataframe tbody tr th:only-of-type {\n",
       "        vertical-align: middle;\n",
       "    }\n",
       "\n",
       "    .dataframe tbody tr th {\n",
       "        vertical-align: top;\n",
       "    }\n",
       "\n",
       "    .dataframe thead th {\n",
       "        text-align: right;\n",
       "    }\n",
       "</style>\n",
       "<table border=\"1\" class=\"dataframe\">\n",
       "  <thead>\n",
       "    <tr style=\"text-align: right;\">\n",
       "      <th></th>\n",
       "      <th>id</th>\n",
       "      <th>tratamento</th>\n",
       "      <th>tempo</th>\n",
       "      <th>dose</th>\n",
       "      <th>composto</th>\n",
       "      <th>g-0</th>\n",
       "      <th>g-1</th>\n",
       "      <th>g-2</th>\n",
       "      <th>g-3</th>\n",
       "      <th>g-4</th>\n",
       "      <th>...</th>\n",
       "      <th>c-90</th>\n",
       "      <th>c-91</th>\n",
       "      <th>c-92</th>\n",
       "      <th>c-93</th>\n",
       "      <th>c-94</th>\n",
       "      <th>c-95</th>\n",
       "      <th>c-96</th>\n",
       "      <th>c-97</th>\n",
       "      <th>c-98</th>\n",
       "      <th>c-99</th>\n",
       "    </tr>\n",
       "  </thead>\n",
       "  <tbody>\n",
       "    <tr>\n",
       "      <th>0</th>\n",
       "      <td>id_000644bb2</td>\n",
       "      <td>com_droga</td>\n",
       "      <td>24</td>\n",
       "      <td>D1</td>\n",
       "      <td>b68db1d53</td>\n",
       "      <td>1.0620</td>\n",
       "      <td>0.5577</td>\n",
       "      <td>-0.2479</td>\n",
       "      <td>-0.6208</td>\n",
       "      <td>-0.1944</td>\n",
       "      <td>...</td>\n",
       "      <td>0.2862</td>\n",
       "      <td>0.2584</td>\n",
       "      <td>0.8076</td>\n",
       "      <td>0.5523</td>\n",
       "      <td>-0.1912</td>\n",
       "      <td>0.6584</td>\n",
       "      <td>-0.3981</td>\n",
       "      <td>0.2139</td>\n",
       "      <td>0.3801</td>\n",
       "      <td>0.4176</td>\n",
       "    </tr>\n",
       "    <tr>\n",
       "      <th>1</th>\n",
       "      <td>id_000779bfc</td>\n",
       "      <td>com_droga</td>\n",
       "      <td>72</td>\n",
       "      <td>D1</td>\n",
       "      <td>df89a8e5a</td>\n",
       "      <td>0.0743</td>\n",
       "      <td>0.4087</td>\n",
       "      <td>0.2991</td>\n",
       "      <td>0.0604</td>\n",
       "      <td>1.0190</td>\n",
       "      <td>...</td>\n",
       "      <td>-0.4265</td>\n",
       "      <td>0.7543</td>\n",
       "      <td>0.4708</td>\n",
       "      <td>0.0230</td>\n",
       "      <td>0.2957</td>\n",
       "      <td>0.4899</td>\n",
       "      <td>0.1522</td>\n",
       "      <td>0.1241</td>\n",
       "      <td>0.6077</td>\n",
       "      <td>0.7371</td>\n",
       "    </tr>\n",
       "    <tr>\n",
       "      <th>2</th>\n",
       "      <td>id_000a6266a</td>\n",
       "      <td>com_droga</td>\n",
       "      <td>48</td>\n",
       "      <td>D1</td>\n",
       "      <td>18bb41b2c</td>\n",
       "      <td>0.6280</td>\n",
       "      <td>0.5817</td>\n",
       "      <td>1.5540</td>\n",
       "      <td>-0.0764</td>\n",
       "      <td>-0.0323</td>\n",
       "      <td>...</td>\n",
       "      <td>-0.7250</td>\n",
       "      <td>-0.6297</td>\n",
       "      <td>0.6103</td>\n",
       "      <td>0.0223</td>\n",
       "      <td>-1.3240</td>\n",
       "      <td>-0.3174</td>\n",
       "      <td>-0.6417</td>\n",
       "      <td>-0.2187</td>\n",
       "      <td>-1.4080</td>\n",
       "      <td>0.6931</td>\n",
       "    </tr>\n",
       "    <tr>\n",
       "      <th>3</th>\n",
       "      <td>id_0015fd391</td>\n",
       "      <td>com_droga</td>\n",
       "      <td>48</td>\n",
       "      <td>D1</td>\n",
       "      <td>8c7f86626</td>\n",
       "      <td>-0.5138</td>\n",
       "      <td>-0.2491</td>\n",
       "      <td>-0.2656</td>\n",
       "      <td>0.5288</td>\n",
       "      <td>4.0620</td>\n",
       "      <td>...</td>\n",
       "      <td>-2.0990</td>\n",
       "      <td>-0.6441</td>\n",
       "      <td>-5.6300</td>\n",
       "      <td>-1.3780</td>\n",
       "      <td>-0.8632</td>\n",
       "      <td>-1.2880</td>\n",
       "      <td>-1.6210</td>\n",
       "      <td>-0.8784</td>\n",
       "      <td>-0.3876</td>\n",
       "      <td>-0.8154</td>\n",
       "    </tr>\n",
       "    <tr>\n",
       "      <th>4</th>\n",
       "      <td>id_001626bd3</td>\n",
       "      <td>com_droga</td>\n",
       "      <td>72</td>\n",
       "      <td>D2</td>\n",
       "      <td>7cbed3131</td>\n",
       "      <td>-0.3254</td>\n",
       "      <td>-0.4009</td>\n",
       "      <td>0.9700</td>\n",
       "      <td>0.6919</td>\n",
       "      <td>1.4180</td>\n",
       "      <td>...</td>\n",
       "      <td>0.0042</td>\n",
       "      <td>0.0048</td>\n",
       "      <td>0.6670</td>\n",
       "      <td>1.0690</td>\n",
       "      <td>0.5523</td>\n",
       "      <td>-0.3031</td>\n",
       "      <td>0.1094</td>\n",
       "      <td>0.2885</td>\n",
       "      <td>-0.3786</td>\n",
       "      <td>0.7125</td>\n",
       "    </tr>\n",
       "  </tbody>\n",
       "</table>\n",
       "<p>5 rows × 877 columns</p>\n",
       "</div>"
      ],
      "text/plain": [
       "             id tratamento  tempo dose   composto     g-0     g-1     g-2  \\\n",
       "0  id_000644bb2  com_droga     24   D1  b68db1d53  1.0620  0.5577 -0.2479   \n",
       "1  id_000779bfc  com_droga     72   D1  df89a8e5a  0.0743  0.4087  0.2991   \n",
       "2  id_000a6266a  com_droga     48   D1  18bb41b2c  0.6280  0.5817  1.5540   \n",
       "3  id_0015fd391  com_droga     48   D1  8c7f86626 -0.5138 -0.2491 -0.2656   \n",
       "4  id_001626bd3  com_droga     72   D2  7cbed3131 -0.3254 -0.4009  0.9700   \n",
       "\n",
       "      g-3     g-4  ...    c-90    c-91    c-92    c-93    c-94    c-95  \\\n",
       "0 -0.6208 -0.1944  ...  0.2862  0.2584  0.8076  0.5523 -0.1912  0.6584   \n",
       "1  0.0604  1.0190  ... -0.4265  0.7543  0.4708  0.0230  0.2957  0.4899   \n",
       "2 -0.0764 -0.0323  ... -0.7250 -0.6297  0.6103  0.0223 -1.3240 -0.3174   \n",
       "3  0.5288  4.0620  ... -2.0990 -0.6441 -5.6300 -1.3780 -0.8632 -1.2880   \n",
       "4  0.6919  1.4180  ...  0.0042  0.0048  0.6670  1.0690  0.5523 -0.3031   \n",
       "\n",
       "     c-96    c-97    c-98    c-99  \n",
       "0 -0.3981  0.2139  0.3801  0.4176  \n",
       "1  0.1522  0.1241  0.6077  0.7371  \n",
       "2 -0.6417 -0.2187 -1.4080  0.6931  \n",
       "3 -1.6210 -0.8784 -0.3876 -0.8154  \n",
       "4  0.1094  0.2885 -0.3786  0.7125  \n",
       "\n",
       "[5 rows x 877 columns]"
      ]
     },
     "execution_count": 65,
     "metadata": {},
     "output_type": "execute_result"
    }
   ],
   "source": [
    "dados.head()"
   ]
  },
  {
   "cell_type": "markdown",
   "metadata": {
    "id": "ailRL013iv5G"
   },
   "source": [
    "Na base de dados resultados não temos a informação que queremos, referente ao tratamento. Nós só temos a coluna tratamento na base de dados inteira.\n",
    "\n",
    "No tratamento só temos a coluna id, e os mecanismos de ação que foram ativados por aquela coluna. Então, agora, precisamos de alguma maneira, mesclar essas informações.\n",
    "\n",
    "Antes de fazer esse passo, de mesclar, vamos criar duas novas colunas na base de dados resultado. Vamos criar uma primeira coluna que vamos chamar de n_moa(número de moas ativos), que é justamente o que havíamos calculado anteriormente, dessa maneira:"
   ]
  },
  {
   "cell_type": "code",
   "execution_count": 66,
   "metadata": {
    "id": "HS0ZHSeTjFrr"
   },
   "outputs": [],
   "source": [
    "dados_resultados['n_moa'] = dados_resultados.drop('id', axis=1).sum(axis=1)"
   ]
  },
  {
   "cell_type": "markdown",
   "metadata": {
    "id": "g4fz70-SkKrK"
   },
   "source": [
    " Vamos então verificar se a coluna apresenta resultados diferentes de 0; se for diferente de 0 ela retorna a mensagem 'true'; se for igual a 0 retorna 'false':"
   ]
  },
  {
   "cell_type": "code",
   "execution_count": 67,
   "metadata": {
    "colab": {
     "base_uri": "https://localhost:8080/"
    },
    "id": "MNMsak-ih9PQ",
    "outputId": "f9e82e05-354a-4596-99a6-09785528b9d2"
   },
   "outputs": [
    {
     "data": {
      "text/plain": [
       "0         True\n",
       "1        False\n",
       "2         True\n",
       "3        False\n",
       "4         True\n",
       "         ...  \n",
       "23809     True\n",
       "23810     True\n",
       "23811    False\n",
       "23812     True\n",
       "23813    False\n",
       "Name: n_moa, Length: 23814, dtype: bool"
      ]
     },
     "execution_count": 67,
     "metadata": {},
     "output_type": "execute_result"
    }
   ],
   "source": [
    "dados_resultados['n_moa'] != 0"
   ]
  },
  {
   "cell_type": "markdown",
   "metadata": {
    "id": "rZCppZQ-la6x"
   },
   "source": [
    "Ok, então o código para criarmos e visualizarmos as duas colunas é esse:"
   ]
  },
  {
   "cell_type": "code",
   "execution_count": 70,
   "metadata": {
    "colab": {
     "base_uri": "https://localhost:8080/",
     "height": 261
    },
    "id": "bba-i1D8hcu8",
    "outputId": "b030b9d2-14d7-4fed-bf97-31bba87fa8eb"
   },
   "outputs": [
    {
     "data": {
      "text/html": [
       "<div>\n",
       "<style scoped>\n",
       "    .dataframe tbody tr th:only-of-type {\n",
       "        vertical-align: middle;\n",
       "    }\n",
       "\n",
       "    .dataframe tbody tr th {\n",
       "        vertical-align: top;\n",
       "    }\n",
       "\n",
       "    .dataframe thead th {\n",
       "        text-align: right;\n",
       "    }\n",
       "</style>\n",
       "<table border=\"1\" class=\"dataframe\">\n",
       "  <thead>\n",
       "    <tr style=\"text-align: right;\">\n",
       "      <th></th>\n",
       "      <th>id</th>\n",
       "      <th>5-alpha_reductase_inhibitor</th>\n",
       "      <th>11-beta-hsd1_inhibitor</th>\n",
       "      <th>acat_inhibitor</th>\n",
       "      <th>acetylcholine_receptor_agonist</th>\n",
       "      <th>acetylcholine_receptor_antagonist</th>\n",
       "      <th>acetylcholinesterase_inhibitor</th>\n",
       "      <th>adenosine_receptor_agonist</th>\n",
       "      <th>adenosine_receptor_antagonist</th>\n",
       "      <th>adenylyl_cyclase_activator</th>\n",
       "      <th>...</th>\n",
       "      <th>trpv_antagonist</th>\n",
       "      <th>tubulin_inhibitor</th>\n",
       "      <th>tyrosine_kinase_inhibitor</th>\n",
       "      <th>ubiquitin_specific_protease_inhibitor</th>\n",
       "      <th>vegfr_inhibitor</th>\n",
       "      <th>vitamin_b</th>\n",
       "      <th>vitamin_d_receptor_agonist</th>\n",
       "      <th>wnt_inhibitor</th>\n",
       "      <th>n_moa</th>\n",
       "      <th>ativo_moa</th>\n",
       "    </tr>\n",
       "  </thead>\n",
       "  <tbody>\n",
       "    <tr>\n",
       "      <th>0</th>\n",
       "      <td>id_000644bb2</td>\n",
       "      <td>0</td>\n",
       "      <td>0</td>\n",
       "      <td>0</td>\n",
       "      <td>0</td>\n",
       "      <td>0</td>\n",
       "      <td>0</td>\n",
       "      <td>0</td>\n",
       "      <td>0</td>\n",
       "      <td>0</td>\n",
       "      <td>...</td>\n",
       "      <td>0</td>\n",
       "      <td>0</td>\n",
       "      <td>0</td>\n",
       "      <td>0</td>\n",
       "      <td>0</td>\n",
       "      <td>0</td>\n",
       "      <td>0</td>\n",
       "      <td>0</td>\n",
       "      <td>1</td>\n",
       "      <td>True</td>\n",
       "    </tr>\n",
       "    <tr>\n",
       "      <th>1</th>\n",
       "      <td>id_000779bfc</td>\n",
       "      <td>0</td>\n",
       "      <td>0</td>\n",
       "      <td>0</td>\n",
       "      <td>0</td>\n",
       "      <td>0</td>\n",
       "      <td>0</td>\n",
       "      <td>0</td>\n",
       "      <td>0</td>\n",
       "      <td>0</td>\n",
       "      <td>...</td>\n",
       "      <td>0</td>\n",
       "      <td>0</td>\n",
       "      <td>0</td>\n",
       "      <td>0</td>\n",
       "      <td>0</td>\n",
       "      <td>0</td>\n",
       "      <td>0</td>\n",
       "      <td>0</td>\n",
       "      <td>0</td>\n",
       "      <td>False</td>\n",
       "    </tr>\n",
       "    <tr>\n",
       "      <th>2</th>\n",
       "      <td>id_000a6266a</td>\n",
       "      <td>0</td>\n",
       "      <td>0</td>\n",
       "      <td>0</td>\n",
       "      <td>0</td>\n",
       "      <td>0</td>\n",
       "      <td>0</td>\n",
       "      <td>0</td>\n",
       "      <td>0</td>\n",
       "      <td>0</td>\n",
       "      <td>...</td>\n",
       "      <td>0</td>\n",
       "      <td>0</td>\n",
       "      <td>0</td>\n",
       "      <td>0</td>\n",
       "      <td>0</td>\n",
       "      <td>0</td>\n",
       "      <td>0</td>\n",
       "      <td>0</td>\n",
       "      <td>3</td>\n",
       "      <td>True</td>\n",
       "    </tr>\n",
       "    <tr>\n",
       "      <th>3</th>\n",
       "      <td>id_0015fd391</td>\n",
       "      <td>0</td>\n",
       "      <td>0</td>\n",
       "      <td>0</td>\n",
       "      <td>0</td>\n",
       "      <td>0</td>\n",
       "      <td>0</td>\n",
       "      <td>0</td>\n",
       "      <td>0</td>\n",
       "      <td>0</td>\n",
       "      <td>...</td>\n",
       "      <td>0</td>\n",
       "      <td>0</td>\n",
       "      <td>0</td>\n",
       "      <td>0</td>\n",
       "      <td>0</td>\n",
       "      <td>0</td>\n",
       "      <td>0</td>\n",
       "      <td>0</td>\n",
       "      <td>0</td>\n",
       "      <td>False</td>\n",
       "    </tr>\n",
       "    <tr>\n",
       "      <th>4</th>\n",
       "      <td>id_001626bd3</td>\n",
       "      <td>0</td>\n",
       "      <td>0</td>\n",
       "      <td>0</td>\n",
       "      <td>0</td>\n",
       "      <td>0</td>\n",
       "      <td>0</td>\n",
       "      <td>0</td>\n",
       "      <td>0</td>\n",
       "      <td>0</td>\n",
       "      <td>...</td>\n",
       "      <td>0</td>\n",
       "      <td>0</td>\n",
       "      <td>0</td>\n",
       "      <td>0</td>\n",
       "      <td>0</td>\n",
       "      <td>0</td>\n",
       "      <td>0</td>\n",
       "      <td>0</td>\n",
       "      <td>1</td>\n",
       "      <td>True</td>\n",
       "    </tr>\n",
       "  </tbody>\n",
       "</table>\n",
       "<p>5 rows × 209 columns</p>\n",
       "</div>"
      ],
      "text/plain": [
       "             id  5-alpha_reductase_inhibitor  11-beta-hsd1_inhibitor  \\\n",
       "0  id_000644bb2                            0                       0   \n",
       "1  id_000779bfc                            0                       0   \n",
       "2  id_000a6266a                            0                       0   \n",
       "3  id_0015fd391                            0                       0   \n",
       "4  id_001626bd3                            0                       0   \n",
       "\n",
       "   acat_inhibitor  acetylcholine_receptor_agonist  \\\n",
       "0               0                               0   \n",
       "1               0                               0   \n",
       "2               0                               0   \n",
       "3               0                               0   \n",
       "4               0                               0   \n",
       "\n",
       "   acetylcholine_receptor_antagonist  acetylcholinesterase_inhibitor  \\\n",
       "0                                  0                               0   \n",
       "1                                  0                               0   \n",
       "2                                  0                               0   \n",
       "3                                  0                               0   \n",
       "4                                  0                               0   \n",
       "\n",
       "   adenosine_receptor_agonist  adenosine_receptor_antagonist  \\\n",
       "0                           0                              0   \n",
       "1                           0                              0   \n",
       "2                           0                              0   \n",
       "3                           0                              0   \n",
       "4                           0                              0   \n",
       "\n",
       "   adenylyl_cyclase_activator  ...  trpv_antagonist  tubulin_inhibitor  \\\n",
       "0                           0  ...                0                  0   \n",
       "1                           0  ...                0                  0   \n",
       "2                           0  ...                0                  0   \n",
       "3                           0  ...                0                  0   \n",
       "4                           0  ...                0                  0   \n",
       "\n",
       "   tyrosine_kinase_inhibitor  ubiquitin_specific_protease_inhibitor  \\\n",
       "0                          0                                      0   \n",
       "1                          0                                      0   \n",
       "2                          0                                      0   \n",
       "3                          0                                      0   \n",
       "4                          0                                      0   \n",
       "\n",
       "   vegfr_inhibitor  vitamin_b  vitamin_d_receptor_agonist  wnt_inhibitor  \\\n",
       "0                0          0                           0              0   \n",
       "1                0          0                           0              0   \n",
       "2                0          0                           0              0   \n",
       "3                0          0                           0              0   \n",
       "4                0          0                           0              0   \n",
       "\n",
       "   n_moa  ativo_moa  \n",
       "0      1       True  \n",
       "1      0      False  \n",
       "2      3       True  \n",
       "3      0      False  \n",
       "4      1       True  \n",
       "\n",
       "[5 rows x 209 columns]"
      ]
     },
     "execution_count": 70,
     "metadata": {},
     "output_type": "execute_result"
    }
   ],
   "source": [
    "dados_resultados['ativo_moa'] = (dados_resultados['n_moa'] != 0)\n",
    "dados_resultados.head()"
   ]
  },
  {
   "cell_type": "markdown",
   "metadata": {
    "id": "oOA4vQ6glg5l"
   },
   "source": [
    "Para visualizarmos basta ir até as duas últimas colunas que elas estarão lá."
   ]
  },
  {
   "cell_type": "markdown",
   "metadata": {
    "id": "4w-2eB_gm0o5"
   },
   "source": [
    "Agora que temos as duas colunas que queremos, vamos mesclar, ou então \"mergear\", as informações que queremos.\n",
    "\n",
    "Para isso vamos utilizar o merge do pandas, através desse código:"
   ]
  },
  {
   "cell_type": "code",
   "execution_count": 73,
   "metadata": {
    "colab": {
     "base_uri": "https://localhost:8080/",
     "height": 244
    },
    "id": "0r4V83bujiao",
    "outputId": "cdfab29f-1522-4d86-9da5-e53fb85f22a6"
   },
   "outputs": [
    {
     "data": {
      "text/html": [
       "<div>\n",
       "<style scoped>\n",
       "    .dataframe tbody tr th:only-of-type {\n",
       "        vertical-align: middle;\n",
       "    }\n",
       "\n",
       "    .dataframe tbody tr th {\n",
       "        vertical-align: top;\n",
       "    }\n",
       "\n",
       "    .dataframe thead th {\n",
       "        text-align: right;\n",
       "    }\n",
       "</style>\n",
       "<table border=\"1\" class=\"dataframe\">\n",
       "  <thead>\n",
       "    <tr style=\"text-align: right;\">\n",
       "      <th></th>\n",
       "      <th>id</th>\n",
       "      <th>tratamento</th>\n",
       "      <th>tempo</th>\n",
       "      <th>dose</th>\n",
       "      <th>composto</th>\n",
       "      <th>g-0</th>\n",
       "      <th>g-1</th>\n",
       "      <th>g-2</th>\n",
       "      <th>g-3</th>\n",
       "      <th>g-4</th>\n",
       "      <th>...</th>\n",
       "      <th>c-92</th>\n",
       "      <th>c-93</th>\n",
       "      <th>c-94</th>\n",
       "      <th>c-95</th>\n",
       "      <th>c-96</th>\n",
       "      <th>c-97</th>\n",
       "      <th>c-98</th>\n",
       "      <th>c-99</th>\n",
       "      <th>n_moa</th>\n",
       "      <th>ativo_moa</th>\n",
       "    </tr>\n",
       "  </thead>\n",
       "  <tbody>\n",
       "    <tr>\n",
       "      <th>0</th>\n",
       "      <td>id_000644bb2</td>\n",
       "      <td>com_droga</td>\n",
       "      <td>24</td>\n",
       "      <td>D1</td>\n",
       "      <td>b68db1d53</td>\n",
       "      <td>1.0620</td>\n",
       "      <td>0.5577</td>\n",
       "      <td>-0.2479</td>\n",
       "      <td>-0.6208</td>\n",
       "      <td>-0.1944</td>\n",
       "      <td>...</td>\n",
       "      <td>0.8076</td>\n",
       "      <td>0.5523</td>\n",
       "      <td>-0.1912</td>\n",
       "      <td>0.6584</td>\n",
       "      <td>-0.3981</td>\n",
       "      <td>0.2139</td>\n",
       "      <td>0.3801</td>\n",
       "      <td>0.4176</td>\n",
       "      <td>1</td>\n",
       "      <td>True</td>\n",
       "    </tr>\n",
       "    <tr>\n",
       "      <th>1</th>\n",
       "      <td>id_000779bfc</td>\n",
       "      <td>com_droga</td>\n",
       "      <td>72</td>\n",
       "      <td>D1</td>\n",
       "      <td>df89a8e5a</td>\n",
       "      <td>0.0743</td>\n",
       "      <td>0.4087</td>\n",
       "      <td>0.2991</td>\n",
       "      <td>0.0604</td>\n",
       "      <td>1.0190</td>\n",
       "      <td>...</td>\n",
       "      <td>0.4708</td>\n",
       "      <td>0.0230</td>\n",
       "      <td>0.2957</td>\n",
       "      <td>0.4899</td>\n",
       "      <td>0.1522</td>\n",
       "      <td>0.1241</td>\n",
       "      <td>0.6077</td>\n",
       "      <td>0.7371</td>\n",
       "      <td>0</td>\n",
       "      <td>False</td>\n",
       "    </tr>\n",
       "    <tr>\n",
       "      <th>2</th>\n",
       "      <td>id_000a6266a</td>\n",
       "      <td>com_droga</td>\n",
       "      <td>48</td>\n",
       "      <td>D1</td>\n",
       "      <td>18bb41b2c</td>\n",
       "      <td>0.6280</td>\n",
       "      <td>0.5817</td>\n",
       "      <td>1.5540</td>\n",
       "      <td>-0.0764</td>\n",
       "      <td>-0.0323</td>\n",
       "      <td>...</td>\n",
       "      <td>0.6103</td>\n",
       "      <td>0.0223</td>\n",
       "      <td>-1.3240</td>\n",
       "      <td>-0.3174</td>\n",
       "      <td>-0.6417</td>\n",
       "      <td>-0.2187</td>\n",
       "      <td>-1.4080</td>\n",
       "      <td>0.6931</td>\n",
       "      <td>3</td>\n",
       "      <td>True</td>\n",
       "    </tr>\n",
       "    <tr>\n",
       "      <th>3</th>\n",
       "      <td>id_0015fd391</td>\n",
       "      <td>com_droga</td>\n",
       "      <td>48</td>\n",
       "      <td>D1</td>\n",
       "      <td>8c7f86626</td>\n",
       "      <td>-0.5138</td>\n",
       "      <td>-0.2491</td>\n",
       "      <td>-0.2656</td>\n",
       "      <td>0.5288</td>\n",
       "      <td>4.0620</td>\n",
       "      <td>...</td>\n",
       "      <td>-5.6300</td>\n",
       "      <td>-1.3780</td>\n",
       "      <td>-0.8632</td>\n",
       "      <td>-1.2880</td>\n",
       "      <td>-1.6210</td>\n",
       "      <td>-0.8784</td>\n",
       "      <td>-0.3876</td>\n",
       "      <td>-0.8154</td>\n",
       "      <td>0</td>\n",
       "      <td>False</td>\n",
       "    </tr>\n",
       "    <tr>\n",
       "      <th>4</th>\n",
       "      <td>id_001626bd3</td>\n",
       "      <td>com_droga</td>\n",
       "      <td>72</td>\n",
       "      <td>D2</td>\n",
       "      <td>7cbed3131</td>\n",
       "      <td>-0.3254</td>\n",
       "      <td>-0.4009</td>\n",
       "      <td>0.9700</td>\n",
       "      <td>0.6919</td>\n",
       "      <td>1.4180</td>\n",
       "      <td>...</td>\n",
       "      <td>0.6670</td>\n",
       "      <td>1.0690</td>\n",
       "      <td>0.5523</td>\n",
       "      <td>-0.3031</td>\n",
       "      <td>0.1094</td>\n",
       "      <td>0.2885</td>\n",
       "      <td>-0.3786</td>\n",
       "      <td>0.7125</td>\n",
       "      <td>1</td>\n",
       "      <td>True</td>\n",
       "    </tr>\n",
       "  </tbody>\n",
       "</table>\n",
       "<p>5 rows × 879 columns</p>\n",
       "</div>"
      ],
      "text/plain": [
       "             id tratamento  tempo dose   composto     g-0     g-1     g-2  \\\n",
       "0  id_000644bb2  com_droga     24   D1  b68db1d53  1.0620  0.5577 -0.2479   \n",
       "1  id_000779bfc  com_droga     72   D1  df89a8e5a  0.0743  0.4087  0.2991   \n",
       "2  id_000a6266a  com_droga     48   D1  18bb41b2c  0.6280  0.5817  1.5540   \n",
       "3  id_0015fd391  com_droga     48   D1  8c7f86626 -0.5138 -0.2491 -0.2656   \n",
       "4  id_001626bd3  com_droga     72   D2  7cbed3131 -0.3254 -0.4009  0.9700   \n",
       "\n",
       "      g-3     g-4  ...    c-92    c-93    c-94    c-95    c-96    c-97  \\\n",
       "0 -0.6208 -0.1944  ...  0.8076  0.5523 -0.1912  0.6584 -0.3981  0.2139   \n",
       "1  0.0604  1.0190  ...  0.4708  0.0230  0.2957  0.4899  0.1522  0.1241   \n",
       "2 -0.0764 -0.0323  ...  0.6103  0.0223 -1.3240 -0.3174 -0.6417 -0.2187   \n",
       "3  0.5288  4.0620  ... -5.6300 -1.3780 -0.8632 -1.2880 -1.6210 -0.8784   \n",
       "4  0.6919  1.4180  ...  0.6670  1.0690  0.5523 -0.3031  0.1094  0.2885   \n",
       "\n",
       "     c-98    c-99  n_moa  ativo_moa  \n",
       "0  0.3801  0.4176      1       True  \n",
       "1  0.6077  0.7371      0      False  \n",
       "2 -1.4080  0.6931      3       True  \n",
       "3 -0.3876 -0.8154      0      False  \n",
       "4 -0.3786  0.7125      1       True  \n",
       "\n",
       "[5 rows x 879 columns]"
      ]
     },
     "execution_count": 73,
     "metadata": {},
     "output_type": "execute_result"
    }
   ],
   "source": [
    " dados_combinados = pd.merge(dados, dados_resultados[['id','n_moa', 'ativo_moa']], on='id')\n",
    " dados_combinados.head()"
   ]
  },
  {
   "cell_type": "markdown",
   "metadata": {
    "id": "reBfjtcrpvw8"
   },
   "source": [
    "Maravilha! Conseguimos agora a junção dos nossos dados de resultados com os dados de experimentos. Agora conseguimos responder a pergunta que fizemos anteriormente. No tratamento eu ativei algum moa?"
   ]
  },
  {
   "cell_type": "markdown",
   "metadata": {
    "id": "KnP6B84IqHaE"
   },
   "source": [
    "Para fazer isso vamos utilizar o método:"
   ]
  },
  {
   "cell_type": "code",
   "execution_count": 74,
   "metadata": {
    "colab": {
     "base_uri": "https://localhost:8080/"
    },
    "id": "rcU4LnVnkch6",
    "outputId": "0f026d05-338e-4d40-9fda-80b0b632b725"
   },
   "outputs": [
    {
     "data": {
      "text/plain": [
       "False    1866\n",
       "Name: ativo_moa, dtype: int64"
      ]
     },
     "execution_count": 74,
     "metadata": {},
     "output_type": "execute_result"
    }
   ],
   "source": [
    "dados_combinados.query('tratamento == \"com_controle\"' )['ativo_moa'].value_counts()"
   ]
  },
  {
   "cell_type": "markdown",
   "metadata": {
    "id": "s4YOtp4bqfFt"
   },
   "source": [
    "E obtivemos todas as respostas com o 'false'. Isso quer dizer que com controle não tivemos nenhuma resposta de algum mecanismo de ação."
   ]
  },
  {
   "cell_type": "markdown",
   "metadata": {
    "id": "nMfh6CUruZTg"
   },
   "source": [
    "Agora, será que algum tratamento que o paciente recebeu (com_droga, nesse caso) teve alguma substância que não ativou o mecanismo de ação? Vamos responder isso com a seguinte alteração no código anterior:"
   ]
  },
  {
   "cell_type": "code",
   "execution_count": 75,
   "metadata": {
    "colab": {
     "base_uri": "https://localhost:8080/"
    },
    "id": "eyBpIF8pmBrJ",
    "outputId": "84137e1e-2cac-4959-9940-3f08bd70444c"
   },
   "outputs": [
    {
     "data": {
      "text/plain": [
       "True     14447\n",
       "False     7501\n",
       "Name: ativo_moa, dtype: int64"
      ]
     },
     "execution_count": 75,
     "metadata": {},
     "output_type": "execute_result"
    }
   ],
   "source": [
    "dados_combinados.query('tratamento == \"com_droga\"' )['ativo_moa'].value_counts()"
   ]
  },
  {
   "cell_type": "markdown",
   "metadata": {
    "id": "RcJO5IuAuycz"
   },
   "source": [
    "Olha só, tivemos um resultado interessante. Vemos que 14447 tiveram mecanismos de ação, e aproximadamente 7500 não foram ativados. "
   ]
  },
  {
   "cell_type": "markdown",
   "metadata": {
    "id": "RT7fCu0eb3F0"
   },
   "source": [
    "Vamos fazer uma análise utilizando agora o boxplot, que gera uma imagem onde podemos identificar a mediana(linha central) e os quartis, entendendo assim como está a distribuição dos dados; dessa maneira vamos identificar, de forma visual, a comparação de categoria dos dados. Para isso vamos utilizar os seguintes códigos:"
   ]
  },
  {
   "cell_type": "code",
   "execution_count": 76,
   "metadata": {
    "colab": {
     "base_uri": "https://localhost:8080/",
     "height": 519
    },
    "id": "qSPy0nsImdIO",
    "outputId": "6ed5d521-f050-425f-a28b-91bdd32a584e"
   },
   "outputs": [
    {
     "data": {
      "text/plain": [
       "<AxesSubplot:xlabel='composto', ylabel='g-0'>"
      ]
     },
     "execution_count": 76,
     "metadata": {},
     "output_type": "execute_result"
    },
    {
     "data": {
      "image/png": "[encoded data removed]",
      "text/plain": [
       "<Figure size 864x576 with 1 Axes>"
      ]
     },
     "metadata": {},
     "output_type": "display_data"
    }
   ],
   "source": [
    "composto_principal = dados_combinados['composto'].value_counts().index[:5]\n",
    "plt.figure(figsize=(12,8))\n",
    "sns.boxplot(data = dados_combinados.query('composto in @composto_principal'), y= 'g-0', x='composto', hue='ativo_moa')\n"
   ]
  },
  {
   "cell_type": "markdown",
   "metadata": {
    "id": "vz5Sggy4d0AE"
   },
   "source": [
    "Analisando os boxplots, percebemos que temos algumas categorias com a mediana próxima de 0; temos outra com a mediana próxima de 5 e a outra próxima de 2.\n",
    "\n",
    "É curioso observarmos também que o 3º boxplot, da esquerda para a direita, está bem concentrado; esse composto específico é na verdade o composto que nos indica que foi \"com tratamento\".\n",
    "\n",
    "Outro ponto interessante é que o último boxplot tem um comportamento muito semelhante ao 3º; provavelmente a droga não modificou tanto assim o gene 0.\n",
    "\n",
    "Agora é com você! Faça os desafios e nos encontramos na próxima aula."
   ]
  },
  {
   "cell_type": "markdown",
   "metadata": {
    "id": "X_Lg2XTu20ND"
   },
   "source": [
    "## Aula 04"
   ]
  },
  {
   "cell_type": "markdown",
   "metadata": {
    "id": "6PZ2QAgms-V-"
   },
   "source": [
    "### Desafio 01: Encontrar o top 10, das ações do MOA (inibidor, agonista...)"
   ]
  },
  {
   "cell_type": "code",
   "execution_count": null,
   "metadata": {},
   "outputs": [],
   "source": []
  },
  {
   "cell_type": "markdown",
   "metadata": {
    "id": "ITVNag4B3c47"
   },
   "source": [
    "### Desafio 02: Criar a coluna eh_controle para quando na linha tratamento == com_controle"
   ]
  },
  {
   "cell_type": "code",
   "execution_count": null,
   "metadata": {},
   "outputs": [],
   "source": []
  },
  {
   "cell_type": "markdown",
   "metadata": {},
   "source": [
    "### Desafio 03: Criar três colunas para indicar o tempo 24, 48, 72"
   ]
  },
  {
   "cell_type": "code",
   "execution_count": null,
   "metadata": {},
   "outputs": [],
   "source": []
  },
  {
   "cell_type": "markdown",
   "metadata": {},
   "source": [
    "### Desafio 04: Estudar sobre combinações de DF https://pandas.pydata.org/pandas-docs/stable/user_guide/merging.html"
   ]
  },
  {
   "cell_type": "code",
   "execution_count": null,
   "metadata": {},
   "outputs": [],
   "source": []
  },
  {
   "cell_type": "markdown",
   "metadata": {},
   "source": [
    "### Desafio 05: Fazer análise mais detalhada considerando tempo e dose, para comparar as distribuições (Escolher uma droga e comparar com controle)"
   ]
  },
  {
   "cell_type": "code",
   "execution_count": null,
   "metadata": {},
   "outputs": [],
   "source": []
  },
  {
   "cell_type": "markdown",
   "metadata": {},
   "source": [
    "### Desafio 06: Descobrir se tem algum composto que dependendo da configuração do experimento, ativa ou não ativa algum MOA "
   ]
  },
  {
   "cell_type": "code",
   "execution_count": null,
   "metadata": {},
   "outputs": [],
   "source": []
  },
  {
   "cell_type": "markdown",
   "metadata": {},
   "source": [
    "### Desafio 07: Descobrir se tem algum composto que dependendo da configuração do experimento, ativa MOAs diferentes"
   ]
  },
  {
   "cell_type": "code",
   "execution_count": null,
   "metadata": {},
   "outputs": [],
   "source": []
  },
  {
   "cell_type": "markdown",
   "metadata": {},
   "source": [
    "### Desafio 08: Resumo do que você aprendeu com os dados"
   ]
  },
  {
   "cell_type": "code",
   "execution_count": null,
   "metadata": {},
   "outputs": [],
   "source": []
  }
 ],
 "metadata": {
  "colab": {
   "name": "Cópia de ImersaoDados_Aula-04.ipynb",
   "provenance": []
  },
  "kernelspec": {
   "display_name": "Python 3",
   "language": "python",
   "name": "python3"
  },
  "language_info": {
   "codemirror_mode": {
    "name": "ipython",
    "version": 3
   },
   "file_extension": ".py",
   "mimetype": "text/x-python",
   "name": "python",
   "nbconvert_exporter": "python",
   "pygments_lexer": "ipython3",
   "version": "3.9.4"
  }
 },
 "nbformat": 4,
 "nbformat_minor": 1
}
